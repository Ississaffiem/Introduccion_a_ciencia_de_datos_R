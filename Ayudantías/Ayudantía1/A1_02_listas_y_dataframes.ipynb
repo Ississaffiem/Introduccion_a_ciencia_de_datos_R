{
  "nbformat": 4,
  "nbformat_minor": 0,
  "metadata": {
    "colab": {
      "name": "A1_02_listas_y_dataframes.ipynb",
      "provenance": [],
      "collapsed_sections": [],
      "toc_visible": true,
      "include_colab_link": true
    },
    "kernelspec": {
      "name": "ir",
      "display_name": "R"
    }
  },
  "cells": [
    {
      "cell_type": "markdown",
      "metadata": {
        "id": "view-in-github",
        "colab_type": "text"
      },
      "source": [
        "<a href=\"https://colab.research.google.com/github/majorquev/Introduccion_a_ciencia_de_datos_R/blob/master/Ayudant%C3%ADas/Ayudant%C3%ADa1/A1_02_listas_y_dataframes.ipynb\" target=\"_parent\"><img src=\"https://colab.research.google.com/assets/colab-badge.svg\" alt=\"Open In Colab\"/></a>"
      ]
    },
    {
      "cell_type": "markdown",
      "metadata": {
        "collapsed": true,
        "id": "fgQ2azLwTpRn"
      },
      "source": [
        "# **Ayudantía 1**\n",
        "\n",
        "**Ayudante:** Bastián Aballay Leiva<br>\n",
        "**E-mail ayudante:** bastian.aballayleiva@gmail.com\n",
        "\n",
        "\n",
        "\n",
        "# **2 Listas y Dataframes**\n",
        "\n",
        "## **2.1 Listas**\n",
        "\n",
        "Hasta aquí contamos con dos tipos de objetos para almacenar datos; vectores y matrices. Sin embargo, en ambos casos se tiene la limitante de que no es posible combinar distintos tipos de datos en diferentes entradas. Un objeto que permite una mayor flexibilidad son las listas. En R, una lista es básicamente un arreglo unidimensional, donde en cada entrada es posible almacenar distintos **objetos** (los cuales a su vez pueden almacenar distintos tipos de datos (u otros objetos).\n",
        "En resumen,\n",
        "\n",
        "   * ¿Qué son?<br>\n",
        "    Arreglos unidimensionales que guardan distintos tipos de datos u objetos.<br>\n",
        "\n",
        "   * ¿Cómo se declaran?<br>\n",
        "    Se pueden declarar mediante el comando list() o combinando listas existentes. <br>\n",
        "    \n",
        "   * ¿Cómo se accede a sus elementos?<br>\n",
        "    Usando el **operador [ ]** (retorna lista), o bien usando **[ [ ] ]** (retorna el objeto) - \"squarebrackets\". \n",
        "\n",
        "    En cada caso se puede indicar la posición o nombre del objeto que se quiere rescatar.<br>\n",
        "    \n",
        "    Otra manera es mediante el símbolo $ seguido del nombre del objeto.\n",
        "\n"
      ]
    },
    {
      "cell_type": "code",
      "metadata": {
        "trusted": true,
        "id": "zZHpLzzRTpRp"
      },
      "source": [
        "# 2. Listas y dataframes ------------\n",
        "# 2.1 Listas  ------------\n",
        "# Cómo declarar una lista (comando list() )\n",
        "# num, letra, pl, mat, lista\n",
        "\n",
        "lista1 <- list(\n",
        "  num = 6,\n",
        "  letra = \"A\",\n",
        "  vector = c(10,20,30),\n",
        "  matriz = diag(8,4),\n",
        "  lista = list(a = \"hola\", b = 18)\n",
        ")"
      ],
      "execution_count": 3,
      "outputs": []
    },
    {
      "cell_type": "code",
      "metadata": {
        "id": "gYOt5W58wsEW"
      },
      "source": [
        "?str"
      ],
      "execution_count": 4,
      "outputs": []
    },
    {
      "cell_type": "code",
      "metadata": {
        "id": "_iwOQA-xTzww",
        "outputId": "2bda1fd2-2e88-4ec8-df97-f31afc6c3bac",
        "colab": {
          "base_uri": "https://localhost:8080/",
          "height": 156
        }
      },
      "source": [
        "# estructura\n",
        "str(lista1)"
      ],
      "execution_count": 5,
      "outputs": [
        {
          "output_type": "stream",
          "text": [
            "List of 5\n",
            " $ num   : num 6\n",
            " $ letra : chr \"A\"\n",
            " $ vector: num [1:3] 10 20 30\n",
            " $ matriz: num [1:4, 1:4] 8 0 0 0 0 8 0 0 0 0 ...\n",
            " $ lista :List of 2\n",
            "  ..$ a: chr \"hola\"\n",
            "  ..$ b: num 18\n"
          ],
          "name": "stdout"
        }
      ]
    },
    {
      "cell_type": "code",
      "metadata": {
        "id": "aweHrt11xYcg",
        "outputId": "f467cd6c-a7d1-4c29-ad5b-bb1b26148121",
        "colab": {
          "base_uri": "https://localhost:8080/",
          "height": 191
        }
      },
      "source": [
        "# Creamos una matriz diagonal (Algebra lineal!)\n",
        "diag(8,4)"
      ],
      "execution_count": 9,
      "outputs": [
        {
          "output_type": "display_data",
          "data": {
            "text/plain": [
              "     [,1] [,2] [,3] [,4]\n",
              "[1,] 1    0    0    0   \n",
              "[2,] 0    1    0    0   \n",
              "[3,] 0    0    1    0   \n",
              "[4,] 0    0    0    1   "
            ],
            "text/latex": "A matrix: 4 × 4 of type dbl\n\\begin{tabular}{llll}\n\t 1 & 0 & 0 & 0\\\\\n\t 0 & 1 & 0 & 0\\\\\n\t 0 & 0 & 1 & 0\\\\\n\t 0 & 0 & 0 & 1\\\\\n\\end{tabular}\n",
            "text/markdown": "\nA matrix: 4 × 4 of type dbl\n\n| 1 | 0 | 0 | 0 |\n| 0 | 1 | 0 | 0 |\n| 0 | 0 | 1 | 0 |\n| 0 | 0 | 0 | 1 |\n\n",
            "text/html": [
              "<table>\n",
              "<caption>A matrix: 4 × 4 of type dbl</caption>\n",
              "<tbody>\n",
              "\t<tr><td>1</td><td>0</td><td>0</td><td>0</td></tr>\n",
              "\t<tr><td>0</td><td>1</td><td>0</td><td>0</td></tr>\n",
              "\t<tr><td>0</td><td>0</td><td>1</td><td>0</td></tr>\n",
              "\t<tr><td>0</td><td>0</td><td>0</td><td>1</td></tr>\n",
              "</tbody>\n",
              "</table>\n"
            ]
          },
          "metadata": {
            "tags": []
          }
        }
      ]
    },
    {
      "cell_type": "code",
      "metadata": {
        "id": "dP0doaUSxAR4",
        "outputId": "f9b37b76-8684-418d-b6de-c1ce34371bec",
        "colab": {
          "base_uri": "https://localhost:8080/",
          "height": 34
        }
      },
      "source": [
        "# Obtenemos la clase del objeto\n",
        "class(lista1)"
      ],
      "execution_count": 6,
      "outputs": [
        {
          "output_type": "display_data",
          "data": {
            "text/plain": [
              "[1] \"list\""
            ],
            "text/latex": "'list'",
            "text/markdown": "'list'",
            "text/html": [
              "'list'"
            ]
          },
          "metadata": {
            "tags": []
          }
        }
      ]
    },
    {
      "cell_type": "code",
      "metadata": {
        "id": "9E8K8_Q3w8xq",
        "outputId": "0687aabe-4d99-416b-b484-f17b1c82e4a6",
        "colab": {
          "base_uri": "https://localhost:8080/",
          "height": 34
        }
      },
      "source": [
        "# para saber el largo de la lista/vector\n",
        "length(lista1)"
      ],
      "execution_count": 7,
      "outputs": [
        {
          "output_type": "display_data",
          "data": {
            "text/plain": [
              "[1] 5"
            ],
            "text/latex": "5",
            "text/markdown": "5",
            "text/html": [
              "5"
            ]
          },
          "metadata": {
            "tags": []
          }
        }
      ]
    },
    {
      "cell_type": "code",
      "metadata": {
        "id": "zaCjxWeJwpWm",
        "outputId": "1c34ffeb-b925-4639-aafe-79716717023a",
        "colab": {
          "base_uri": "https://localhost:8080/",
          "height": 34
        }
      },
      "source": [
        "# Para obtener los nombres de la lista\n",
        "names(lista1)"
      ],
      "execution_count": 10,
      "outputs": [
        {
          "output_type": "display_data",
          "data": {
            "text/plain": [
              "[1] \"num\"    \"letra\"  \"vector\" \"matriz\" \"lista\" "
            ],
            "text/latex": "\\begin{enumerate*}\n\\item 'num'\n\\item 'letra'\n\\item 'vector'\n\\item 'matriz'\n\\item 'lista'\n\\end{enumerate*}\n",
            "text/markdown": "1. 'num'\n2. 'letra'\n3. 'vector'\n4. 'matriz'\n5. 'lista'\n\n\n",
            "text/html": [
              "<style>\n",
              ".list-inline {list-style: none; margin:0; padding: 0}\n",
              ".list-inline>li {display: inline-block}\n",
              ".list-inline>li:not(:last-child)::after {content: \"\\00b7\"; padding: 0 .5ex}\n",
              "</style>\n",
              "<ol class=list-inline><li>'num'</li><li>'letra'</li><li>'vector'</li><li>'matriz'</li><li>'lista'</li></ol>\n"
            ]
          },
          "metadata": {
            "tags": []
          }
        }
      ]
    },
    {
      "cell_type": "code",
      "metadata": {
        "id": "3Sp-3bDgwMVh",
        "outputId": "ec2ee5d9-99c6-4a5e-9eb8-6a4f01900cde",
        "colab": {
          "base_uri": "https://localhost:8080/",
          "height": 115
        }
      },
      "source": [
        "# Ejemplo de una lista simple\n",
        "lista_test <- list(\"Hola\",42,TRUE)\n",
        "lista_test\n",
        "\n",
        "names(lista_test)"
      ],
      "execution_count": 12,
      "outputs": [
        {
          "output_type": "display_data",
          "data": {
            "text/plain": [
              "[[1]]\n",
              "[1] \"Hola\"\n",
              "\n",
              "[[2]]\n",
              "[1] 42\n",
              "\n",
              "[[3]]\n",
              "[1] TRUE\n"
            ],
            "text/latex": "\\begin{enumerate}\n\\item 'Hola'\n\\item 42\n\\item TRUE\n\\end{enumerate}\n",
            "text/markdown": "1. 'Hola'\n2. 42\n3. TRUE\n\n\n",
            "text/html": [
              "<ol>\n",
              "\t<li>'Hola'</li>\n",
              "\t<li>42</li>\n",
              "\t<li>TRUE</li>\n",
              "</ol>\n"
            ]
          },
          "metadata": {
            "tags": []
          }
        },
        {
          "output_type": "display_data",
          "data": {
            "text/plain": [
              "NULL"
            ]
          },
          "metadata": {
            "tags": []
          }
        }
      ]
    },
    {
      "cell_type": "code",
      "metadata": {
        "id": "KYHecBQWx7Tm",
        "outputId": "9eb332ab-06ca-4d7a-b6ba-75c7557e6e9a",
        "colab": {
          "base_uri": "https://localhost:8080/",
          "height": 156
        }
      },
      "source": [
        "str(lista1)"
      ],
      "execution_count": 14,
      "outputs": [
        {
          "output_type": "stream",
          "text": [
            "List of 5\n",
            " $ num   : num 6\n",
            " $ letra : chr \"A\"\n",
            " $ vector: num [1:3] 10 20 30\n",
            " $ matriz: num [1:4, 1:4] 8 0 0 0 0 8 0 0 0 0 ...\n",
            " $ lista :List of 2\n",
            "  ..$ a: chr \"hola\"\n",
            "  ..$ b: num 18\n"
          ],
          "name": "stdout"
        }
      ]
    },
    {
      "cell_type": "code",
      "metadata": {
        "trusted": true,
        "id": "GBuxGL4cTpR0",
        "outputId": "b8af0096-ba0e-4236-8b3e-0b18a398f4dc",
        "colab": {
          "base_uri": "https://localhost:8080/",
          "height": 271
        }
      },
      "source": [
        "# Podemos combinar listas\n",
        "lista2 <- list(\n",
        "  primos = c(2,3,5,7),\n",
        "  amigos = c(220,284)\n",
        ")\n",
        "\n",
        "# Print lista (imprime la lista de manera nativa)\n",
        "lista2\n",
        "\n",
        "# Estructura de lista\n",
        "str(lista2)\n",
        "\n",
        "# Print Lista con método print\n",
        "print(lista2)\n"
      ],
      "execution_count": 19,
      "outputs": [
        {
          "output_type": "display_data",
          "data": {
            "text/plain": [
              "$primos\n",
              "[1] 2 3 5 7\n",
              "\n",
              "$amigos\n",
              "[1] 220 284\n"
            ],
            "text/latex": "\\begin{description}\n\\item[\\$primos] \\begin{enumerate*}\n\\item 2\n\\item 3\n\\item 5\n\\item 7\n\\end{enumerate*}\n\n\\item[\\$amigos] \\begin{enumerate*}\n\\item 220\n\\item 284\n\\end{enumerate*}\n\n\\end{description}\n",
            "text/markdown": "$primos\n:   1. 2\n2. 3\n3. 5\n4. 7\n\n\n\n$amigos\n:   1. 220\n2. 284\n\n\n\n\n\n",
            "text/html": [
              "<dl>\n",
              "\t<dt>$primos</dt>\n",
              "\t\t<dd><style>\n",
              ".list-inline {list-style: none; margin:0; padding: 0}\n",
              ".list-inline>li {display: inline-block}\n",
              ".list-inline>li:not(:last-child)::after {content: \"\\00b7\"; padding: 0 .5ex}\n",
              "</style>\n",
              "<ol class=list-inline><li>2</li><li>3</li><li>5</li><li>7</li></ol>\n",
              "</dd>\n",
              "\t<dt>$amigos</dt>\n",
              "\t\t<dd><style>\n",
              ".list-inline {list-style: none; margin:0; padding: 0}\n",
              ".list-inline>li {display: inline-block}\n",
              ".list-inline>li:not(:last-child)::after {content: \"\\00b7\"; padding: 0 .5ex}\n",
              "</style>\n",
              "<ol class=list-inline><li>220</li><li>284</li></ol>\n",
              "</dd>\n",
              "</dl>\n"
            ]
          },
          "metadata": {
            "tags": []
          }
        },
        {
          "output_type": "stream",
          "text": [
            "List of 2\n",
            " $ primos: num [1:4] 2 3 5 7\n",
            " $ amigos: num [1:2] 220 284\n",
            "$primos\n",
            "[1] 2 3 5 7\n",
            "\n",
            "$amigos\n",
            "[1] 220 284\n",
            "\n"
          ],
          "name": "stdout"
        }
      ]
    },
    {
      "cell_type": "code",
      "metadata": {
        "id": "S6arrFQEx_2V",
        "outputId": "1fbc6a3c-d691-45b8-93dd-6ed1899e3568",
        "colab": {
          "base_uri": "https://localhost:8080/",
          "height": 497
        }
      },
      "source": [
        "lista3 <- c(lista1,lista2)\n",
        "\n",
        "lista3"
      ],
      "execution_count": 17,
      "outputs": [
        {
          "output_type": "display_data",
          "data": {
            "text/plain": [
              "$num\n",
              "[1] 6\n",
              "\n",
              "$letra\n",
              "[1] \"A\"\n",
              "\n",
              "$vector\n",
              "[1] 10 20 30\n",
              "\n",
              "$matriz\n",
              "     [,1] [,2] [,3] [,4]\n",
              "[1,]    8    0    0    0\n",
              "[2,]    0    8    0    0\n",
              "[3,]    0    0    8    0\n",
              "[4,]    0    0    0    8\n",
              "\n",
              "$lista\n",
              "$lista$a\n",
              "[1] \"hola\"\n",
              "\n",
              "$lista$b\n",
              "[1] 18\n",
              "\n",
              "\n",
              "$primos\n",
              "[1] 2 3 5 7\n",
              "\n",
              "$amigos\n",
              "[1] 220 284\n"
            ],
            "text/latex": "\\begin{description}\n\\item[\\$num] 6\n\\item[\\$letra] 'A'\n\\item[\\$vector] \\begin{enumerate*}\n\\item 10\n\\item 20\n\\item 30\n\\end{enumerate*}\n\n\\item[\\$matriz] A matrix: 4 × 4 of type dbl\n\\begin{tabular}{llll}\n\t 8 & 0 & 0 & 0\\\\\n\t 0 & 8 & 0 & 0\\\\\n\t 0 & 0 & 8 & 0\\\\\n\t 0 & 0 & 0 & 8\\\\\n\\end{tabular}\n\n\\item[\\$lista] \\begin{description}\n\\item[\\$a] 'hola'\n\\item[\\$b] 18\n\\end{description}\n\n\\item[\\$primos] \\begin{enumerate*}\n\\item 2\n\\item 3\n\\item 5\n\\item 7\n\\end{enumerate*}\n\n\\item[\\$amigos] \\begin{enumerate*}\n\\item 220\n\\item 284\n\\end{enumerate*}\n\n\\end{description}\n",
            "text/markdown": "$num\n:   6\n$letra\n:   'A'\n$vector\n:   1. 10\n2. 20\n3. 30\n\n\n\n$matriz\n:   \nA matrix: 4 × 4 of type dbl\n\n| 8 | 0 | 0 | 0 |\n| 0 | 8 | 0 | 0 |\n| 0 | 0 | 8 | 0 |\n| 0 | 0 | 0 | 8 |\n\n\n$lista\n:   $a\n:   'hola'\n$b\n:   18\n\n\n\n$primos\n:   1. 2\n2. 3\n3. 5\n4. 7\n\n\n\n$amigos\n:   1. 220\n2. 284\n\n\n\n\n\n",
            "text/html": [
              "<dl>\n",
              "\t<dt>$num</dt>\n",
              "\t\t<dd>6</dd>\n",
              "\t<dt>$letra</dt>\n",
              "\t\t<dd>'A'</dd>\n",
              "\t<dt>$vector</dt>\n",
              "\t\t<dd><style>\n",
              ".list-inline {list-style: none; margin:0; padding: 0}\n",
              ".list-inline>li {display: inline-block}\n",
              ".list-inline>li:not(:last-child)::after {content: \"\\00b7\"; padding: 0 .5ex}\n",
              "</style>\n",
              "<ol class=list-inline><li>10</li><li>20</li><li>30</li></ol>\n",
              "</dd>\n",
              "\t<dt>$matriz</dt>\n",
              "\t\t<dd><table>\n",
              "<caption>A matrix: 4 × 4 of type dbl</caption>\n",
              "<tbody>\n",
              "\t<tr><td>8</td><td>0</td><td>0</td><td>0</td></tr>\n",
              "\t<tr><td>0</td><td>8</td><td>0</td><td>0</td></tr>\n",
              "\t<tr><td>0</td><td>0</td><td>8</td><td>0</td></tr>\n",
              "\t<tr><td>0</td><td>0</td><td>0</td><td>8</td></tr>\n",
              "</tbody>\n",
              "</table>\n",
              "</dd>\n",
              "\t<dt>$lista</dt>\n",
              "\t\t<dd><dl>\n",
              "\t<dt>$a</dt>\n",
              "\t\t<dd>'hola'</dd>\n",
              "\t<dt>$b</dt>\n",
              "\t\t<dd>18</dd>\n",
              "</dl>\n",
              "</dd>\n",
              "\t<dt>$primos</dt>\n",
              "\t\t<dd><style>\n",
              ".list-inline {list-style: none; margin:0; padding: 0}\n",
              ".list-inline>li {display: inline-block}\n",
              ".list-inline>li:not(:last-child)::after {content: \"\\00b7\"; padding: 0 .5ex}\n",
              "</style>\n",
              "<ol class=list-inline><li>2</li><li>3</li><li>5</li><li>7</li></ol>\n",
              "</dd>\n",
              "\t<dt>$amigos</dt>\n",
              "\t\t<dd><style>\n",
              ".list-inline {list-style: none; margin:0; padding: 0}\n",
              ".list-inline>li {display: inline-block}\n",
              ".list-inline>li:not(:last-child)::after {content: \"\\00b7\"; padding: 0 .5ex}\n",
              "</style>\n",
              "<ol class=list-inline><li>220</li><li>284</li></ol>\n",
              "</dd>\n",
              "</dl>\n"
            ]
          },
          "metadata": {
            "tags": []
          }
        }
      ]
    },
    {
      "cell_type": "markdown",
      "metadata": {
        "id": "tas7VspWb85k"
      },
      "source": [
        "### **Acceso a los elementos de una lista**\n",
        "\n",
        "Al igual que un vector, una lista es un arreglo unidimensional, por lo que es esperable que herede la misma forma de acceso.\n",
        "\n",
        "#### **Acceso mediante posición**\n",
        "\n",
        "En R, para acceder al \"slot\" de una lista, podemos utilizar `[]` indicando la posición a la que queremos acceder. Notar que en R distingue el uso de `[]` y `[[]]`. Para ilustrar este comportamiento, consideremosla lista \"lista3\", donde se observa que `lista3[2]` retorna una lista, mientras que `lista3[[2]]` retorna el character \"A\"\n",
        "\n",
        "\n",
        "\n",
        "\n",
        "\n",
        "\n"
      ]
    },
    {
      "cell_type": "code",
      "metadata": {
        "id": "pW_YsDgzzrNY",
        "outputId": "c220ad3f-13fd-45b7-ad9b-318f3d946f89",
        "colab": {
          "base_uri": "https://localhost:8080/",
          "height": 191
        }
      },
      "source": [
        "str(lista3)"
      ],
      "execution_count": 21,
      "outputs": [
        {
          "output_type": "stream",
          "text": [
            "List of 7\n",
            " $ num   : num 6\n",
            " $ letra : chr \"A\"\n",
            " $ vector: num [1:3] 10 20 30\n",
            " $ matriz: num [1:4, 1:4] 8 0 0 0 0 8 0 0 0 0 ...\n",
            " $ lista :List of 2\n",
            "  ..$ a: chr \"hola\"\n",
            "  ..$ b: num 18\n",
            " $ primos: num [1:4] 2 3 5 7\n",
            " $ amigos: num [1:2] 220 284\n"
          ],
          "name": "stdout"
        }
      ]
    },
    {
      "cell_type": "code",
      "metadata": {
        "trusted": true,
        "id": "uUv7BQfnTpR3",
        "outputId": "2b88c7c7-cee6-4ff5-846a-9531e40a3a13",
        "colab": {
          "base_uri": "https://localhost:8080/",
          "height": 52
        }
      },
      "source": [
        "# Acceso mediante posición\n",
        "lista3[2] # Retorna una lista con el slot de posición 2.\n",
        "\n",
        "class(lista3[2])"
      ],
      "execution_count": 22,
      "outputs": [
        {
          "output_type": "display_data",
          "data": {
            "text/plain": [
              "$letra\n",
              "[1] \"A\"\n"
            ],
            "text/latex": "\\textbf{\\$letra} = 'A'",
            "text/markdown": "**$letra** = 'A'",
            "text/html": [
              "<strong>$letra</strong> = 'A'"
            ]
          },
          "metadata": {
            "tags": []
          }
        },
        {
          "output_type": "display_data",
          "data": {
            "text/plain": [
              "[1] \"list\""
            ],
            "text/latex": "'list'",
            "text/markdown": "'list'",
            "text/html": [
              "'list'"
            ]
          },
          "metadata": {
            "tags": []
          }
        }
      ]
    },
    {
      "cell_type": "code",
      "metadata": {
        "id": "CqPDxYy6dJWF",
        "outputId": "69117d82-020f-4c79-dc48-6e202f829e8d",
        "colab": {
          "base_uri": "https://localhost:8080/",
          "height": 52
        }
      },
      "source": [
        "# Por otro lado\n",
        "lista3[[2]] # Retorna el character \"A\"\n",
        "\n",
        "class(lista3[[2]])"
      ],
      "execution_count": 23,
      "outputs": [
        {
          "output_type": "display_data",
          "data": {
            "text/plain": [
              "[1] \"A\""
            ],
            "text/latex": "'A'",
            "text/markdown": "'A'",
            "text/html": [
              "'A'"
            ]
          },
          "metadata": {
            "tags": []
          }
        },
        {
          "output_type": "display_data",
          "data": {
            "text/plain": [
              "[1] \"character\""
            ],
            "text/latex": "'character'",
            "text/markdown": "'character'",
            "text/html": [
              "'character'"
            ]
          },
          "metadata": {
            "tags": []
          }
        }
      ]
    },
    {
      "cell_type": "code",
      "metadata": {
        "id": "-voPx7Po0UvU",
        "outputId": "59dc0838-d9c2-47b8-b75e-b7315a3da4f5",
        "colab": {
          "base_uri": "https://localhost:8080/",
          "height": 226
        }
      },
      "source": [
        "lista3[4]\n",
        "class(lista3[4])"
      ],
      "execution_count": 26,
      "outputs": [
        {
          "output_type": "display_data",
          "data": {
            "text/plain": [
              "$matriz\n",
              "     [,1] [,2] [,3] [,4]\n",
              "[1,]    8    0    0    0\n",
              "[2,]    0    8    0    0\n",
              "[3,]    0    0    8    0\n",
              "[4,]    0    0    0    8\n"
            ],
            "text/latex": "\\textbf{\\$matriz} = A matrix: 4 × 4 of type dbl\n\\begin{tabular}{llll}\n\t 8 & 0 & 0 & 0\\\\\n\t 0 & 8 & 0 & 0\\\\\n\t 0 & 0 & 8 & 0\\\\\n\t 0 & 0 & 0 & 8\\\\\n\\end{tabular}\n",
            "text/markdown": "**$matriz** = \nA matrix: 4 × 4 of type dbl\n\n| 8 | 0 | 0 | 0 |\n| 0 | 8 | 0 | 0 |\n| 0 | 0 | 8 | 0 |\n| 0 | 0 | 0 | 8 |\n\n",
            "text/html": [
              "<strong>$matriz</strong> = <table>\n",
              "<caption>A matrix: 4 × 4 of type dbl</caption>\n",
              "<tbody>\n",
              "\t<tr><td>8</td><td>0</td><td>0</td><td>0</td></tr>\n",
              "\t<tr><td>0</td><td>8</td><td>0</td><td>0</td></tr>\n",
              "\t<tr><td>0</td><td>0</td><td>8</td><td>0</td></tr>\n",
              "\t<tr><td>0</td><td>0</td><td>0</td><td>8</td></tr>\n",
              "</tbody>\n",
              "</table>\n"
            ]
          },
          "metadata": {
            "tags": []
          }
        },
        {
          "output_type": "display_data",
          "data": {
            "text/plain": [
              "[1] \"list\""
            ],
            "text/latex": "'list'",
            "text/markdown": "'list'",
            "text/html": [
              "'list'"
            ]
          },
          "metadata": {
            "tags": []
          }
        }
      ]
    },
    {
      "cell_type": "code",
      "metadata": {
        "id": "VbjSMdZJeCIp",
        "outputId": "bd182391-b87d-4e41-dbea-e4fadb508412",
        "colab": {
          "base_uri": "https://localhost:8080/",
          "height": 209
        }
      },
      "source": [
        "# Podemos combinar lo que hemos aprendido, por ejemplo, en el 4to slot hay una matriz y queremos obtener la 3ra fila #:= 0 0 8 0\n",
        "lista3[[4]]\n",
        "class(lista3[[4]])"
      ],
      "execution_count": 27,
      "outputs": [
        {
          "output_type": "display_data",
          "data": {
            "text/plain": [
              "     [,1] [,2] [,3] [,4]\n",
              "[1,] 8    0    0    0   \n",
              "[2,] 0    8    0    0   \n",
              "[3,] 0    0    8    0   \n",
              "[4,] 0    0    0    8   "
            ],
            "text/latex": "A matrix: 4 × 4 of type dbl\n\\begin{tabular}{llll}\n\t 8 & 0 & 0 & 0\\\\\n\t 0 & 8 & 0 & 0\\\\\n\t 0 & 0 & 8 & 0\\\\\n\t 0 & 0 & 0 & 8\\\\\n\\end{tabular}\n",
            "text/markdown": "\nA matrix: 4 × 4 of type dbl\n\n| 8 | 0 | 0 | 0 |\n| 0 | 8 | 0 | 0 |\n| 0 | 0 | 8 | 0 |\n| 0 | 0 | 0 | 8 |\n\n",
            "text/html": [
              "<table>\n",
              "<caption>A matrix: 4 × 4 of type dbl</caption>\n",
              "<tbody>\n",
              "\t<tr><td>8</td><td>0</td><td>0</td><td>0</td></tr>\n",
              "\t<tr><td>0</td><td>8</td><td>0</td><td>0</td></tr>\n",
              "\t<tr><td>0</td><td>0</td><td>8</td><td>0</td></tr>\n",
              "\t<tr><td>0</td><td>0</td><td>0</td><td>8</td></tr>\n",
              "</tbody>\n",
              "</table>\n"
            ]
          },
          "metadata": {
            "tags": []
          }
        },
        {
          "output_type": "display_data",
          "data": {
            "text/plain": [
              "[1] \"matrix\" \"array\" "
            ],
            "text/latex": "\\begin{enumerate*}\n\\item 'matrix'\n\\item 'array'\n\\end{enumerate*}\n",
            "text/markdown": "1. 'matrix'\n2. 'array'\n\n\n",
            "text/html": [
              "<style>\n",
              ".list-inline {list-style: none; margin:0; padding: 0}\n",
              ".list-inline>li {display: inline-block}\n",
              ".list-inline>li:not(:last-child)::after {content: \"\\00b7\"; padding: 0 .5ex}\n",
              "</style>\n",
              "<ol class=list-inline><li>'matrix'</li><li>'array'</li></ol>\n"
            ]
          },
          "metadata": {
            "tags": []
          }
        }
      ]
    },
    {
      "cell_type": "code",
      "metadata": {
        "id": "lPVqT_AT0OzQ",
        "outputId": "efc93da7-4129-4dc9-b712-c9c3da5ee495",
        "colab": {
          "base_uri": "https://localhost:8080/",
          "height": 34
        }
      },
      "source": [
        "lista3[[4]][3,] # 0 0 8 0"
      ],
      "execution_count": 28,
      "outputs": [
        {
          "output_type": "display_data",
          "data": {
            "text/plain": [
              "[1] 0 0 8 0"
            ],
            "text/latex": "\\begin{enumerate*}\n\\item 0\n\\item 0\n\\item 8\n\\item 0\n\\end{enumerate*}\n",
            "text/markdown": "1. 0\n2. 0\n3. 8\n4. 0\n\n\n",
            "text/html": [
              "<style>\n",
              ".list-inline {list-style: none; margin:0; padding: 0}\n",
              ".list-inline>li {display: inline-block}\n",
              ".list-inline>li:not(:last-child)::after {content: \"\\00b7\"; padding: 0 .5ex}\n",
              "</style>\n",
              "<ol class=list-inline><li>0</li><li>0</li><li>8</li><li>0</li></ol>\n"
            ]
          },
          "metadata": {
            "tags": []
          }
        }
      ]
    },
    {
      "cell_type": "markdown",
      "metadata": {
        "id": "aOsI7ZZDeYHP"
      },
      "source": [
        "#### **Acceso mediante nombre**\n",
        "\n",
        "Cuando una lista posee nombres, podemos acceder a sus elementos referenciando su nombre, distinguiendo, al igual que por posición, el uso de `[]` y `[[]]`\n"
      ]
    },
    {
      "cell_type": "code",
      "metadata": {
        "id": "nztoSVwy1ASF",
        "outputId": "42c87937-51d0-4380-f44e-f754d3270c6c",
        "colab": {
          "base_uri": "https://localhost:8080/",
          "height": 191
        }
      },
      "source": [
        "str(lista3)"
      ],
      "execution_count": 29,
      "outputs": [
        {
          "output_type": "stream",
          "text": [
            "List of 7\n",
            " $ num   : num 6\n",
            " $ letra : chr \"A\"\n",
            " $ vector: num [1:3] 10 20 30\n",
            " $ matriz: num [1:4, 1:4] 8 0 0 0 0 8 0 0 0 0 ...\n",
            " $ lista :List of 2\n",
            "  ..$ a: chr \"hola\"\n",
            "  ..$ b: num 18\n",
            " $ primos: num [1:4] 2 3 5 7\n",
            " $ amigos: num [1:2] 220 284\n"
          ],
          "name": "stdout"
        }
      ]
    },
    {
      "cell_type": "code",
      "metadata": {
        "trusted": true,
        "id": "jYFKb27-TpSG",
        "outputId": "497198c8-37b4-4eb9-84ae-8d625ef921b4",
        "colab": {
          "base_uri": "https://localhost:8080/",
          "height": 226
        }
      },
      "source": [
        "lista3[\"matriz\"] # Retorna una lista con la matriz\n",
        "class(lista3[\"matriz\"])"
      ],
      "execution_count": 30,
      "outputs": [
        {
          "output_type": "display_data",
          "data": {
            "text/plain": [
              "$matriz\n",
              "     [,1] [,2] [,3] [,4]\n",
              "[1,]    8    0    0    0\n",
              "[2,]    0    8    0    0\n",
              "[3,]    0    0    8    0\n",
              "[4,]    0    0    0    8\n"
            ],
            "text/latex": "\\textbf{\\$matriz} = A matrix: 4 × 4 of type dbl\n\\begin{tabular}{llll}\n\t 8 & 0 & 0 & 0\\\\\n\t 0 & 8 & 0 & 0\\\\\n\t 0 & 0 & 8 & 0\\\\\n\t 0 & 0 & 0 & 8\\\\\n\\end{tabular}\n",
            "text/markdown": "**$matriz** = \nA matrix: 4 × 4 of type dbl\n\n| 8 | 0 | 0 | 0 |\n| 0 | 8 | 0 | 0 |\n| 0 | 0 | 8 | 0 |\n| 0 | 0 | 0 | 8 |\n\n",
            "text/html": [
              "<strong>$matriz</strong> = <table>\n",
              "<caption>A matrix: 4 × 4 of type dbl</caption>\n",
              "<tbody>\n",
              "\t<tr><td>8</td><td>0</td><td>0</td><td>0</td></tr>\n",
              "\t<tr><td>0</td><td>8</td><td>0</td><td>0</td></tr>\n",
              "\t<tr><td>0</td><td>0</td><td>8</td><td>0</td></tr>\n",
              "\t<tr><td>0</td><td>0</td><td>0</td><td>8</td></tr>\n",
              "</tbody>\n",
              "</table>\n"
            ]
          },
          "metadata": {
            "tags": []
          }
        },
        {
          "output_type": "display_data",
          "data": {
            "text/plain": [
              "[1] \"list\""
            ],
            "text/latex": "'list'",
            "text/markdown": "'list'",
            "text/html": [
              "'list'"
            ]
          },
          "metadata": {
            "tags": []
          }
        }
      ]
    },
    {
      "cell_type": "code",
      "metadata": {
        "trusted": true,
        "id": "a9UBaNOuTpSI",
        "outputId": "6a4653ce-eb04-47e4-dfd0-2ab893c84128",
        "colab": {
          "base_uri": "https://localhost:8080/",
          "height": 209
        }
      },
      "source": [
        "lista3[[\"matriz\"]] # Retorna la matriz\n",
        "class(lista3[[\"matriz\"]])\n"
      ],
      "execution_count": 31,
      "outputs": [
        {
          "output_type": "display_data",
          "data": {
            "text/plain": [
              "     [,1] [,2] [,3] [,4]\n",
              "[1,] 8    0    0    0   \n",
              "[2,] 0    8    0    0   \n",
              "[3,] 0    0    8    0   \n",
              "[4,] 0    0    0    8   "
            ],
            "text/latex": "A matrix: 4 × 4 of type dbl\n\\begin{tabular}{llll}\n\t 8 & 0 & 0 & 0\\\\\n\t 0 & 8 & 0 & 0\\\\\n\t 0 & 0 & 8 & 0\\\\\n\t 0 & 0 & 0 & 8\\\\\n\\end{tabular}\n",
            "text/markdown": "\nA matrix: 4 × 4 of type dbl\n\n| 8 | 0 | 0 | 0 |\n| 0 | 8 | 0 | 0 |\n| 0 | 0 | 8 | 0 |\n| 0 | 0 | 0 | 8 |\n\n",
            "text/html": [
              "<table>\n",
              "<caption>A matrix: 4 × 4 of type dbl</caption>\n",
              "<tbody>\n",
              "\t<tr><td>8</td><td>0</td><td>0</td><td>0</td></tr>\n",
              "\t<tr><td>0</td><td>8</td><td>0</td><td>0</td></tr>\n",
              "\t<tr><td>0</td><td>0</td><td>8</td><td>0</td></tr>\n",
              "\t<tr><td>0</td><td>0</td><td>0</td><td>8</td></tr>\n",
              "</tbody>\n",
              "</table>\n"
            ]
          },
          "metadata": {
            "tags": []
          }
        },
        {
          "output_type": "display_data",
          "data": {
            "text/plain": [
              "[1] \"matrix\" \"array\" "
            ],
            "text/latex": "\\begin{enumerate*}\n\\item 'matrix'\n\\item 'array'\n\\end{enumerate*}\n",
            "text/markdown": "1. 'matrix'\n2. 'array'\n\n\n",
            "text/html": [
              "<style>\n",
              ".list-inline {list-style: none; margin:0; padding: 0}\n",
              ".list-inline>li {display: inline-block}\n",
              ".list-inline>li:not(:last-child)::after {content: \"\\00b7\"; padding: 0 .5ex}\n",
              "</style>\n",
              "<ol class=list-inline><li>'matrix'</li><li>'array'</li></ol>\n"
            ]
          },
          "metadata": {
            "tags": []
          }
        }
      ]
    },
    {
      "cell_type": "markdown",
      "metadata": {
        "id": "smOXxvCmg7vv"
      },
      "source": [
        "#### **Acceso mediante \"$\"**\n",
        "\n",
        "Finalmente, una de las opciones más simples para acceder a los elementos de una lista cuando sus entradas poseen nombre, es referenciando estos objetos anteponiendo el signo \"$\".Por ejemplo, para acceder al 4to slot, con la matriz, podemos escribir `lista3$matriz`, lo cual nos retorna directamente la matriz (no una lista con la matriz)."
      ]
    },
    {
      "cell_type": "code",
      "metadata": {
        "id": "XPPwuNTW1Vtx",
        "outputId": "feb7bba3-1f90-455b-b181-58e8203e8dbf",
        "colab": {
          "base_uri": "https://localhost:8080/",
          "height": 34
        }
      },
      "source": [
        "lista3$letra"
      ],
      "execution_count": 32,
      "outputs": [
        {
          "output_type": "display_data",
          "data": {
            "text/plain": [
              "[1] \"A\""
            ],
            "text/latex": "'A'",
            "text/markdown": "'A'",
            "text/html": [
              "'A'"
            ]
          },
          "metadata": {
            "tags": []
          }
        }
      ]
    },
    {
      "cell_type": "code",
      "metadata": {
        "id": "esxxJCQk1e7N",
        "outputId": "91972c20-f177-4ea3-e0df-e4e56ffd68a6",
        "colab": {
          "base_uri": "https://localhost:8080/",
          "height": 34
        }
      },
      "source": [
        "class(lista3$letra)"
      ],
      "execution_count": 33,
      "outputs": [
        {
          "output_type": "display_data",
          "data": {
            "text/plain": [
              "[1] \"character\""
            ],
            "text/latex": "'character'",
            "text/markdown": "'character'",
            "text/html": [
              "'character'"
            ]
          },
          "metadata": {
            "tags": []
          }
        }
      ]
    },
    {
      "cell_type": "code",
      "metadata": {
        "id": "GnwT6T1wg68z",
        "outputId": "e99f9385-0c56-4ff5-becd-8b3bbd452e95",
        "colab": {
          "base_uri": "https://localhost:8080/",
          "height": 191
        }
      },
      "source": [
        "lista3$matriz # Retorna la matriz directamente"
      ],
      "execution_count": 34,
      "outputs": [
        {
          "output_type": "display_data",
          "data": {
            "text/plain": [
              "     [,1] [,2] [,3] [,4]\n",
              "[1,] 8    0    0    0   \n",
              "[2,] 0    8    0    0   \n",
              "[3,] 0    0    8    0   \n",
              "[4,] 0    0    0    8   "
            ],
            "text/latex": "A matrix: 4 × 4 of type dbl\n\\begin{tabular}{llll}\n\t 8 & 0 & 0 & 0\\\\\n\t 0 & 8 & 0 & 0\\\\\n\t 0 & 0 & 8 & 0\\\\\n\t 0 & 0 & 0 & 8\\\\\n\\end{tabular}\n",
            "text/markdown": "\nA matrix: 4 × 4 of type dbl\n\n| 8 | 0 | 0 | 0 |\n| 0 | 8 | 0 | 0 |\n| 0 | 0 | 8 | 0 |\n| 0 | 0 | 0 | 8 |\n\n",
            "text/html": [
              "<table>\n",
              "<caption>A matrix: 4 × 4 of type dbl</caption>\n",
              "<tbody>\n",
              "\t<tr><td>8</td><td>0</td><td>0</td><td>0</td></tr>\n",
              "\t<tr><td>0</td><td>8</td><td>0</td><td>0</td></tr>\n",
              "\t<tr><td>0</td><td>0</td><td>8</td><td>0</td></tr>\n",
              "\t<tr><td>0</td><td>0</td><td>0</td><td>8</td></tr>\n",
              "</tbody>\n",
              "</table>\n"
            ]
          },
          "metadata": {
            "tags": []
          }
        }
      ]
    },
    {
      "cell_type": "code",
      "metadata": {
        "id": "nWG3D5US1oFW",
        "outputId": "77b98c2b-0eea-4b1b-a89d-4ed95e41d56e",
        "colab": {
          "base_uri": "https://localhost:8080/",
          "height": 34
        }
      },
      "source": [
        "# Extraer hola\n",
        "lista3$lista$a\n",
        "# OJO!... podría ocurrir esto : abc$asdasdA$asdasda$asdasd$asdasd$asdasdasd$aasdasdad$adasda$hola <- evaluar si \"vale la pena\""
      ],
      "execution_count": 35,
      "outputs": [
        {
          "output_type": "display_data",
          "data": {
            "text/plain": [
              "[1] \"hola\""
            ],
            "text/latex": "'hola'",
            "text/markdown": "'hola'",
            "text/html": [
              "'hola'"
            ]
          },
          "metadata": {
            "tags": []
          }
        }
      ]
    },
    {
      "cell_type": "markdown",
      "metadata": {
        "id": "yMWAiONTiSTq"
      },
      "source": [
        "### **Creación de nuevo slots**\n",
        "\n",
        "Podemos crear nuevos slots de manera sencilla, indicano el nuevo nombre (utilizando `[]` o `$`) y luego asignando el objeto a almacenar en la nueva entrada."
      ]
    },
    {
      "cell_type": "code",
      "metadata": {
        "id": "eZc1xEoH2Aez",
        "outputId": "caa0f26b-a390-4a7a-8750-8853fc349d8f",
        "colab": {
          "base_uri": "https://localhost:8080/",
          "height": 191
        }
      },
      "source": [
        "str(lista3)"
      ],
      "execution_count": 36,
      "outputs": [
        {
          "output_type": "stream",
          "text": [
            "List of 7\n",
            " $ num   : num 6\n",
            " $ letra : chr \"A\"\n",
            " $ vector: num [1:3] 10 20 30\n",
            " $ matriz: num [1:4, 1:4] 8 0 0 0 0 8 0 0 0 0 ...\n",
            " $ lista :List of 2\n",
            "  ..$ a: chr \"hola\"\n",
            "  ..$ b: num 18\n",
            " $ primos: num [1:4] 2 3 5 7\n",
            " $ amigos: num [1:2] 220 284\n"
          ],
          "name": "stdout"
        }
      ]
    },
    {
      "cell_type": "code",
      "metadata": {
        "id": "gQ2thfZJiRu_",
        "outputId": "b0820173-7c64-4081-a852-245210a1b0b1",
        "colab": {
          "base_uri": "https://localhost:8080/",
          "height": 208
        }
      },
      "source": [
        "# Creamos un slot llamado \"nuevo\" utilizadno [[]]\n",
        "# lista[[\"<nombre_nuevo_objeto>\"]] <- objeto\n",
        "lista3[[\"nuevo\"]] <- c(\"vector\",\"de\",\"palabras\")\n",
        "str(lista3)"
      ],
      "execution_count": 37,
      "outputs": [
        {
          "output_type": "stream",
          "text": [
            "List of 8\n",
            " $ num   : num 6\n",
            " $ letra : chr \"A\"\n",
            " $ vector: num [1:3] 10 20 30\n",
            " $ matriz: num [1:4, 1:4] 8 0 0 0 0 8 0 0 0 0 ...\n",
            " $ lista :List of 2\n",
            "  ..$ a: chr \"hola\"\n",
            "  ..$ b: num 18\n",
            " $ primos: num [1:4] 2 3 5 7\n",
            " $ amigos: num [1:2] 220 284\n",
            " $ nuevo : chr [1:3] \"vector\" \"de\" \"palabras\"\n"
          ],
          "name": "stdout"
        }
      ]
    },
    {
      "cell_type": "code",
      "metadata": {
        "id": "VFLfJtXCjIga",
        "outputId": "8f0a085c-36c9-4efa-85ef-ed07b237c876",
        "colab": {
          "base_uri": "https://localhost:8080/",
          "height": 225
        }
      },
      "source": [
        "# Creamos un slot llamdo \"otro\" utilizando $\n",
        "lista3$otro <- \"Esto es sólo un texto\"\n",
        "str(lista3)\n"
      ],
      "execution_count": 42,
      "outputs": [
        {
          "output_type": "stream",
          "text": [
            "List of 9\n",
            " $ num   : num 6\n",
            " $ letra : chr \"A\"\n",
            " $ vector: num [1:3] 10 20 30\n",
            " $ matriz: num [1:4, 1:4] 8 0 0 0 0 8 0 0 0 0 ...\n",
            " $ lista :List of 2\n",
            "  ..$ a: chr \"hola\"\n",
            "  ..$ b: num 18\n",
            " $ primos: num [1:4] 2 3 5 7\n",
            " $ amigos: num [1:2] 220 284\n",
            " $ nuevo : chr [1:3] \"vector\" \"de\" \"palabras\"\n",
            " $ otro  : chr \"Esto es sólo un texto\"\n"
          ],
          "name": "stdout"
        }
      ]
    },
    {
      "cell_type": "code",
      "metadata": {
        "id": "Xu4nr3ck2dIt",
        "outputId": "d06b6e1c-cb24-4052-c5f6-4e01ec12eab7",
        "colab": {
          "base_uri": "https://localhost:8080/",
          "height": 52
        }
      },
      "source": [
        "# (Pregunta César: ¿qué sucede con las comillas?)\n",
        "a <- \"hola\"\n",
        "b <- 'hola'\n",
        "c <- \"Hello I'm Bastian\"\n",
        "a == b\n",
        "\n",
        "c"
      ],
      "execution_count": 41,
      "outputs": [
        {
          "output_type": "display_data",
          "data": {
            "text/plain": [
              "[1] TRUE"
            ],
            "text/latex": "TRUE",
            "text/markdown": "TRUE",
            "text/html": [
              "TRUE"
            ]
          },
          "metadata": {
            "tags": []
          }
        },
        {
          "output_type": "display_data",
          "data": {
            "text/plain": [
              "[1] \"Hello I'm Bastian\""
            ],
            "text/latex": "'Hello I\\textbackslash{}'m Bastian'",
            "text/markdown": "'Hello I\\'m Bastian'",
            "text/html": [
              "'Hello I\\'m Bastian'"
            ]
          },
          "metadata": {
            "tags": []
          }
        }
      ]
    },
    {
      "cell_type": "markdown",
      "metadata": {
        "id": "vBbb4UM328aW"
      },
      "source": [
        "Por qué utilizar listas:\n",
        "- Para almacenar contenidos de API\n",
        "- Para guardar objetos de interés\n",
        "  - Modelos\n",
        "  - Gráficos\n",
        "  - Listas\n",
        "  - eeeeeeeeeetcccccccccccc.\n",
        "  "
      ]
    },
    {
      "cell_type": "markdown",
      "metadata": {
        "id": "128wI4ZoTpSS"
      },
      "source": [
        "## **2.2 Dataframes**\n",
        "\n",
        "Un dataframe es un caso particular de una lista, donde los objetos de cada entrada corresponden a vectores de datos del mismo largo. En este caso cada vector corresponde a una columna del data.frame, mientras que la cantidad de filas corresponde al largo común de los vectores de cada entrada. El objeto resultante es una *tabla*, de ahora en adelante *data.frame*, cuyas columnas poseen distintos tipos de datos entre sí. \n",
        "\n",
        " * ¿Cómo se declara un dataframe?<br>\n",
        "    Mediante la función **data.frame()**, indicando los vectores que conformarán las columnas.\n",
        " \n",
        " * ¿Cómo se accede a los datos de un data.frame?<br>\n",
        "    Al ser una lista, se puede acceder de la misma manera. Sin embargo también es posible acceder del modo en que se accede a los elementos de una matriz."
      ]
    },
    {
      "cell_type": "code",
      "metadata": {
        "trusted": true,
        "id": "qJ-2zVWVTpST",
        "outputId": "a25f149a-f257-4a09-dd5f-a62a3b33ab01",
        "colab": {
          "base_uri": "https://localhost:8080/",
          "height": 143
        }
      },
      "source": [
        "# 5.2 Dataframes ----------\n",
        "# Ejemplo sencillo de definición de un data.frame\n",
        "# recordar que 1:3 es lo mismo que c(1,2,3)\n",
        "\n",
        "df <- data.frame(\n",
        "  id = 1:3,\n",
        "  nombre = c(\"pedro\",\"juan\",\"diego\"),\n",
        "  edad = c(32,33,28)\n",
        ")\n",
        "\n",
        "df\n"
      ],
      "execution_count": 46,
      "outputs": [
        {
          "output_type": "display_data",
          "data": {
            "text/plain": [
              "  id nombre edad\n",
              "1 1  pedro  32  \n",
              "2 2  juan   33  \n",
              "3 3  diego  28  "
            ],
            "text/latex": "A data.frame: 3 × 3\n\\begin{tabular}{lll}\n id & nombre & edad\\\\\n <int> & <chr> & <dbl>\\\\\n\\hline\n\t 1 & pedro & 32\\\\\n\t 2 & juan  & 33\\\\\n\t 3 & diego & 28\\\\\n\\end{tabular}\n",
            "text/markdown": "\nA data.frame: 3 × 3\n\n| id &lt;int&gt; | nombre &lt;chr&gt; | edad &lt;dbl&gt; |\n|---|---|---|\n| 1 | pedro | 32 |\n| 2 | juan  | 33 |\n| 3 | diego | 28 |\n\n",
            "text/html": [
              "<table>\n",
              "<caption>A data.frame: 3 × 3</caption>\n",
              "<thead>\n",
              "\t<tr><th scope=col>id</th><th scope=col>nombre</th><th scope=col>edad</th></tr>\n",
              "\t<tr><th scope=col>&lt;int&gt;</th><th scope=col>&lt;chr&gt;</th><th scope=col>&lt;dbl&gt;</th></tr>\n",
              "</thead>\n",
              "<tbody>\n",
              "\t<tr><td>1</td><td>pedro</td><td>32</td></tr>\n",
              "\t<tr><td>2</td><td>juan </td><td>33</td></tr>\n",
              "\t<tr><td>3</td><td>diego</td><td>28</td></tr>\n",
              "</tbody>\n",
              "</table>\n"
            ]
          },
          "metadata": {
            "tags": []
          }
        }
      ]
    },
    {
      "cell_type": "code",
      "metadata": {
        "trusted": true,
        "id": "nv7stC8ITpSY",
        "outputId": "1a5e3a90-6fc4-46dd-8932-23f325fe5728",
        "colab": {
          "base_uri": "https://localhost:8080/",
          "height": 69
        }
      },
      "source": [
        "# Acceso a columnas de un data.frame\n",
        "## Igual que en una lista\n",
        "df$nombre\n",
        "df[[\"nombre\"]] #retorna el vector con los nombres, mientras que df[\"nombres\"] retorna un data.frame con los nombres\n",
        "df[[2]] # ID"
      ],
      "execution_count": 48,
      "outputs": [
        {
          "output_type": "display_data",
          "data": {
            "text/plain": [
              "[1] \"pedro\" \"juan\"  \"diego\""
            ],
            "text/latex": "\\begin{enumerate*}\n\\item 'pedro'\n\\item 'juan'\n\\item 'diego'\n\\end{enumerate*}\n",
            "text/markdown": "1. 'pedro'\n2. 'juan'\n3. 'diego'\n\n\n",
            "text/html": [
              "<style>\n",
              ".list-inline {list-style: none; margin:0; padding: 0}\n",
              ".list-inline>li {display: inline-block}\n",
              ".list-inline>li:not(:last-child)::after {content: \"\\00b7\"; padding: 0 .5ex}\n",
              "</style>\n",
              "<ol class=list-inline><li>'pedro'</li><li>'juan'</li><li>'diego'</li></ol>\n"
            ]
          },
          "metadata": {
            "tags": []
          }
        },
        {
          "output_type": "display_data",
          "data": {
            "text/plain": [
              "[1] \"pedro\" \"juan\"  \"diego\""
            ],
            "text/latex": "\\begin{enumerate*}\n\\item 'pedro'\n\\item 'juan'\n\\item 'diego'\n\\end{enumerate*}\n",
            "text/markdown": "1. 'pedro'\n2. 'juan'\n3. 'diego'\n\n\n",
            "text/html": [
              "<style>\n",
              ".list-inline {list-style: none; margin:0; padding: 0}\n",
              ".list-inline>li {display: inline-block}\n",
              ".list-inline>li:not(:last-child)::after {content: \"\\00b7\"; padding: 0 .5ex}\n",
              "</style>\n",
              "<ol class=list-inline><li>'pedro'</li><li>'juan'</li><li>'diego'</li></ol>\n"
            ]
          },
          "metadata": {
            "tags": []
          }
        },
        {
          "output_type": "display_data",
          "data": {
            "text/plain": [
              "[1] \"pedro\" \"juan\"  \"diego\""
            ],
            "text/latex": "\\begin{enumerate*}\n\\item 'pedro'\n\\item 'juan'\n\\item 'diego'\n\\end{enumerate*}\n",
            "text/markdown": "1. 'pedro'\n2. 'juan'\n3. 'diego'\n\n\n",
            "text/html": [
              "<style>\n",
              ".list-inline {list-style: none; margin:0; padding: 0}\n",
              ".list-inline>li {display: inline-block}\n",
              ".list-inline>li:not(:last-child)::after {content: \"\\00b7\"; padding: 0 .5ex}\n",
              "</style>\n",
              "<ol class=list-inline><li>'pedro'</li><li>'juan'</li><li>'diego'</li></ol>\n"
            ]
          },
          "metadata": {
            "tags": []
          }
        }
      ]
    },
    {
      "cell_type": "code",
      "metadata": {
        "trusted": true,
        "id": "3t6_J3BHTpSb",
        "outputId": "cfb72ad9-6812-4c08-9e2e-01cbdfe2c2d7",
        "colab": {
          "base_uri": "https://localhost:8080/",
          "height": 178
        }
      },
      "source": [
        "df[\"nombre\"] # Nos entrega un data.frame"
      ],
      "execution_count": 49,
      "outputs": [
        {
          "output_type": "display_data",
          "data": {
            "text/plain": [
              "  nombre\n",
              "1 pedro \n",
              "2 juan  \n",
              "3 diego "
            ],
            "text/latex": "A data.frame: 3 × 1\n\\begin{tabular}{l}\n nombre\\\\\n <chr>\\\\\n\\hline\n\t pedro\\\\\n\t juan \\\\\n\t diego\\\\\n\\end{tabular}\n",
            "text/markdown": "\nA data.frame: 3 × 1\n\n| nombre &lt;chr&gt; |\n|---|\n| pedro |\n| juan  |\n| diego |\n\n",
            "text/html": [
              "<table>\n",
              "<caption>A data.frame: 3 × 1</caption>\n",
              "<thead>\n",
              "\t<tr><th scope=col>nombre</th></tr>\n",
              "\t<tr><th scope=col>&lt;chr&gt;</th></tr>\n",
              "</thead>\n",
              "<tbody>\n",
              "\t<tr><td>pedro</td></tr>\n",
              "\t<tr><td>juan </td></tr>\n",
              "\t<tr><td>diego</td></tr>\n",
              "</tbody>\n",
              "</table>\n"
            ]
          },
          "metadata": {
            "tags": []
          }
        }
      ]
    },
    {
      "cell_type": "code",
      "metadata": {
        "trusted": true,
        "id": "CojdmEs9TpSd",
        "outputId": "608af987-b6ac-48c0-8f9a-977d87695e7a",
        "colab": {
          "base_uri": "https://localhost:8080/",
          "height": 135
        }
      },
      "source": [
        "##  Ganamos acceso como matriz\n",
        "# segunda fila de df\n",
        "df[2,]\n",
        "\n",
        "# segunda columna y segunda fila\n",
        "df[2,2]\n",
        "\n",
        "# Por nombre de columna\n",
        "df[2,]$nombre"
      ],
      "execution_count": 51,
      "outputs": [
        {
          "output_type": "display_data",
          "data": {
            "text/plain": [
              "  id nombre edad\n",
              "2 2  juan   33  "
            ],
            "text/latex": "A data.frame: 1 × 3\n\\begin{tabular}{r|lll}\n  & id & nombre & edad\\\\\n  & <int> & <chr> & <dbl>\\\\\n\\hline\n\t2 & 2 & juan & 33\\\\\n\\end{tabular}\n",
            "text/markdown": "\nA data.frame: 1 × 3\n\n| <!--/--> | id &lt;int&gt; | nombre &lt;chr&gt; | edad &lt;dbl&gt; |\n|---|---|---|---|\n| 2 | 2 | juan | 33 |\n\n",
            "text/html": [
              "<table>\n",
              "<caption>A data.frame: 1 × 3</caption>\n",
              "<thead>\n",
              "\t<tr><th></th><th scope=col>id</th><th scope=col>nombre</th><th scope=col>edad</th></tr>\n",
              "\t<tr><th></th><th scope=col>&lt;int&gt;</th><th scope=col>&lt;chr&gt;</th><th scope=col>&lt;dbl&gt;</th></tr>\n",
              "</thead>\n",
              "<tbody>\n",
              "\t<tr><th scope=row>2</th><td>2</td><td>juan</td><td>33</td></tr>\n",
              "</tbody>\n",
              "</table>\n"
            ]
          },
          "metadata": {
            "tags": []
          }
        },
        {
          "output_type": "display_data",
          "data": {
            "text/plain": [
              "[1] \"juan\""
            ],
            "text/latex": "'juan'",
            "text/markdown": "'juan'",
            "text/html": [
              "'juan'"
            ]
          },
          "metadata": {
            "tags": []
          }
        },
        {
          "output_type": "display_data",
          "data": {
            "text/plain": [
              "[1] \"juan\""
            ],
            "text/latex": "'juan'",
            "text/markdown": "'juan'",
            "text/html": [
              "'juan'"
            ]
          },
          "metadata": {
            "tags": []
          }
        }
      ]
    },
    {
      "cell_type": "code",
      "metadata": {
        "trusted": true,
        "id": "FgD5Q8hFTpSf",
        "outputId": "8e470929-6c2c-4e7d-96c1-590605dd2479",
        "colab": {
          "base_uri": "https://localhost:8080/",
          "height": 143
        }
      },
      "source": [
        "#Podemos crear nuevas columnas , del mismmo modo que creamos \"slots\" en una lista\n",
        "df$hijos <- c(0,1,4)\n",
        "\n",
        "df"
      ],
      "execution_count": 52,
      "outputs": [
        {
          "output_type": "display_data",
          "data": {
            "text/plain": [
              "  id nombre edad hijos\n",
              "1 1  pedro  32   0    \n",
              "2 2  juan   33   1    \n",
              "3 3  diego  28   4    "
            ],
            "text/latex": "A data.frame: 3 × 4\n\\begin{tabular}{llll}\n id & nombre & edad & hijos\\\\\n <int> & <chr> & <dbl> & <dbl>\\\\\n\\hline\n\t 1 & pedro & 32 & 0\\\\\n\t 2 & juan  & 33 & 1\\\\\n\t 3 & diego & 28 & 4\\\\\n\\end{tabular}\n",
            "text/markdown": "\nA data.frame: 3 × 4\n\n| id &lt;int&gt; | nombre &lt;chr&gt; | edad &lt;dbl&gt; | hijos &lt;dbl&gt; |\n|---|---|---|---|\n| 1 | pedro | 32 | 0 |\n| 2 | juan  | 33 | 1 |\n| 3 | diego | 28 | 4 |\n\n",
            "text/html": [
              "<table>\n",
              "<caption>A data.frame: 3 × 4</caption>\n",
              "<thead>\n",
              "\t<tr><th scope=col>id</th><th scope=col>nombre</th><th scope=col>edad</th><th scope=col>hijos</th></tr>\n",
              "\t<tr><th scope=col>&lt;int&gt;</th><th scope=col>&lt;chr&gt;</th><th scope=col>&lt;dbl&gt;</th><th scope=col>&lt;dbl&gt;</th></tr>\n",
              "</thead>\n",
              "<tbody>\n",
              "\t<tr><td>1</td><td>pedro</td><td>32</td><td>0</td></tr>\n",
              "\t<tr><td>2</td><td>juan </td><td>33</td><td>1</td></tr>\n",
              "\t<tr><td>3</td><td>diego</td><td>28</td><td>4</td></tr>\n",
              "</tbody>\n",
              "</table>\n"
            ]
          },
          "metadata": {
            "tags": []
          }
        }
      ]
    },
    {
      "cell_type": "code",
      "metadata": {
        "trusted": true,
        "id": "LcNQ5JHVTpSh",
        "outputId": "cff7d455-0459-476d-9f05-16f8c0555c87",
        "colab": {
          "base_uri": "https://localhost:8080/",
          "height": 161
        }
      },
      "source": [
        "# podemos seleccionar más de una columna a la vez. Ej: seleccionar columnas 1 y 3\n",
        "# Referenciando el nombre de las columnas\n",
        "df[,c(\"id\",\"edad\")]"
      ],
      "execution_count": 53,
      "outputs": [
        {
          "output_type": "display_data",
          "data": {
            "text/plain": [
              "  id edad\n",
              "1 1  32  \n",
              "2 2  33  \n",
              "3 3  28  "
            ],
            "text/latex": "A data.frame: 3 × 2\n\\begin{tabular}{ll}\n id & edad\\\\\n <int> & <dbl>\\\\\n\\hline\n\t 1 & 32\\\\\n\t 2 & 33\\\\\n\t 3 & 28\\\\\n\\end{tabular}\n",
            "text/markdown": "\nA data.frame: 3 × 2\n\n| id &lt;int&gt; | edad &lt;dbl&gt; |\n|---|---|\n| 1 | 32 |\n| 2 | 33 |\n| 3 | 28 |\n\n",
            "text/html": [
              "<table>\n",
              "<caption>A data.frame: 3 × 2</caption>\n",
              "<thead>\n",
              "\t<tr><th scope=col>id</th><th scope=col>edad</th></tr>\n",
              "\t<tr><th scope=col>&lt;int&gt;</th><th scope=col>&lt;dbl&gt;</th></tr>\n",
              "</thead>\n",
              "<tbody>\n",
              "\t<tr><td>1</td><td>32</td></tr>\n",
              "\t<tr><td>2</td><td>33</td></tr>\n",
              "\t<tr><td>3</td><td>28</td></tr>\n",
              "</tbody>\n",
              "</table>\n"
            ]
          },
          "metadata": {
            "tags": []
          }
        }
      ]
    },
    {
      "cell_type": "code",
      "metadata": {
        "trusted": true,
        "id": "NHtO3MHwTpSj",
        "outputId": "6a56537f-7ba7-400b-8766-5292e6dd62dc",
        "colab": {
          "base_uri": "https://localhost:8080/",
          "height": 161
        }
      },
      "source": [
        "# Referenciando las posiciones de las columnas\n",
        "df[,c(1,3)]"
      ],
      "execution_count": 54,
      "outputs": [
        {
          "output_type": "display_data",
          "data": {
            "text/plain": [
              "  id edad\n",
              "1 1  32  \n",
              "2 2  33  \n",
              "3 3  28  "
            ],
            "text/latex": "A data.frame: 3 × 2\n\\begin{tabular}{ll}\n id & edad\\\\\n <int> & <dbl>\\\\\n\\hline\n\t 1 & 32\\\\\n\t 2 & 33\\\\\n\t 3 & 28\\\\\n\\end{tabular}\n",
            "text/markdown": "\nA data.frame: 3 × 2\n\n| id &lt;int&gt; | edad &lt;dbl&gt; |\n|---|---|\n| 1 | 32 |\n| 2 | 33 |\n| 3 | 28 |\n\n",
            "text/html": [
              "<table>\n",
              "<caption>A data.frame: 3 × 2</caption>\n",
              "<thead>\n",
              "\t<tr><th scope=col>id</th><th scope=col>edad</th></tr>\n",
              "\t<tr><th scope=col>&lt;int&gt;</th><th scope=col>&lt;dbl&gt;</th></tr>\n",
              "</thead>\n",
              "<tbody>\n",
              "\t<tr><td>1</td><td>32</td></tr>\n",
              "\t<tr><td>2</td><td>33</td></tr>\n",
              "\t<tr><td>3</td><td>28</td></tr>\n",
              "</tbody>\n",
              "</table>\n"
            ]
          },
          "metadata": {
            "tags": []
          }
        }
      ]
    },
    {
      "cell_type": "code",
      "metadata": {
        "id": "NPHzJ2Gv58w2",
        "outputId": "328cf272-b111-42d6-eca8-941de1fb15f7",
        "colab": {
          "base_uri": "https://localhost:8080/",
          "height": 304
        }
      },
      "source": [
        "df[,2:3] \n",
        "df[,c(2,3)]"
      ],
      "execution_count": 56,
      "outputs": [
        {
          "output_type": "display_data",
          "data": {
            "text/plain": [
              "  nombre edad\n",
              "1 pedro  32  \n",
              "2 juan   33  \n",
              "3 diego  28  "
            ],
            "text/latex": "A data.frame: 3 × 2\n\\begin{tabular}{ll}\n nombre & edad\\\\\n <chr> & <dbl>\\\\\n\\hline\n\t pedro & 32\\\\\n\t juan  & 33\\\\\n\t diego & 28\\\\\n\\end{tabular}\n",
            "text/markdown": "\nA data.frame: 3 × 2\n\n| nombre &lt;chr&gt; | edad &lt;dbl&gt; |\n|---|---|\n| pedro | 32 |\n| juan  | 33 |\n| diego | 28 |\n\n",
            "text/html": [
              "<table>\n",
              "<caption>A data.frame: 3 × 2</caption>\n",
              "<thead>\n",
              "\t<tr><th scope=col>nombre</th><th scope=col>edad</th></tr>\n",
              "\t<tr><th scope=col>&lt;chr&gt;</th><th scope=col>&lt;dbl&gt;</th></tr>\n",
              "</thead>\n",
              "<tbody>\n",
              "\t<tr><td>pedro</td><td>32</td></tr>\n",
              "\t<tr><td>juan </td><td>33</td></tr>\n",
              "\t<tr><td>diego</td><td>28</td></tr>\n",
              "</tbody>\n",
              "</table>\n"
            ]
          },
          "metadata": {
            "tags": []
          }
        },
        {
          "output_type": "display_data",
          "data": {
            "text/plain": [
              "  nombre edad\n",
              "1 pedro  32  \n",
              "2 juan   33  \n",
              "3 diego  28  "
            ],
            "text/latex": "A data.frame: 3 × 2\n\\begin{tabular}{ll}\n nombre & edad\\\\\n <chr> & <dbl>\\\\\n\\hline\n\t pedro & 32\\\\\n\t juan  & 33\\\\\n\t diego & 28\\\\\n\\end{tabular}\n",
            "text/markdown": "\nA data.frame: 3 × 2\n\n| nombre &lt;chr&gt; | edad &lt;dbl&gt; |\n|---|---|\n| pedro | 32 |\n| juan  | 33 |\n| diego | 28 |\n\n",
            "text/html": [
              "<table>\n",
              "<caption>A data.frame: 3 × 2</caption>\n",
              "<thead>\n",
              "\t<tr><th scope=col>nombre</th><th scope=col>edad</th></tr>\n",
              "\t<tr><th scope=col>&lt;chr&gt;</th><th scope=col>&lt;dbl&gt;</th></tr>\n",
              "</thead>\n",
              "<tbody>\n",
              "\t<tr><td>pedro</td><td>32</td></tr>\n",
              "\t<tr><td>juan </td><td>33</td></tr>\n",
              "\t<tr><td>diego</td><td>28</td></tr>\n",
              "</tbody>\n",
              "</table>\n"
            ]
          },
          "metadata": {
            "tags": []
          }
        }
      ]
    },
    {
      "cell_type": "markdown",
      "metadata": {
        "id": "3OKSX6BRmK9g"
      },
      "source": [
        "\n",
        "\n",
        "---\n",
        "# **Taller 2**\n",
        "La siguiente línea de código permite cargar en memoria, un objeto de extensión *.rds que está almacenado en el disco de la máquina en la ruta actual de trabajo.\n",
        "\n",
        "Este archivo contiene la información de los contagios por COVID-19 en nuestsro país, según las cifras oficiales entregadas por el ministerio de salud actualizadas al 08 de mayo. En el archivo encontrará, **para cada mes, el total de casos diarios** desglosados según:\n",
        "   * 'casos_nuevos_con_sintomas': casos nuevos con síntomas del día.\n",
        "   * 'casos_totales' : casos acumulados a la fecha.\n",
        "   * 'casos_recuperados': casos recuperados acumulados a la fecha.\n",
        "   * 'fallecidos': casos fallecidos acumulados.\n",
        "   * 'casos_activos': casos activos a la fecha.\n",
        "   * 'casos_nuevos_sin_sintomas': casos asintomáticos del día.\n",
        "   * 'casos_nuevos_totales': suma de  casos asintomáticos más casos con síntomas del día.\n",
        " \n",
        " Si bien no será utilizados en este trabajo, también econtrán nuevos registros de acuerdo a los últimos cambios en la metodología de conteo. Para más info pueden referirse al siguiente link:\n",
        " https://github.com/MinCiencia/Datos-COVID19/tree/master/output/producto5\n",
        " \n",
        "   * 'casos_activos_por_fd'\n",
        "   * 'casos_activos_por_fis'\n",
        "   * 'casos_recuperados_por_fis'\n",
        "   * 'casos_recuperados_por_fd' \n",
        "   * 'casos_confirmados_recuperados'\n",
        "   * 'casos_activos_confirmados'\n",
        "   * 'casos_probables_acumulados'\n",
        "   * 'casos_activos_probables'\n",
        "\n",
        "\n"
      ]
    },
    {
      "cell_type": "code",
      "metadata": {
        "trusted": true,
        "id": "ZdpRu60NTpSo"
      },
      "source": [
        "# Carga de casos\n",
        "casos <- readRDS(\"covid.rds\")"
      ],
      "execution_count": 57,
      "outputs": []
    },
    {
      "cell_type": "code",
      "metadata": {
        "id": "37GxGypA7P-p",
        "outputId": "9d220d18-6a35-4ef7-f2c6-968e9e265365",
        "colab": {
          "base_uri": "https://localhost:8080/",
          "height": 34
        }
      },
      "source": [
        "# Qué acabo de importar?\n",
        "class(casos)"
      ],
      "execution_count": 60,
      "outputs": [
        {
          "output_type": "display_data",
          "data": {
            "text/plain": [
              "[1] \"list\""
            ],
            "text/latex": "'list'",
            "text/markdown": "'list'",
            "text/html": [
              "'list'"
            ]
          },
          "metadata": {
            "tags": []
          }
        }
      ]
    },
    {
      "cell_type": "code",
      "metadata": {
        "id": "TAunj97c7Ew4"
      },
      "source": [
        "str(casos)"
      ],
      "execution_count": null,
      "outputs": []
    },
    {
      "cell_type": "markdown",
      "metadata": {
        "id": "1Zqazqfcnxdk"
      },
      "source": [
        "## Pregunta 1.1\n",
        "\n",
        "**1a)** ¿Qué clase de objetos es `casos`? <br>\n",
        "**1b)** ¿Cuántos elementos posee este objeto?<br>\n",
        "**1c)** ¿Cuáles son los nombres de este objeto?<br>\n",
        "**1d)** ¿Qué clase de objeto está almacenado en sl _slot_ correspondiente al mes de junio (\"jun\") y cuántos elementos posee?<br>\n",
        "**1e)** Para el mes de junio, ¿a qué clase de objeto corresponde `casos_totales` y cuántos elementos posee?\n",
        "\n",
        "\n"
      ]
    },
    {
      "cell_type": "code",
      "metadata": {
        "id": "mKw24Fn0nwAt",
        "outputId": "6454740e-74b3-4e56-8a08-b413ad37a7dc",
        "colab": {
          "base_uri": "https://localhost:8080/",
          "height": 34
        }
      },
      "source": [
        "# P1.1a\n",
        "## Respuesta \n",
        "class(casos)"
      ],
      "execution_count": 61,
      "outputs": [
        {
          "output_type": "display_data",
          "data": {
            "text/plain": [
              "[1] \"list\""
            ],
            "text/latex": "'list'",
            "text/markdown": "'list'",
            "text/html": [
              "'list'"
            ]
          },
          "metadata": {
            "tags": []
          }
        }
      ]
    },
    {
      "cell_type": "code",
      "metadata": {
        "id": "liqqwk4m7zP6",
        "outputId": "e747afb9-7d1f-4184-8485-40bb61a59fe4",
        "colab": {
          "base_uri": "https://localhost:8080/",
          "height": 34
        }
      },
      "source": [
        "# P1.1b\n",
        "## Respuesta \n",
        "length(casos)"
      ],
      "execution_count": 62,
      "outputs": [
        {
          "output_type": "display_data",
          "data": {
            "text/plain": [
              "[1] 5"
            ],
            "text/latex": "5",
            "text/markdown": "5",
            "text/html": [
              "5"
            ]
          },
          "metadata": {
            "tags": []
          }
        }
      ]
    },
    {
      "cell_type": "code",
      "metadata": {
        "id": "R8K7J-lA8Bzl",
        "outputId": "19ff3fc7-5392-4d2a-f4b6-2268d0e12b42",
        "colab": {
          "base_uri": "https://localhost:8080/",
          "height": 34
        }
      },
      "source": [
        "# P1.1c\n",
        "## Respuesta \n",
        "names(casos)"
      ],
      "execution_count": 63,
      "outputs": [
        {
          "output_type": "display_data",
          "data": {
            "text/plain": [
              "[1] \"mar\" \"abr\" \"may\" \"jun\" \"jul\""
            ],
            "text/latex": "\\begin{enumerate*}\n\\item 'mar'\n\\item 'abr'\n\\item 'may'\n\\item 'jun'\n\\item 'jul'\n\\end{enumerate*}\n",
            "text/markdown": "1. 'mar'\n2. 'abr'\n3. 'may'\n4. 'jun'\n5. 'jul'\n\n\n",
            "text/html": [
              "<style>\n",
              ".list-inline {list-style: none; margin:0; padding: 0}\n",
              ".list-inline>li {display: inline-block}\n",
              ".list-inline>li:not(:last-child)::after {content: \"\\00b7\"; padding: 0 .5ex}\n",
              "</style>\n",
              "<ol class=list-inline><li>'mar'</li><li>'abr'</li><li>'may'</li><li>'jun'</li><li>'jul'</li></ol>\n"
            ]
          },
          "metadata": {
            "tags": []
          }
        }
      ]
    },
    {
      "cell_type": "code",
      "metadata": {
        "id": "DVzzxRyC8LuC"
      },
      "source": [
        "# P1.1c\n",
        "## Respuesta \n",
        "casos$jun"
      ],
      "execution_count": null,
      "outputs": []
    },
    {
      "cell_type": "code",
      "metadata": {
        "id": "cAD-c4Lz8oL7",
        "outputId": "74b1be8e-af99-4d8e-d816-7aec7ea184d5",
        "colab": {
          "base_uri": "https://localhost:8080/",
          "height": 34
        }
      },
      "source": [
        "length(casos$jun)\n",
        "# Podemos asumir que dentro de la lista de cada mes existen 15 dataframes asocia\n",
        "# dos a alguna información específica"
      ],
      "execution_count": 67,
      "outputs": [
        {
          "output_type": "display_data",
          "data": {
            "text/plain": [
              "[1] 15"
            ],
            "text/latex": "15",
            "text/markdown": "15",
            "text/html": [
              "15"
            ]
          },
          "metadata": {
            "tags": []
          }
        }
      ]
    },
    {
      "cell_type": "code",
      "metadata": {
        "id": "_P1MWGi087SM",
        "outputId": "541063f9-f893-4615-b866-1503c2340f46",
        "colab": {
          "base_uri": "https://localhost:8080/",
          "height": 34
        }
      },
      "source": [
        "# Para el mes de junio, ¿a qué clase de objeto corresponde casos_totales y cuántos elementos posee?\n",
        "# ALGORITMO \n",
        "# 1. Rescatar mes de junio\n",
        "# casos$jun\n",
        "# 2. Obtener tabla de casos_totales\n",
        "# casos$jun$casos_totales\n",
        "# 3. Contar cantidad de filas, que deben corresponder a la cantidad de días que tenga el mes (con casos_totales)\n",
        "nrow(casos$jun$casos_totales) "
      ],
      "execution_count": 71,
      "outputs": [
        {
          "output_type": "display_data",
          "data": {
            "text/plain": [
              "[1] 30"
            ],
            "text/latex": "30",
            "text/markdown": "30",
            "text/html": [
              "30"
            ]
          },
          "metadata": {
            "tags": []
          }
        }
      ]
    },
    {
      "cell_type": "code",
      "metadata": {
        "id": "oBDCYWou9wzt"
      },
      "source": [
        "?nrow"
      ],
      "execution_count": 72,
      "outputs": []
    },
    {
      "cell_type": "code",
      "metadata": {
        "id": "lssDqVZJ96YV",
        "outputId": "0c58b2a0-1196-4763-ed6d-5cf8c6f24bae",
        "colab": {
          "base_uri": "https://localhost:8080/",
          "height": 34
        }
      },
      "source": [
        "# Y si me interesan las columnas?\n",
        "ncol(casos$jun$casos_totales)"
      ],
      "execution_count": 73,
      "outputs": [
        {
          "output_type": "display_data",
          "data": {
            "text/plain": [
              "[1] 2"
            ],
            "text/latex": "2",
            "text/markdown": "2",
            "text/html": [
              "2"
            ]
          },
          "metadata": {
            "tags": []
          }
        }
      ]
    },
    {
      "cell_type": "markdown",
      "metadata": {
        "id": "AT8x21Yto0SD"
      },
      "source": [
        "## Pregunta 1.2\n",
        "\n",
        "**2a)** ¿Cuántos casos activos existían al 25 de marzo? (indique claramente la expresión de R para obtener el valor solicitado) .<br>\n",
        "**2b)** Genere cinco nuevas variables llamadas `totales_marzo`,`totales_abril` , `totales_mayo`, `totales_junio` y `totales_julio`, que contengan los dataframes correspondientes al slot `casos_totales` del mes respectivo, (por ejemplo, la variable `totales_julio` debe contener una dataframe de dimensión $8\\times2$.<br>\n",
        "**2c)** Para cada dataframe del paso anterior, genere una nueva columna llamada `mes`, que repita el nombre del mes correspondiente por cada fila.<br>\n",
        "**2d)** En cada data.frame, agregue una nueva columna llamada `casos_diarios` que contanga la información correspontiende al total de casos nuevos diarios(`casos_nuevos_totales`).\n"
      ]
    },
    {
      "cell_type": "code",
      "metadata": {
        "id": "jQxyM_qeo0ZS"
      },
      "source": [
        "# P1.2a\n",
        "## Respuesta \n",
        "# 1. Rescatar mes de marzo\n",
        "# 2. Obtener tabla de casos_activos\n",
        "# 3. Buscar fila 25 !!!(no funcionará)\n",
        "# 4. Identificar una metodología bulletproof"
      ],
      "execution_count": null,
      "outputs": []
    },
    {
      "cell_type": "code",
      "metadata": {
        "id": "YvW5FX7g_ftJ",
        "outputId": "4b7dc251-1c42-44af-e790-ac8c46885ba4",
        "colab": {
          "base_uri": "https://localhost:8080/",
          "height": 720
        }
      },
      "source": [
        "casos$mar$casos_activos"
      ],
      "execution_count": 85,
      "outputs": [
        {
          "output_type": "display_data",
          "data": {
            "text/plain": [
              "   total dia_del_mes\n",
              "1     1   2         \n",
              "2     1   3         \n",
              "3     3   4         \n",
              "4     4   5         \n",
              "5     5   6         \n",
              "6     7   7         \n",
              "7    10   8         \n",
              "8    15   9         \n",
              "9    17  10         \n",
              "10   23  11         \n",
              "11   33  12         \n",
              "12   43  13         \n",
              "13   61  14         \n",
              "14   75  15         \n",
              "15  156  16         \n",
              "16  200  17         \n",
              "17  235  18         \n",
              "18  338  19         \n",
              "19  429  20         \n",
              "20  531  21         \n",
              "21  623  22         \n",
              "22  734  23         \n",
              "23  903  24         \n",
              "24 1117  25         \n",
              "25 1269  26         \n",
              "26 1562  27         \n",
              "27 1842  28         \n",
              "28 2057  29         \n",
              "29 2285  30         \n",
              "30 2525  31         "
            ],
            "text/latex": "A data.frame: 30 × 2\n\\begin{tabular}{ll}\n total & dia\\_del\\_mes\\\\\n <dbl> & <int>\\\\\n\\hline\n\t    1 &  2\\\\\n\t    1 &  3\\\\\n\t    3 &  4\\\\\n\t    4 &  5\\\\\n\t    5 &  6\\\\\n\t    7 &  7\\\\\n\t   10 &  8\\\\\n\t   15 &  9\\\\\n\t   17 & 10\\\\\n\t   23 & 11\\\\\n\t   33 & 12\\\\\n\t   43 & 13\\\\\n\t   61 & 14\\\\\n\t   75 & 15\\\\\n\t  156 & 16\\\\\n\t  200 & 17\\\\\n\t  235 & 18\\\\\n\t  338 & 19\\\\\n\t  429 & 20\\\\\n\t  531 & 21\\\\\n\t  623 & 22\\\\\n\t  734 & 23\\\\\n\t  903 & 24\\\\\n\t 1117 & 25\\\\\n\t 1269 & 26\\\\\n\t 1562 & 27\\\\\n\t 1842 & 28\\\\\n\t 2057 & 29\\\\\n\t 2285 & 30\\\\\n\t 2525 & 31\\\\\n\\end{tabular}\n",
            "text/markdown": "\nA data.frame: 30 × 2\n\n| total &lt;dbl&gt; | dia_del_mes &lt;int&gt; |\n|---|---|\n|    1 |  2 |\n|    1 |  3 |\n|    3 |  4 |\n|    4 |  5 |\n|    5 |  6 |\n|    7 |  7 |\n|   10 |  8 |\n|   15 |  9 |\n|   17 | 10 |\n|   23 | 11 |\n|   33 | 12 |\n|   43 | 13 |\n|   61 | 14 |\n|   75 | 15 |\n|  156 | 16 |\n|  200 | 17 |\n|  235 | 18 |\n|  338 | 19 |\n|  429 | 20 |\n|  531 | 21 |\n|  623 | 22 |\n|  734 | 23 |\n|  903 | 24 |\n| 1117 | 25 |\n| 1269 | 26 |\n| 1562 | 27 |\n| 1842 | 28 |\n| 2057 | 29 |\n| 2285 | 30 |\n| 2525 | 31 |\n\n",
            "text/html": [
              "<table>\n",
              "<caption>A data.frame: 30 × 2</caption>\n",
              "<thead>\n",
              "\t<tr><th scope=col>total</th><th scope=col>dia_del_mes</th></tr>\n",
              "\t<tr><th scope=col>&lt;dbl&gt;</th><th scope=col>&lt;int&gt;</th></tr>\n",
              "</thead>\n",
              "<tbody>\n",
              "\t<tr><td>   1</td><td> 2</td></tr>\n",
              "\t<tr><td>   1</td><td> 3</td></tr>\n",
              "\t<tr><td>   3</td><td> 4</td></tr>\n",
              "\t<tr><td>   4</td><td> 5</td></tr>\n",
              "\t<tr><td>   5</td><td> 6</td></tr>\n",
              "\t<tr><td>   7</td><td> 7</td></tr>\n",
              "\t<tr><td>  10</td><td> 8</td></tr>\n",
              "\t<tr><td>  15</td><td> 9</td></tr>\n",
              "\t<tr><td>  17</td><td>10</td></tr>\n",
              "\t<tr><td>  23</td><td>11</td></tr>\n",
              "\t<tr><td>  33</td><td>12</td></tr>\n",
              "\t<tr><td>  43</td><td>13</td></tr>\n",
              "\t<tr><td>  61</td><td>14</td></tr>\n",
              "\t<tr><td>  75</td><td>15</td></tr>\n",
              "\t<tr><td> 156</td><td>16</td></tr>\n",
              "\t<tr><td> 200</td><td>17</td></tr>\n",
              "\t<tr><td> 235</td><td>18</td></tr>\n",
              "\t<tr><td> 338</td><td>19</td></tr>\n",
              "\t<tr><td> 429</td><td>20</td></tr>\n",
              "\t<tr><td> 531</td><td>21</td></tr>\n",
              "\t<tr><td> 623</td><td>22</td></tr>\n",
              "\t<tr><td> 734</td><td>23</td></tr>\n",
              "\t<tr><td> 903</td><td>24</td></tr>\n",
              "\t<tr><td>1117</td><td>25</td></tr>\n",
              "\t<tr><td>1269</td><td>26</td></tr>\n",
              "\t<tr><td>1562</td><td>27</td></tr>\n",
              "\t<tr><td>1842</td><td>28</td></tr>\n",
              "\t<tr><td>2057</td><td>29</td></tr>\n",
              "\t<tr><td>2285</td><td>30</td></tr>\n",
              "\t<tr><td>2525</td><td>31</td></tr>\n",
              "</tbody>\n",
              "</table>\n"
            ]
          },
          "metadata": {
            "tags": []
          }
        }
      ]
    },
    {
      "cell_type": "code",
      "metadata": {
        "id": "YzZTEPlZ-aUh",
        "outputId": "d242202f-0e45-4e58-8c43-577a4ec1073c",
        "colab": {
          "base_uri": "https://localhost:8080/",
          "height": 100
        }
      },
      "source": [
        "# Esto NO sirve, porque la fila 25 corresponde al día 26 del mes.\n",
        "casos$mar$casos_activos[25,]"
      ],
      "execution_count": 80,
      "outputs": [
        {
          "output_type": "display_data",
          "data": {
            "text/plain": [
              "   total dia_del_mes\n",
              "25 1269  26         "
            ],
            "text/latex": "A data.frame: 1 × 2\n\\begin{tabular}{r|ll}\n  & total & dia\\_del\\_mes\\\\\n  & <dbl> & <int>\\\\\n\\hline\n\t25 & 1269 & 26\\\\\n\\end{tabular}\n",
            "text/markdown": "\nA data.frame: 1 × 2\n\n| <!--/--> | total &lt;dbl&gt; | dia_del_mes &lt;int&gt; |\n|---|---|---|\n| 25 | 1269 | 26 |\n\n",
            "text/html": [
              "<table>\n",
              "<caption>A data.frame: 1 × 2</caption>\n",
              "<thead>\n",
              "\t<tr><th></th><th scope=col>total</th><th scope=col>dia_del_mes</th></tr>\n",
              "\t<tr><th></th><th scope=col>&lt;dbl&gt;</th><th scope=col>&lt;int&gt;</th></tr>\n",
              "</thead>\n",
              "<tbody>\n",
              "\t<tr><th scope=row>25</th><td>1269</td><td>26</td></tr>\n",
              "</tbody>\n",
              "</table>\n"
            ]
          },
          "metadata": {
            "tags": []
          }
        }
      ]
    },
    {
      "cell_type": "code",
      "metadata": {
        "id": "kqadhvcv-6A3",
        "outputId": "7ee0b077-a843-4bc4-9385-6d0c434ff299",
        "colab": {
          "base_uri": "https://localhost:8080/",
          "height": 52
        }
      },
      "source": [
        "# Verificamos que se cumpla la condición requerida\n",
        "casos$mar$casos_activos$dia_del_mes == 25"
      ],
      "execution_count": 82,
      "outputs": [
        {
          "output_type": "display_data",
          "data": {
            "text/plain": [
              " [1] FALSE FALSE FALSE FALSE FALSE FALSE FALSE FALSE FALSE FALSE FALSE FALSE\n",
              "[13] FALSE FALSE FALSE FALSE FALSE FALSE FALSE FALSE FALSE FALSE FALSE  TRUE\n",
              "[25] FALSE FALSE FALSE FALSE FALSE FALSE"
            ],
            "text/latex": "\\begin{enumerate*}\n\\item FALSE\n\\item FALSE\n\\item FALSE\n\\item FALSE\n\\item FALSE\n\\item FALSE\n\\item FALSE\n\\item FALSE\n\\item FALSE\n\\item FALSE\n\\item FALSE\n\\item FALSE\n\\item FALSE\n\\item FALSE\n\\item FALSE\n\\item FALSE\n\\item FALSE\n\\item FALSE\n\\item FALSE\n\\item FALSE\n\\item FALSE\n\\item FALSE\n\\item FALSE\n\\item TRUE\n\\item FALSE\n\\item FALSE\n\\item FALSE\n\\item FALSE\n\\item FALSE\n\\item FALSE\n\\end{enumerate*}\n",
            "text/markdown": "1. FALSE\n2. FALSE\n3. FALSE\n4. FALSE\n5. FALSE\n6. FALSE\n7. FALSE\n8. FALSE\n9. FALSE\n10. FALSE\n11. FALSE\n12. FALSE\n13. FALSE\n14. FALSE\n15. FALSE\n16. FALSE\n17. FALSE\n18. FALSE\n19. FALSE\n20. FALSE\n21. FALSE\n22. FALSE\n23. FALSE\n24. TRUE\n25. FALSE\n26. FALSE\n27. FALSE\n28. FALSE\n29. FALSE\n30. FALSE\n\n\n",
            "text/html": [
              "<style>\n",
              ".list-inline {list-style: none; margin:0; padding: 0}\n",
              ".list-inline>li {display: inline-block}\n",
              ".list-inline>li:not(:last-child)::after {content: \"\\00b7\"; padding: 0 .5ex}\n",
              "</style>\n",
              "<ol class=list-inline><li>FALSE</li><li>FALSE</li><li>FALSE</li><li>FALSE</li><li>FALSE</li><li>FALSE</li><li>FALSE</li><li>FALSE</li><li>FALSE</li><li>FALSE</li><li>FALSE</li><li>FALSE</li><li>FALSE</li><li>FALSE</li><li>FALSE</li><li>FALSE</li><li>FALSE</li><li>FALSE</li><li>FALSE</li><li>FALSE</li><li>FALSE</li><li>FALSE</li><li>FALSE</li><li>TRUE</li><li>FALSE</li><li>FALSE</li><li>FALSE</li><li>FALSE</li><li>FALSE</li><li>FALSE</li></ol>\n"
            ]
          },
          "metadata": {
            "tags": []
          }
        }
      ]
    },
    {
      "cell_type": "code",
      "metadata": {
        "id": "heusCsQn_H5S",
        "outputId": "472960c8-c664-4d2d-ced0-2b4b207dcdc3",
        "colab": {
          "base_uri": "https://localhost:8080/",
          "height": 100
        }
      },
      "source": [
        "# El elemento anterior nos permite filtrar el dataframe, entramos por su valor!!\n",
        "# df[row!!!, col]\n",
        "casos$mar$casos_activos[casos$mar$casos_activos$dia_del_mes == 25,]"
      ],
      "execution_count": 84,
      "outputs": [
        {
          "output_type": "display_data",
          "data": {
            "text/plain": [
              "   total dia_del_mes\n",
              "24 1117  25         "
            ],
            "text/latex": "A data.frame: 1 × 2\n\\begin{tabular}{r|ll}\n  & total & dia\\_del\\_mes\\\\\n  & <dbl> & <int>\\\\\n\\hline\n\t24 & 1117 & 25\\\\\n\\end{tabular}\n",
            "text/markdown": "\nA data.frame: 1 × 2\n\n| <!--/--> | total &lt;dbl&gt; | dia_del_mes &lt;int&gt; |\n|---|---|---|\n| 24 | 1117 | 25 |\n\n",
            "text/html": [
              "<table>\n",
              "<caption>A data.frame: 1 × 2</caption>\n",
              "<thead>\n",
              "\t<tr><th></th><th scope=col>total</th><th scope=col>dia_del_mes</th></tr>\n",
              "\t<tr><th></th><th scope=col>&lt;dbl&gt;</th><th scope=col>&lt;int&gt;</th></tr>\n",
              "</thead>\n",
              "<tbody>\n",
              "\t<tr><th scope=row>24</th><td>1117</td><td>25</td></tr>\n",
              "</tbody>\n",
              "</table>\n"
            ]
          },
          "metadata": {
            "tags": []
          }
        }
      ]
    },
    {
      "cell_type": "markdown",
      "metadata": {
        "id": "EJHzvFqkAgiL"
      },
      "source": [
        "Genere cinco nuevas variables llamadas totales_marzo,totales_abril , totales_mayo, totales_junio y totales_julio, que contengan los dataframes correspondientes al slot casos_totales del mes respectivo, (por ejemplo, la variable totales_julio debe contener una dataframe de dimensión 8×2."
      ]
    },
    {
      "cell_type": "code",
      "metadata": {
        "id": "jvtSQYpmAlDH"
      },
      "source": [
        "# P1.2b\n",
        "totales_marzo <- casos$mar$casos_totales\n",
        "totales_abril <- casos$abr$casos_totales\n",
        "totales_mayo <- casos$may$casos_totales\n",
        "totales_junio <- casos$jun$casos_totales\n",
        "totales_julio <- casos$jul$casos_totales"
      ],
      "execution_count": 92,
      "outputs": []
    },
    {
      "cell_type": "code",
      "metadata": {
        "id": "MFnR1_J9AwdO",
        "outputId": "9e5cb58f-877e-49dd-8978-a5d291c76948",
        "colab": {
          "base_uri": "https://localhost:8080/",
          "height": 250
        }
      },
      "source": [
        "totales_julio"
      ],
      "execution_count": 94,
      "outputs": [
        {
          "output_type": "display_data",
          "data": {
            "text/plain": [
              "  total  dia_del_mes\n",
              "1 282043 1          \n",
              "2 284541 2          \n",
              "3 288089 3          \n",
              "4 291847 4          \n",
              "5 295532 5          \n",
              "6 298557 6          \n",
              "7 301019 7          \n",
              "8 303083 8          "
            ],
            "text/latex": "A data.frame: 8 × 2\n\\begin{tabular}{ll}\n total & dia\\_del\\_mes\\\\\n <dbl> & <int>\\\\\n\\hline\n\t 282043 & 1\\\\\n\t 284541 & 2\\\\\n\t 288089 & 3\\\\\n\t 291847 & 4\\\\\n\t 295532 & 5\\\\\n\t 298557 & 6\\\\\n\t 301019 & 7\\\\\n\t 303083 & 8\\\\\n\\end{tabular}\n",
            "text/markdown": "\nA data.frame: 8 × 2\n\n| total &lt;dbl&gt; | dia_del_mes &lt;int&gt; |\n|---|---|\n| 282043 | 1 |\n| 284541 | 2 |\n| 288089 | 3 |\n| 291847 | 4 |\n| 295532 | 5 |\n| 298557 | 6 |\n| 301019 | 7 |\n| 303083 | 8 |\n\n",
            "text/html": [
              "<table>\n",
              "<caption>A data.frame: 8 × 2</caption>\n",
              "<thead>\n",
              "\t<tr><th scope=col>total</th><th scope=col>dia_del_mes</th></tr>\n",
              "\t<tr><th scope=col>&lt;dbl&gt;</th><th scope=col>&lt;int&gt;</th></tr>\n",
              "</thead>\n",
              "<tbody>\n",
              "\t<tr><td>282043</td><td>1</td></tr>\n",
              "\t<tr><td>284541</td><td>2</td></tr>\n",
              "\t<tr><td>288089</td><td>3</td></tr>\n",
              "\t<tr><td>291847</td><td>4</td></tr>\n",
              "\t<tr><td>295532</td><td>5</td></tr>\n",
              "\t<tr><td>298557</td><td>6</td></tr>\n",
              "\t<tr><td>301019</td><td>7</td></tr>\n",
              "\t<tr><td>303083</td><td>8</td></tr>\n",
              "</tbody>\n",
              "</table>\n"
            ]
          },
          "metadata": {
            "tags": []
          }
        }
      ]
    },
    {
      "cell_type": "code",
      "metadata": {
        "id": "DL_3XjzQBP-N",
        "outputId": "aabf9459-40a2-4a5c-bc8f-229acee55b18",
        "colab": {
          "base_uri": "https://localhost:8080/",
          "height": 143
        }
      },
      "source": [
        "# Para cada dataframe del paso anterior, genere una nueva columna llamada mes, que repita el nombre del mes correspondiente por cada fila.\n",
        "totales_marzo$mes <- \"marzo\" # totales_marzo[[\"mes\"]]\n",
        "totales_abril$mes <- \"abril\"\n",
        "totales_mayo$mes <- \"mayo\"\n",
        "totales_junio$mes <- \"junio\"\n",
        "totales_julio$mes <- \"julio\"\n",
        "\n",
        "#totales_marzo\n",
        "head(totales_julio,3)"
      ],
      "execution_count": 102,
      "outputs": [
        {
          "output_type": "display_data",
          "data": {
            "text/plain": [
              "  total  dia_del_mes mes  \n",
              "1 282043 1           julio\n",
              "2 284541 2           julio\n",
              "3 288089 3           julio"
            ],
            "text/latex": "A data.frame: 3 × 3\n\\begin{tabular}{r|lll}\n  & total & dia\\_del\\_mes & mes\\\\\n  & <dbl> & <int> & <chr>\\\\\n\\hline\n\t1 & 282043 & 1 & julio\\\\\n\t2 & 284541 & 2 & julio\\\\\n\t3 & 288089 & 3 & julio\\\\\n\\end{tabular}\n",
            "text/markdown": "\nA data.frame: 3 × 3\n\n| <!--/--> | total &lt;dbl&gt; | dia_del_mes &lt;int&gt; | mes &lt;chr&gt; |\n|---|---|---|---|\n| 1 | 282043 | 1 | julio |\n| 2 | 284541 | 2 | julio |\n| 3 | 288089 | 3 | julio |\n\n",
            "text/html": [
              "<table>\n",
              "<caption>A data.frame: 3 × 3</caption>\n",
              "<thead>\n",
              "\t<tr><th></th><th scope=col>total</th><th scope=col>dia_del_mes</th><th scope=col>mes</th></tr>\n",
              "\t<tr><th></th><th scope=col>&lt;dbl&gt;</th><th scope=col>&lt;int&gt;</th><th scope=col>&lt;chr&gt;</th></tr>\n",
              "</thead>\n",
              "<tbody>\n",
              "\t<tr><th scope=row>1</th><td>282043</td><td>1</td><td>julio</td></tr>\n",
              "\t<tr><th scope=row>2</th><td>284541</td><td>2</td><td>julio</td></tr>\n",
              "\t<tr><th scope=row>3</th><td>288089</td><td>3</td><td>julio</td></tr>\n",
              "</tbody>\n",
              "</table>\n"
            ]
          },
          "metadata": {
            "tags": []
          }
        }
      ]
    },
    {
      "cell_type": "markdown",
      "metadata": {
        "id": "gN9GwDT1Ben3"
      },
      "source": [
        "[!]: esta acción anterior \"recicla\" el elemento asignado\n"
      ]
    },
    {
      "cell_type": "code",
      "metadata": {
        "id": "ED--34wjBsh_",
        "outputId": "3cbd1f09-6728-4824-d124-c9109e291032",
        "colab": {
          "base_uri": "https://localhost:8080/",
          "height": 648
        }
      },
      "source": [
        "# d) En cada data.frame, agregue una nueva columna llamada casos_diarios que \n",
        "# contanga la información correspontiende al total de casos nuevos \n",
        "# diarios(casos_nuevos_totales).\n",
        "\n",
        "totales_marzo[[\"casos_diarios\"]] <- casos$mar$casos_nuevos_totales$total\n",
        "totales_abril[[\"casos_diarios\"]] <- casos$abr$casos_nuevos_totales$total\n",
        "totales_mayo[[\"casos_diarios\"]] <- casos$may$casos_nuevos_totales$total\n",
        "totales_junio[[\"casos_diarios\"]] <- casos$jun$casos_nuevos_totales$total\n",
        "totales_julio[[\"casos_diarios\"]] <- casos$jul$casos_nuevos_totales$total\n",
        "\n",
        "head(totales_marzo,3)\n",
        "head(totales_abril,3)\n",
        "head(totales_mayo,3)\n",
        "head(totales_junio,3)\n",
        "head(totales_julio,3)"
      ],
      "execution_count": 108,
      "outputs": [
        {
          "output_type": "display_data",
          "data": {
            "text/plain": [
              "  total dia_del_mes mes   casos_diarios\n",
              "1 1     2           marzo 1            \n",
              "2 1     3           marzo 0            \n",
              "3 3     4           marzo 2            "
            ],
            "text/latex": "A data.frame: 3 × 4\n\\begin{tabular}{r|llll}\n  & total & dia\\_del\\_mes & mes & casos\\_diarios\\\\\n  & <dbl> & <int> & <chr> & <dbl>\\\\\n\\hline\n\t1 & 1 & 2 & marzo & 1\\\\\n\t2 & 1 & 3 & marzo & 0\\\\\n\t3 & 3 & 4 & marzo & 2\\\\\n\\end{tabular}\n",
            "text/markdown": "\nA data.frame: 3 × 4\n\n| <!--/--> | total &lt;dbl&gt; | dia_del_mes &lt;int&gt; | mes &lt;chr&gt; | casos_diarios &lt;dbl&gt; |\n|---|---|---|---|---|\n| 1 | 1 | 2 | marzo | 1 |\n| 2 | 1 | 3 | marzo | 0 |\n| 3 | 3 | 4 | marzo | 2 |\n\n",
            "text/html": [
              "<table>\n",
              "<caption>A data.frame: 3 × 4</caption>\n",
              "<thead>\n",
              "\t<tr><th></th><th scope=col>total</th><th scope=col>dia_del_mes</th><th scope=col>mes</th><th scope=col>casos_diarios</th></tr>\n",
              "\t<tr><th></th><th scope=col>&lt;dbl&gt;</th><th scope=col>&lt;int&gt;</th><th scope=col>&lt;chr&gt;</th><th scope=col>&lt;dbl&gt;</th></tr>\n",
              "</thead>\n",
              "<tbody>\n",
              "\t<tr><th scope=row>1</th><td>1</td><td>2</td><td>marzo</td><td>1</td></tr>\n",
              "\t<tr><th scope=row>2</th><td>1</td><td>3</td><td>marzo</td><td>0</td></tr>\n",
              "\t<tr><th scope=row>3</th><td>3</td><td>4</td><td>marzo</td><td>2</td></tr>\n",
              "</tbody>\n",
              "</table>\n"
            ]
          },
          "metadata": {
            "tags": []
          }
        },
        {
          "output_type": "display_data",
          "data": {
            "text/plain": [
              "  total dia_del_mes mes   casos_diarios\n",
              "1 3031  1           abril 293          \n",
              "2 3404  2           abril 373          \n",
              "3 3737  3           abril 333          "
            ],
            "text/latex": "A data.frame: 3 × 4\n\\begin{tabular}{r|llll}\n  & total & dia\\_del\\_mes & mes & casos\\_diarios\\\\\n  & <dbl> & <int> & <chr> & <dbl>\\\\\n\\hline\n\t1 & 3031 & 1 & abril & 293\\\\\n\t2 & 3404 & 2 & abril & 373\\\\\n\t3 & 3737 & 3 & abril & 333\\\\\n\\end{tabular}\n",
            "text/markdown": "\nA data.frame: 3 × 4\n\n| <!--/--> | total &lt;dbl&gt; | dia_del_mes &lt;int&gt; | mes &lt;chr&gt; | casos_diarios &lt;dbl&gt; |\n|---|---|---|---|---|\n| 1 | 3031 | 1 | abril | 293 |\n| 2 | 3404 | 2 | abril | 373 |\n| 3 | 3737 | 3 | abril | 333 |\n\n",
            "text/html": [
              "<table>\n",
              "<caption>A data.frame: 3 × 4</caption>\n",
              "<thead>\n",
              "\t<tr><th></th><th scope=col>total</th><th scope=col>dia_del_mes</th><th scope=col>mes</th><th scope=col>casos_diarios</th></tr>\n",
              "\t<tr><th></th><th scope=col>&lt;dbl&gt;</th><th scope=col>&lt;int&gt;</th><th scope=col>&lt;chr&gt;</th><th scope=col>&lt;dbl&gt;</th></tr>\n",
              "</thead>\n",
              "<tbody>\n",
              "\t<tr><th scope=row>1</th><td>3031</td><td>1</td><td>abril</td><td>293</td></tr>\n",
              "\t<tr><th scope=row>2</th><td>3404</td><td>2</td><td>abril</td><td>373</td></tr>\n",
              "\t<tr><th scope=row>3</th><td>3737</td><td>3</td><td>abril</td><td>333</td></tr>\n",
              "</tbody>\n",
              "</table>\n"
            ]
          },
          "metadata": {
            "tags": []
          }
        },
        {
          "output_type": "display_data",
          "data": {
            "text/plain": [
              "  total dia_del_mes mes  casos_diarios\n",
              "1 17008 1           mayo  985         \n",
              "2 18435 2           mayo 1427         \n",
              "3 19663 3           mayo 1228         "
            ],
            "text/latex": "A data.frame: 3 × 4\n\\begin{tabular}{r|llll}\n  & total & dia\\_del\\_mes & mes & casos\\_diarios\\\\\n  & <dbl> & <int> & <chr> & <dbl>\\\\\n\\hline\n\t1 & 17008 & 1 & mayo &  985\\\\\n\t2 & 18435 & 2 & mayo & 1427\\\\\n\t3 & 19663 & 3 & mayo & 1228\\\\\n\\end{tabular}\n",
            "text/markdown": "\nA data.frame: 3 × 4\n\n| <!--/--> | total &lt;dbl&gt; | dia_del_mes &lt;int&gt; | mes &lt;chr&gt; | casos_diarios &lt;dbl&gt; |\n|---|---|---|---|---|\n| 1 | 17008 | 1 | mayo |  985 |\n| 2 | 18435 | 2 | mayo | 1427 |\n| 3 | 19663 | 3 | mayo | 1228 |\n\n",
            "text/html": [
              "<table>\n",
              "<caption>A data.frame: 3 × 4</caption>\n",
              "<thead>\n",
              "\t<tr><th></th><th scope=col>total</th><th scope=col>dia_del_mes</th><th scope=col>mes</th><th scope=col>casos_diarios</th></tr>\n",
              "\t<tr><th></th><th scope=col>&lt;dbl&gt;</th><th scope=col>&lt;int&gt;</th><th scope=col>&lt;chr&gt;</th><th scope=col>&lt;dbl&gt;</th></tr>\n",
              "</thead>\n",
              "<tbody>\n",
              "\t<tr><th scope=row>1</th><td>17008</td><td>1</td><td>mayo</td><td> 985</td></tr>\n",
              "\t<tr><th scope=row>2</th><td>18435</td><td>2</td><td>mayo</td><td>1427</td></tr>\n",
              "\t<tr><th scope=row>3</th><td>19663</td><td>3</td><td>mayo</td><td>1228</td></tr>\n",
              "</tbody>\n",
              "</table>\n"
            ]
          },
          "metadata": {
            "tags": []
          }
        },
        {
          "output_type": "display_data",
          "data": {
            "text/plain": [
              "  total  dia_del_mes mes   casos_diarios\n",
              "1 105159 1           junio 5471         \n",
              "2 108686 2           junio 3527         \n",
              "3 113628 3           junio 4942         "
            ],
            "text/latex": "A data.frame: 3 × 4\n\\begin{tabular}{r|llll}\n  & total & dia\\_del\\_mes & mes & casos\\_diarios\\\\\n  & <dbl> & <int> & <chr> & <dbl>\\\\\n\\hline\n\t1 & 105159 & 1 & junio & 5471\\\\\n\t2 & 108686 & 2 & junio & 3527\\\\\n\t3 & 113628 & 3 & junio & 4942\\\\\n\\end{tabular}\n",
            "text/markdown": "\nA data.frame: 3 × 4\n\n| <!--/--> | total &lt;dbl&gt; | dia_del_mes &lt;int&gt; | mes &lt;chr&gt; | casos_diarios &lt;dbl&gt; |\n|---|---|---|---|---|\n| 1 | 105159 | 1 | junio | 5471 |\n| 2 | 108686 | 2 | junio | 3527 |\n| 3 | 113628 | 3 | junio | 4942 |\n\n",
            "text/html": [
              "<table>\n",
              "<caption>A data.frame: 3 × 4</caption>\n",
              "<thead>\n",
              "\t<tr><th></th><th scope=col>total</th><th scope=col>dia_del_mes</th><th scope=col>mes</th><th scope=col>casos_diarios</th></tr>\n",
              "\t<tr><th></th><th scope=col>&lt;dbl&gt;</th><th scope=col>&lt;int&gt;</th><th scope=col>&lt;chr&gt;</th><th scope=col>&lt;dbl&gt;</th></tr>\n",
              "</thead>\n",
              "<tbody>\n",
              "\t<tr><th scope=row>1</th><td>105159</td><td>1</td><td>junio</td><td>5471</td></tr>\n",
              "\t<tr><th scope=row>2</th><td>108686</td><td>2</td><td>junio</td><td>3527</td></tr>\n",
              "\t<tr><th scope=row>3</th><td>113628</td><td>3</td><td>junio</td><td>4942</td></tr>\n",
              "</tbody>\n",
              "</table>\n"
            ]
          },
          "metadata": {
            "tags": []
          }
        },
        {
          "output_type": "display_data",
          "data": {
            "text/plain": [
              "  total  dia_del_mes mes   casos_diarios\n",
              "1 282043 1           julio 2650         \n",
              "2 284541 2           julio 2498         \n",
              "3 288089 3           julio 3548         "
            ],
            "text/latex": "A data.frame: 3 × 4\n\\begin{tabular}{r|llll}\n  & total & dia\\_del\\_mes & mes & casos\\_diarios\\\\\n  & <dbl> & <int> & <chr> & <dbl>\\\\\n\\hline\n\t1 & 282043 & 1 & julio & 2650\\\\\n\t2 & 284541 & 2 & julio & 2498\\\\\n\t3 & 288089 & 3 & julio & 3548\\\\\n\\end{tabular}\n",
            "text/markdown": "\nA data.frame: 3 × 4\n\n| <!--/--> | total &lt;dbl&gt; | dia_del_mes &lt;int&gt; | mes &lt;chr&gt; | casos_diarios &lt;dbl&gt; |\n|---|---|---|---|---|\n| 1 | 282043 | 1 | julio | 2650 |\n| 2 | 284541 | 2 | julio | 2498 |\n| 3 | 288089 | 3 | julio | 3548 |\n\n",
            "text/html": [
              "<table>\n",
              "<caption>A data.frame: 3 × 4</caption>\n",
              "<thead>\n",
              "\t<tr><th></th><th scope=col>total</th><th scope=col>dia_del_mes</th><th scope=col>mes</th><th scope=col>casos_diarios</th></tr>\n",
              "\t<tr><th></th><th scope=col>&lt;dbl&gt;</th><th scope=col>&lt;int&gt;</th><th scope=col>&lt;chr&gt;</th><th scope=col>&lt;dbl&gt;</th></tr>\n",
              "</thead>\n",
              "<tbody>\n",
              "\t<tr><th scope=row>1</th><td>282043</td><td>1</td><td>julio</td><td>2650</td></tr>\n",
              "\t<tr><th scope=row>2</th><td>284541</td><td>2</td><td>julio</td><td>2498</td></tr>\n",
              "\t<tr><th scope=row>3</th><td>288089</td><td>3</td><td>julio</td><td>3548</td></tr>\n",
              "</tbody>\n",
              "</table>\n"
            ]
          },
          "metadata": {
            "tags": []
          }
        }
      ]
    },
    {
      "cell_type": "markdown",
      "metadata": {
        "id": "mO_ORER5o0gU"
      },
      "source": [
        "## Pregunta 1.3\n",
        "\n",
        "**3a)** Con la ayuda de lafunción rbind() , una las filas de las 5 tablas generadas en la pregunta anterior y guarde la tabla resultante en una variable llamada `casos_hist`.<br>\n",
        "**3b)** En promedio, ¿Cuántos casos hay diariamente desde el 03 de marzo hasta el 08 de julio?<br>\n",
        "**3c)** En promedio, ¿Cuántos casos hay diariamente **en cada mes** ?.<br>\n"
      ]
    },
    {
      "cell_type": "code",
      "metadata": {
        "id": "uXSX0rCBo0mQ"
      },
      "source": [
        "# P1.3\n",
        "## Respuesta\n",
        "casos_hist <- rbind(\n",
        "  totales_marzo,\n",
        "  totales_abril,\n",
        "  totales_mayo,\n",
        "  totales_junio,\n",
        "  totales_julio\n",
        ") "
      ],
      "execution_count": 109,
      "outputs": []
    },
    {
      "cell_type": "code",
      "metadata": {
        "id": "8DNOTE4wESD5",
        "outputId": "2f4d86d0-8a1b-4934-8e7d-99da951fe695",
        "colab": {
          "base_uri": "https://localhost:8080/",
          "height": 355
        }
      },
      "source": [
        "head(casos_hist, 5)\n",
        "tail(casos_hist, 5)"
      ],
      "execution_count": 110,
      "outputs": [
        {
          "output_type": "display_data",
          "data": {
            "text/plain": [
              "  total dia_del_mes mes   casos_diarios\n",
              "1 1     2           marzo 1            \n",
              "2 1     3           marzo 0            \n",
              "3 3     4           marzo 2            \n",
              "4 4     5           marzo 1            \n",
              "5 5     6           marzo 1            "
            ],
            "text/latex": "A data.frame: 5 × 4\n\\begin{tabular}{r|llll}\n  & total & dia\\_del\\_mes & mes & casos\\_diarios\\\\\n  & <dbl> & <int> & <chr> & <dbl>\\\\\n\\hline\n\t1 & 1 & 2 & marzo & 1\\\\\n\t2 & 1 & 3 & marzo & 0\\\\\n\t3 & 3 & 4 & marzo & 2\\\\\n\t4 & 4 & 5 & marzo & 1\\\\\n\t5 & 5 & 6 & marzo & 1\\\\\n\\end{tabular}\n",
            "text/markdown": "\nA data.frame: 5 × 4\n\n| <!--/--> | total &lt;dbl&gt; | dia_del_mes &lt;int&gt; | mes &lt;chr&gt; | casos_diarios &lt;dbl&gt; |\n|---|---|---|---|---|\n| 1 | 1 | 2 | marzo | 1 |\n| 2 | 1 | 3 | marzo | 0 |\n| 3 | 3 | 4 | marzo | 2 |\n| 4 | 4 | 5 | marzo | 1 |\n| 5 | 5 | 6 | marzo | 1 |\n\n",
            "text/html": [
              "<table>\n",
              "<caption>A data.frame: 5 × 4</caption>\n",
              "<thead>\n",
              "\t<tr><th></th><th scope=col>total</th><th scope=col>dia_del_mes</th><th scope=col>mes</th><th scope=col>casos_diarios</th></tr>\n",
              "\t<tr><th></th><th scope=col>&lt;dbl&gt;</th><th scope=col>&lt;int&gt;</th><th scope=col>&lt;chr&gt;</th><th scope=col>&lt;dbl&gt;</th></tr>\n",
              "</thead>\n",
              "<tbody>\n",
              "\t<tr><th scope=row>1</th><td>1</td><td>2</td><td>marzo</td><td>1</td></tr>\n",
              "\t<tr><th scope=row>2</th><td>1</td><td>3</td><td>marzo</td><td>0</td></tr>\n",
              "\t<tr><th scope=row>3</th><td>3</td><td>4</td><td>marzo</td><td>2</td></tr>\n",
              "\t<tr><th scope=row>4</th><td>4</td><td>5</td><td>marzo</td><td>1</td></tr>\n",
              "\t<tr><th scope=row>5</th><td>5</td><td>6</td><td>marzo</td><td>1</td></tr>\n",
              "</tbody>\n",
              "</table>\n"
            ]
          },
          "metadata": {
            "tags": []
          }
        },
        {
          "output_type": "display_data",
          "data": {
            "text/plain": [
              "    total  dia_del_mes mes   casos_diarios\n",
              "125 291847 4           julio 3758         \n",
              "126 295532 5           julio 3685         \n",
              "127 298557 6           julio 3025         \n",
              "128 301019 7           julio 2462         \n",
              "129 303083 8           julio 2064         "
            ],
            "text/latex": "A data.frame: 5 × 4\n\\begin{tabular}{r|llll}\n  & total & dia\\_del\\_mes & mes & casos\\_diarios\\\\\n  & <dbl> & <int> & <chr> & <dbl>\\\\\n\\hline\n\t125 & 291847 & 4 & julio & 3758\\\\\n\t126 & 295532 & 5 & julio & 3685\\\\\n\t127 & 298557 & 6 & julio & 3025\\\\\n\t128 & 301019 & 7 & julio & 2462\\\\\n\t129 & 303083 & 8 & julio & 2064\\\\\n\\end{tabular}\n",
            "text/markdown": "\nA data.frame: 5 × 4\n\n| <!--/--> | total &lt;dbl&gt; | dia_del_mes &lt;int&gt; | mes &lt;chr&gt; | casos_diarios &lt;dbl&gt; |\n|---|---|---|---|---|\n| 125 | 291847 | 4 | julio | 3758 |\n| 126 | 295532 | 5 | julio | 3685 |\n| 127 | 298557 | 6 | julio | 3025 |\n| 128 | 301019 | 7 | julio | 2462 |\n| 129 | 303083 | 8 | julio | 2064 |\n\n",
            "text/html": [
              "<table>\n",
              "<caption>A data.frame: 5 × 4</caption>\n",
              "<thead>\n",
              "\t<tr><th></th><th scope=col>total</th><th scope=col>dia_del_mes</th><th scope=col>mes</th><th scope=col>casos_diarios</th></tr>\n",
              "\t<tr><th></th><th scope=col>&lt;dbl&gt;</th><th scope=col>&lt;int&gt;</th><th scope=col>&lt;chr&gt;</th><th scope=col>&lt;dbl&gt;</th></tr>\n",
              "</thead>\n",
              "<tbody>\n",
              "\t<tr><th scope=row>125</th><td>291847</td><td>4</td><td>julio</td><td>3758</td></tr>\n",
              "\t<tr><th scope=row>126</th><td>295532</td><td>5</td><td>julio</td><td>3685</td></tr>\n",
              "\t<tr><th scope=row>127</th><td>298557</td><td>6</td><td>julio</td><td>3025</td></tr>\n",
              "\t<tr><th scope=row>128</th><td>301019</td><td>7</td><td>julio</td><td>2462</td></tr>\n",
              "\t<tr><th scope=row>129</th><td>303083</td><td>8</td><td>julio</td><td>2064</td></tr>\n",
              "</tbody>\n",
              "</table>\n"
            ]
          },
          "metadata": {
            "tags": []
          }
        }
      ]
    },
    {
      "cell_type": "code",
      "metadata": {
        "id": "xCZfKF4yEbMK",
        "outputId": "4c10ff57-e83e-49bd-8e4b-82ebc85930a0",
        "colab": {
          "base_uri": "https://localhost:8080/",
          "height": 34
        }
      },
      "source": [
        "# P1.3.b\n",
        "mean(casos_hist[2:129,\"casos_diarios\"])\n",
        "# casos_hist$fecha <- as.Date() TAREA! tip: usar format() !"
      ],
      "execution_count": 115,
      "outputs": [
        {
          "output_type": "display_data",
          "data": {
            "text/plain": [
              "[1] 2122.344"
            ],
            "text/latex": "2122.34375",
            "text/markdown": "2122.34375",
            "text/html": [
              "2122.34375"
            ]
          },
          "metadata": {
            "tags": []
          }
        }
      ]
    },
    {
      "cell_type": "markdown",
      "metadata": {
        "id": "tgYsAD75o0rb"
      },
      "source": [
        "# Sección 2\n",
        "\n",
        "La siguiente celda de código permitirá cargar en su sesión de trabajo los siguientes vectores:\n",
        "* `temp_hombre`: Contiene el registro de la temperatura para una muestra de 650 hombres escogidos al azar.\n",
        "* `temp_mujer`: Contiene el registro de la temperatura para una muestra de 580 mujeres escogidas al azar.\n",
        "\n",
        "\n",
        "En ambos vectores, **los identificadores (id) de cada persona están contenidos en el atributo `names()`** del vector respectivo."
      ]
    },
    {
      "cell_type": "code",
      "metadata": {
        "id": "89DwdTUEo0xl"
      },
      "source": [
        "temp_h <- readRDS(\"temp_h.rds\")\n",
        "temp_m <- readRDS(\"temp_m.rds\")"
      ],
      "execution_count": 116,
      "outputs": []
    },
    {
      "cell_type": "code",
      "metadata": {
        "id": "gYMbDKPEGO6C",
        "outputId": "f6ea8da3-d65e-453b-99cd-bd10d971b6aa",
        "colab": {
          "base_uri": "https://localhost:8080/",
          "height": 52
        }
      },
      "source": [
        "head(temp_h, 5)\n",
        "class(temp_h)"
      ],
      "execution_count": 120,
      "outputs": [
        {
          "output_type": "display_data",
          "data": {
            "text/plain": [
              "   h_377     h_28     h_20    h_491    h_403 \n",
              "39.32619 36.52849 36.97699 39.26491 36.19782 "
            ],
            "text/latex": "\\begin{description*}\n\\item[h\\textbackslash{}\\_377] 39.3261856398823\n\\item[h\\textbackslash{}\\_28] 36.5284881487668\n\\item[h\\textbackslash{}\\_20] 36.9769929062417\n\\item[h\\textbackslash{}\\_491] 39.2649108062924\n\\item[h\\textbackslash{}\\_403] 36.1978185242149\n\\end{description*}\n",
            "text/markdown": "h_377\n:   39.3261856398823h_28\n:   36.5284881487668h_20\n:   36.9769929062417h_491\n:   39.2649108062924h_403\n:   36.1978185242149\n\n",
            "text/html": [
              "<style>\n",
              ".dl-inline {width: auto; margin:0; padding: 0}\n",
              ".dl-inline>dt, .dl-inline>dd {float: none; width: auto; display: inline-block}\n",
              ".dl-inline>dt::after {content: \":\\0020\"; padding-right: .5ex}\n",
              ".dl-inline>dt:not(:first-of-type) {padding-left: .5ex}\n",
              "</style><dl class=dl-inline><dt>h_377</dt><dd>39.3261856398823</dd><dt>h_28</dt><dd>36.5284881487668</dd><dt>h_20</dt><dd>36.9769929062417</dd><dt>h_491</dt><dd>39.2649108062924</dd><dt>h_403</dt><dd>36.1978185242149</dd></dl>\n"
            ]
          },
          "metadata": {
            "tags": []
          }
        },
        {
          "output_type": "display_data",
          "data": {
            "text/plain": [
              "[1] \"numeric\""
            ],
            "text/latex": "'numeric'",
            "text/markdown": "'numeric'",
            "text/html": [
              "'numeric'"
            ]
          },
          "metadata": {
            "tags": []
          }
        }
      ]
    },
    {
      "cell_type": "code",
      "metadata": {
        "id": "gcyJwrR1GVIR",
        "outputId": "a0f555e0-5f35-40d6-fe67-9d979c08f539",
        "colab": {
          "base_uri": "https://localhost:8080/",
          "height": 34
        }
      },
      "source": [
        "head(temp_m, 5)"
      ],
      "execution_count": 134,
      "outputs": [
        {
          "output_type": "display_data",
          "data": {
            "text/plain": [
              "   m_326    m_560     m_98    m_228    m_188 \n",
              "35.96257 36.04833 36.08442 36.41125 36.40215 "
            ],
            "text/latex": "\\begin{description*}\n\\item[m\\textbackslash{}\\_326] 35.9625692715507\n\\item[m\\textbackslash{}\\_560] 36.0483259903758\n\\item[m\\textbackslash{}\\_98] 36.0844177584404\n\\item[m\\textbackslash{}\\_228] 36.4112489036444\n\\item[m\\textbackslash{}\\_188] 36.4021466924772\n\\end{description*}\n",
            "text/markdown": "m_326\n:   35.9625692715507m_560\n:   36.0483259903758m_98\n:   36.0844177584404m_228\n:   36.4112489036444m_188\n:   36.4021466924772\n\n",
            "text/html": [
              "<style>\n",
              ".dl-inline {width: auto; margin:0; padding: 0}\n",
              ".dl-inline>dt, .dl-inline>dd {float: none; width: auto; display: inline-block}\n",
              ".dl-inline>dt::after {content: \":\\0020\"; padding-right: .5ex}\n",
              ".dl-inline>dt:not(:first-of-type) {padding-left: .5ex}\n",
              "</style><dl class=dl-inline><dt>m_326</dt><dd>35.9625692715507</dd><dt>m_560</dt><dd>36.0483259903758</dd><dt>m_98</dt><dd>36.0844177584404</dd><dt>m_228</dt><dd>36.4112489036444</dd><dt>m_188</dt><dd>36.4021466924772</dd></dl>\n"
            ]
          },
          "metadata": {
            "tags": []
          }
        }
      ]
    },
    {
      "cell_type": "code",
      "metadata": {
        "id": "v8bbZZZGGbPl"
      },
      "source": [
        "hombres <- as.data.frame(temp_h)\n",
        "hombres\n",
        "#colnames(hombres) <- c(\"id\",\"temperatura\")\n"
      ],
      "execution_count": null,
      "outputs": []
    },
    {
      "cell_type": "code",
      "metadata": {
        "id": "biAaU0wlHD61"
      },
      "source": [
        "# mujeres <- \n",
        "\n",
        "# 18:00 Octubre 2, 2020"
      ],
      "execution_count": 132,
      "outputs": []
    },
    {
      "cell_type": "markdown",
      "metadata": {
        "id": "GBjrXxozo021"
      },
      "source": [
        "##  Pregunta 2.1\n",
        "\n",
        "**P1)** A partir de los dos vectores cargados `temp_h` y `temp_m` ustred deberá crear un data.frame llamado **`casos`** con tres columnas y un total de 1230 filas. Las columnas deben ser las siguientes; una con el id del registro, otra con el género y otra con la temperatura registrada. A modo de ejemplo, a continuación se muestra como debería quedar el data.frame:\n",
        "\n",
        "\n",
        "|id | genero | temperatura|\n",
        "|---|---|---|\n",
        "| h_162 | hombre | 36.8 |\n",
        "| h_140 | hombre | 38.7 |\n",
        "| h_13  | hombre | 36.1 |\n",
        "| $\\vdots$| $\\vdots$ | $\\vdots$|\n",
        "| m_16  | mujer | 39.1 |\n",
        "| m_502 | mujer | 40.1 |\n",
        "| m_189 | mujer | 36.8 |"
      ]
    },
    {
      "cell_type": "code",
      "metadata": {
        "id": "YJYZPGYppODi",
        "outputId": "98000043-d130-487d-817b-85ef7031d7c0",
        "colab": {
          "base_uri": "https://localhost:8080/",
          "height": 52
        }
      },
      "source": [
        "# P2.1. ---------------------------------------------------------------------\n",
        "## Respuesta:\n",
        "casos <- rbind(temp_h, temp_m)"
      ],
      "execution_count": 117,
      "outputs": [
        {
          "output_type": "stream",
          "text": [
            "Warning message in rbind(temp_h, temp_m):\n",
            "“number of columns of result is not a multiple of vector length (arg 2)”\n"
          ],
          "name": "stderr"
        }
      ]
    },
    {
      "cell_type": "markdown",
      "metadata": {
        "id": "lfWQ0GitpaKO"
      },
      "source": [
        "## Pregunta 2.2\n",
        "\n",
        "Adicionalmente, se cuenta con la información de síntomas presentados por cada presona registrada. Esta información se encuentra disponible en el archivo `sintomas.rds`.\n",
        "\n",
        "**2a)** Cargue el archivo `sintomas.rds` en una variable llamada _sintomas_.<br>\n",
        "**2b)** ¿Cuál es la clase de este objeto?.<br>\n",
        "**2c)** Note que cada fila undica con un 1 si la persona presentó el respectivo síntoma y 0 si no. ¿Qué sintomas presentó la persona ubicada en el registro 450?.<br>\n",
        "**2d)** ¿Qué síntomas y qué temperatura presentó la persona con id \"h_537\"?. Si es le es de utilidad puede utilizar la función `rownames()`, la cual permite obtener los nombres (id) de las filas de una matriz.<br>"
      ]
    },
    {
      "cell_type": "code",
      "metadata": {
        "id": "0HLg2sk6o088"
      },
      "source": [
        "# P2 .2\n",
        "## Respuestas:"
      ],
      "execution_count": null,
      "outputs": []
    },
    {
      "cell_type": "markdown",
      "metadata": {
        "id": "HjdVpbOOo1CM"
      },
      "source": [
        "## Nota de utilidad\n",
        "\n",
        "Ya sea trabajando con un vector, matriz, data.frame o lista, es posible omitir la selección de alguna(s) de sus posiciones (filas/columnas o slots). Esto se puede llevar a cabo de diversas maneras, por ejemplo:"
      ]
    },
    {
      "cell_type": "code",
      "metadata": {
        "id": "EaE41VqBo1H0"
      },
      "source": [
        "# Primero creamos un vector, una matriz, un data.frame  y una lista \n",
        "\n",
        "vec <- c(v1 = 1, v2 = 2, v3 = 3,v4 = 4)\n",
        "mat <- cbind(c(1,1),c(2,2),c(3,3),c(4,4) ) ; rownames(mat) <- c(\"f1\",\"f2\"); colnames(mat) <- c(\"c1\",\"c2\",\"c3\",\"c4\")\n",
        "dat <- as.data.frame(mat)\n",
        "lis <- list(s1 = c(1,1), s2 = c(2,2), s3 = c(3,3) , s4 = c(4,4))"
      ],
      "execution_count": null,
      "outputs": []
    },
    {
      "cell_type": "markdown",
      "metadata": {
        "id": "UV_GgaCAo1NG"
      },
      "source": [
        "### Omisión por posición"
      ]
    },
    {
      "cell_type": "code",
      "metadata": {
        "id": "jvck_ewdo1S3"
      },
      "source": [
        "#Si queremos omitir el primer y tercer elmento del vector y la lista\n",
        "vec[-c(1,3)]\n",
        "lis[-c(1,3)]\n",
        "\n",
        "# Misma idea si queremos omitir columnas de una matriz (o data.frame)\n",
        "mat[,-c(1,3)]\n",
        "dat[,-c(1,3)]"
      ],
      "execution_count": null,
      "outputs": []
    },
    {
      "cell_type": "markdown",
      "metadata": {
        "id": "92C6VPBPo1Yd"
      },
      "source": [
        "### Omisión por nombres"
      ]
    },
    {
      "cell_type": "code",
      "metadata": {
        "id": "hh6zosZZo1d-"
      },
      "source": [
        "# Por ahora tendremos que ubicar las posiciones de los nombres deseados.\n",
        "\n",
        "pos_vec <- which(names(vec) %in% c(\"v1\",\"v3\"))\n",
        "pos_lis <- which(names(lis) %in% c(\"s1\",\"s3\"))\n",
        "pos_mat <- which(colnames(mat) %in% c(\"c1\",\"c3\"))\n",
        "pos_dat <- which(names(dat) %in% c(\"c1\",\"c3\"))\n",
        "\n",
        "vec[-pos_vec]\n",
        "lis[-pos_lis]\n",
        "\n",
        "# Misma idea si queremos omitir columnas de una matriz (o data.frame)\n",
        "mat[,-pos_mat]\n",
        "dat[,-pos_dat]"
      ],
      "execution_count": null,
      "outputs": []
    },
    {
      "cell_type": "markdown",
      "metadata": {
        "id": "V82HXEPao1il"
      },
      "source": [
        "Más adelante veremos otras alternivas, como por ejemplo, utilizando funciones del package `dplyr`.\n",
        "\n",
        "## Pregunta 2.3\n",
        "\n",
        "Con la ayuda de las funciones `rowSums()` y `colSums()`, identifique lo siguiente.\n",
        "\n",
        "  **3a)** ¿Cuántos registros presentaron exactamente los 4 síntomas?<br>\n",
        "  **3b)** ¿Cúantas personas presentaron tos? <br>\n",
        "  **3c)** ¿Cuál es el síntoma más frecuente?<br>\n",
        "  "
      ]
    },
    {
      "cell_type": "code",
      "metadata": {
        "id": "VcdCp88oo1ob"
      },
      "source": [
        "# P3\n",
        "##Respuestas:\n"
      ],
      "execution_count": null,
      "outputs": []
    },
    {
      "cell_type": "markdown",
      "metadata": {
        "id": "xQpbdDq7o1tD"
      },
      "source": [
        "## Pregunta 2.4\n",
        "\n",
        "**4a)** La función `as.data.frame()` permite coercionar un objeto de otra clase a `data.frame`.\n",
        "cree una variable llamada `sintomas_df` con la información  de sintomas pero como data.frame.<br>\n",
        "**4b)**\n",
        "Se puede observar que los ids solo están disponibles en los nombres de las filas. Sin embargo esútil tener esta información como una columna más de la tabla. Para ello **cree una nueva columna en la tabla sintomas_df** llamada `id` que contenga los ids de cada registro. \n",
        "\n",
        "NOTA: El orden de las filas no ha variado por lo que podemos añadir la columna sin mayores precauciones.<br>\n",
        "**4c)** ¿Cuántas personas **sólo** presentaron tos y dolor de cabeza?<br>\n",
        "**4d)** Se sabe que una persona tiene fiebre cuando su temperatura es mayor o igual a los 37.2°. **Cree una nueva columna en la tabla sintomas_df** llamada `tiene_fiebre` que contenga `TRUE` cuando tiene fiebre y `FALSE` en caso contrario. \n",
        "\n"
      ]
    },
    {
      "cell_type": "code",
      "metadata": {
        "id": "UUtlInMso1yP"
      },
      "source": [
        "# P4\n",
        "#Respuestas:\n"
      ],
      "execution_count": null,
      "outputs": []
    }
  ]
}