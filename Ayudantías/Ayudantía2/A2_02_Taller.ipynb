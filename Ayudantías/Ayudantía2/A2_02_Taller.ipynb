{
  "nbformat": 4,
  "nbformat_minor": 0,
  "metadata": {
    "colab": {
      "name": "A2_02_Taller.ipynb",
      "provenance": [],
      "collapsed_sections": [],
      "include_colab_link": true
    },
    "kernelspec": {
      "name": "ir",
      "display_name": "R"
    }
  },
  "cells": [
    {
      "cell_type": "markdown",
      "metadata": {
        "id": "view-in-github",
        "colab_type": "text"
      },
      "source": [
        "<a href=\"https://colab.research.google.com/github/majorquev/Introduccion_a_ciencia_de_datos_R/blob/master/Ayudant%C3%ADas/Ayudant%C3%ADa2/A2_02_Taller.ipynb\" target=\"_parent\"><img src=\"https://colab.research.google.com/assets/colab-badge.svg\" alt=\"Open In Colab\"/></a>"
      ]
    },
    {
      "cell_type": "markdown",
      "metadata": {
        "collapsed": true,
        "id": "rrwCm0qBEQpC"
      },
      "source": [
        "# Ejercicios\n",
        "\n",
        "\n",
        "**Autor:** Miguel Jorquera Viguera<br>\n",
        "**E-mail:** majorquev@gmail.com<br>\n",
        "**Ayudante:** Bastián Aballay Leiva<br>\n",
        "**E-mail ayudante:** bastian.aballayleiva@gmail.com\n",
        "\n"
      ]
    },
    {
      "cell_type": "markdown",
      "metadata": {
        "id": "NTW27vzJEQpC"
      },
      "source": [
        "## Sección 1\n",
        "En esta sección seguiremos explorando los vuelos desde los aeropuertos de NY durante el 2013. En esta ocasión cargaremos los datasets desde el package _nycflights13_.\n",
        "\n",
        "Para mayor informacíón sobre los datasets disponibles en este package  refiérase al iguiente link \n",
        "**https://cran.r-project.org/web/packages/nycflights13/nycflights13.pdf**\n",
        "\n"
      ]
    },
    {
      "cell_type": "code",
      "metadata": {
        "trusted": true,
        "id": "qU7e_74GEQpD"
      },
      "source": [
        "data(\"flights\", package = \"nycflights13\")\n",
        "data(\"weather\", package = \"nycflights13\")\n",
        "vuelos <- flights\n",
        "clima <- weather"
      ],
      "execution_count": null,
      "outputs": []
    },
    {
      "cell_type": "code",
      "metadata": {
        "trusted": true,
        "id": "uyz6ZuZ5EQpG"
      },
      "source": [
        "library(dplyr)"
      ],
      "execution_count": null,
      "outputs": []
    },
    {
      "cell_type": "markdown",
      "metadata": {
        "id": "PMhnnKS0EQpJ"
      },
      "source": [
        "## P1. Resumen retrasos \n",
        "Genere un resumen de la variable dep_delay del dataset _flights_."
      ]
    },
    {
      "cell_type": "code",
      "metadata": {
        "id": "99mfLnN9b32i"
      },
      "source": [
        ""
      ],
      "execution_count": null,
      "outputs": []
    },
    {
      "cell_type": "markdown",
      "metadata": {
        "id": "Cw5XyBd4EQpK"
      },
      "source": [
        "## P2. Retrasos por aeropuerto\n",
        "¿Cuál es el tiempo promedio de retraso de  llegada por cada aeropuerto de origen?"
      ]
    },
    {
      "cell_type": "code",
      "metadata": {
        "id": "U29BE2uXb4TH"
      },
      "source": [
        ""
      ],
      "execution_count": null,
      "outputs": []
    },
    {
      "cell_type": "markdown",
      "metadata": {
        "id": "L4W_FmyvEQpK"
      },
      "source": [
        "## P3. Ubicación de  NA's \n",
        "\n",
        "Elimine los registros donde *dep_delay* es NA  y también elimine los registros donde *arr_delay* es NA."
      ]
    },
    {
      "cell_type": "code",
      "metadata": {
        "id": "NAxBjRKpb4vW"
      },
      "source": [
        ""
      ],
      "execution_count": null,
      "outputs": []
    },
    {
      "cell_type": "markdown",
      "metadata": {
        "id": "dobDhtgnEQpL"
      },
      "source": [
        "## P4. Vuelos con retrasos \n",
        "**a)** Genere un nuevo dataset llamado **vuelos_ret** que contenga todos los registros que tuvieron un  **retraso de salida**. Tenga en cuenta que ya debió tratar los NA's de la pregunta anterior y por ende están considerados en esta etapa.\n",
        "\n",
        "**b)** Considerando el dataset anterior, ¿cuál es el retraso promedio de salida por aeropuerto de origen?"
      ]
    },
    {
      "cell_type": "code",
      "metadata": {
        "id": "YtqGxCkOb5Yg"
      },
      "source": [
        ""
      ],
      "execution_count": null,
      "outputs": []
    },
    {
      "cell_type": "markdown",
      "metadata": {
        "id": "Nys7CI6sEQpL"
      },
      "source": [
        "## P5. Retrasos por dia \n",
        "Genere un campo fecha en formato Date (puede utilizar la función as.Date()) que contenga la fecha del vuelo en formato \"yyyy-mm-dd\".\n",
        "\n",
        "**a)** Una vez generado este nuevo campo, genere un gráfico que permita visualizar el retraso **promedio** de salida (*dep_delay*), por cada día. Por ejemplo, un gráfico de líneas.\n",
        "\n",
        "**b)** Considerando el gráfico anterior, añada una curva de tendencia y determine (visualmente) si exsten meses con un alza notoria en relación a los retrasos de los vuelos.\n"
      ]
    },
    {
      "cell_type": "code",
      "metadata": {
        "id": "8jHAjL6wb5ze"
      },
      "source": [
        ""
      ],
      "execution_count": null,
      "outputs": []
    },
    {
      "cell_type": "markdown",
      "metadata": {
        "id": "S-FCO_AWEQpL"
      },
      "source": [
        "## P6. Cruce con clima \n",
        "Se tiene la hipótesis de que el clima puede ser un factor importante en los retrasos, para ello cargue el dataset llamado \"weather\" del package \"nycflights13\"\n",
        "\n",
        "**a)** Genere un dataset llamado *vuelos_ret_ampliado* que incluya tanto la información de los vuelos como del clima. (el match debe hacerse por \"year\",\"month\",\"day\",\"origin\",\"time_hour\")."
      ]
    },
    {
      "cell_type": "code",
      "metadata": {
        "id": "ajtpzT8Zb6Pf"
      },
      "source": [
        ""
      ],
      "execution_count": null,
      "outputs": []
    },
    {
      "cell_type": "markdown",
      "metadata": {
        "id": "G0NCla5lEQpM"
      },
      "source": [
        "## P7. Retrasos 15 min\n",
        "\n",
        "Cree una columna de **tipo int** llamada *arr_delay_alto*, que tome el valor 1 si el retraso de llegada es mayor o igual a 15 min y 0 en caso contrario. De ahora en adelante diremos que esta columna indica si existió un _retraso alto_ o no."
      ]
    },
    {
      "cell_type": "code",
      "metadata": {
        "id": "rSYEtcxNb6p1"
      },
      "source": [
        ""
      ],
      "execution_count": null,
      "outputs": []
    },
    {
      "cell_type": "markdown",
      "metadata": {
        "id": "NQHuYgo3EQpM"
      },
      "source": [
        "## P8. Clima según retraso alto (4P)\n",
        "    \n",
        "**a)** ¿Cuál es la visibilidad (visib) promedio por tipo de retraso (alto y no alto)?\n",
        "\n",
        "**b)** ¿Cuál es el valor de la precipitacion (precip) media por tipo de retraso (alto y no alto)?\n",
        "\n",
        "**c)** ¿Cuál es el valor promedio de wind_gust (vientos fuertes)  por tipo de retraso?\n",
        "\n",
        "**d)** ¿Qué se observa a partir del resumen anterior?"
      ]
    },
    {
      "cell_type": "code",
      "metadata": {
        "id": "ptXvywPZb7ND"
      },
      "source": [
        ""
      ],
      "execution_count": null,
      "outputs": []
    },
    {
      "cell_type": "markdown",
      "metadata": {
        "id": "_Wynt6eDEQpN"
      },
      "source": [
        " ## P9. Tasa de retrasos (2P)\n",
        "**a)** ¿Cuál es el aeropuerto de destino con mayor tasa de retrasos altos (arr_delay_alto) ? \n",
        "\n",
        "**b)** ¿Cuál es el mes con mayor tasa de retrasos altos?"
      ]
    },
    {
      "cell_type": "code",
      "metadata": {
        "id": "TEiGmpmTb7vJ"
      },
      "source": [
        ""
      ],
      "execution_count": null,
      "outputs": []
    },
    {
      "cell_type": "markdown",
      "metadata": {
        "id": "QenGdbsWEQpN"
      },
      "source": [
        "# Respuestas"
      ]
    },
    {
      "cell_type": "code",
      "metadata": {
        "trusted": true,
        "id": "1D5-nAhTEQpN"
      },
      "source": [
        "# P1\n",
        "summary(vuelos$dep_delay)"
      ],
      "execution_count": null,
      "outputs": []
    },
    {
      "cell_type": "code",
      "metadata": {
        "trusted": true,
        "id": "ZZiQn1tNEQpQ"
      },
      "source": [
        "# P2\n",
        "vuelos %>%\n",
        "    group_by(origin) %>% \n",
        "    summarise(m_arr_del = mean(arr_delay,na.rm=T))"
      ],
      "execution_count": null,
      "outputs": []
    },
    {
      "cell_type": "code",
      "metadata": {
        "trusted": true,
        "id": "LKI0_Ys-EQpT"
      },
      "source": [
        "# P3 \n",
        "vuelos %>% \n",
        "    filter(!is.na(dep_delay) & !is.na(arr_delay) ) "
      ],
      "execution_count": null,
      "outputs": []
    },
    {
      "cell_type": "code",
      "metadata": {
        "trusted": true,
        "id": "7wDDbwUlEQpV"
      },
      "source": [
        "# P4\n",
        "# a) \n",
        "  vuelos_ret <- filter(vuelos,!is.na(arr_delay) & !is.na(dep_delay)  & dep_delay > 0 )"
      ],
      "execution_count": null,
      "outputs": []
    },
    {
      "cell_type": "code",
      "metadata": {
        "trusted": true,
        "id": "xFwnf6V8EQpX"
      },
      "source": [
        "# P4\n",
        "# b) \n",
        "vuelos_ret %>% \n",
        "    group_by(origin) %>% \n",
        "    summarise(m_dep_del = mean(dep_delay,na.rm=T))"
      ],
      "execution_count": null,
      "outputs": []
    },
    {
      "cell_type": "code",
      "metadata": {
        "trusted": true,
        "id": "K24-TamIEQpa"
      },
      "source": [
        "# P5\n",
        "vuelos_ret <- vuelos_ret %>%\n",
        "mutate(fecha = paste(year,\n",
        "                      ifelse(nchar(month) == 1\n",
        "                             ,paste0(\"0\",month)\n",
        "                             ,month)\n",
        "                      ,ifelse(nchar(day) == 1\n",
        "                              ,paste0(\"0\",day)\n",
        "                              ,day)\n",
        "                     , sep = \"-\"\n",
        "                     )\n",
        "      ) %>% \n",
        "mutate(fecha = as.Date(fecha))\n",
        "\n",
        "#**a)** Una vez generado este nuevo campo, genere un gráfico que permita visualizar el retraso **promedio** de salida (*dep_delay*), por cada día. Por ejemplo, un gráfico de líneas.\n",
        "\n",
        "#**b)** Considerando el gráfico anterior, añada una curva de tendencia y determine (visualmente) si exsten meses con un alza notoria en relación a los retrasos de los vuelos.\n",
        "\n",
        "\n"
      ],
      "execution_count": null,
      "outputs": []
    },
    {
      "cell_type": "code",
      "metadata": {
        "trusted": true,
        "id": "g1FWhRjTEQpc"
      },
      "source": [
        "options(repr.plot.width=12, repr.plot.height=4)\n",
        "\n",
        "\n",
        "vuelos_ret %>% \n",
        "    group_by(fecha) %>%\n",
        "    summarise(mean_dep_delay = mean(dep_delay,na.rm = T)) %>%\n",
        "    ggplot() +\n",
        "    aes(x = fecha, y = mean_dep_delay) +\n",
        "    geom_line() +\n",
        "    geom_smooth()\n",
        "    \n"
      ],
      "execution_count": null,
      "outputs": []
    },
    {
      "cell_type": "code",
      "metadata": {
        "trusted": true,
        "id": "wQNDP_0VEQpe"
      },
      "source": [
        "# P6\n",
        "\n",
        "vuelos_ret_ampliado <-  vuelos_ret %>% \n",
        "                            left_join(clima, by=c(\"year\",\"month\",\"day\",\"origin\", \"time_hour\") )\n",
        "\n"
      ],
      "execution_count": null,
      "outputs": []
    },
    {
      "cell_type": "code",
      "metadata": {
        "trusted": true,
        "id": "tve_bHlnEQpg"
      },
      "source": [
        "# P7 \n",
        "vuelos_ret_ampliado <- vuelos_ret_ampliado %>% \n",
        "    mutate(arr_delay_alto = as.integer(ifelse(arr_delay >= 15, 1, 0)))"
      ],
      "execution_count": null,
      "outputs": []
    },
    {
      "cell_type": "code",
      "metadata": {
        "trusted": true,
        "id": "K2MzBBwZEQpi"
      },
      "source": [
        "# P8\n",
        "# a) \n",
        "\n",
        "vuelos_ret_ampliado %>% \n",
        "    group_by(arr_delay_alto) %>%\n",
        "    summarise(visib_prom = mean(visib,na.rm=T))"
      ],
      "execution_count": null,
      "outputs": []
    },
    {
      "cell_type": "code",
      "metadata": {
        "trusted": true,
        "id": "ekqnyJVPEQpk"
      },
      "source": [
        "# P8\n",
        "# b)\n",
        "vuelos_ret_ampliado %>% \n",
        "    group_by(arr_delay_alto) %>%\n",
        "    summarise(precip_prom = mean(precip,na.rm=T))"
      ],
      "execution_count": null,
      "outputs": []
    },
    {
      "cell_type": "code",
      "metadata": {
        "trusted": true,
        "id": "PROLisXqEQpm"
      },
      "source": [
        "# P8\n",
        "# c) \n",
        "vuelos_ret_ampliado %>% \n",
        "    group_by(arr_delay_alto) %>%\n",
        "    summarise(wg_prom = mean(wind_gust,na.rm=T))"
      ],
      "execution_count": null,
      "outputs": []
    },
    {
      "cell_type": "code",
      "metadata": {
        "trusted": true,
        "id": "tHdvRUjWEQpo"
      },
      "source": [
        "# P8\n",
        "# d) \n",
        "# - A menor visibilidad mayor retraseo.\n",
        "# - A mayor precipitaciones, mayor retraso."
      ],
      "execution_count": null,
      "outputs": []
    },
    {
      "cell_type": "code",
      "metadata": {
        "trusted": true,
        "id": "r828DwccEQpr"
      },
      "source": [
        "# P9\n",
        "# a)\n",
        "#**a)** ¿Cuál es el aeropuerto de destino con mayor tasa de retrasos altos (arr_delay_alto) ? \n",
        "\n",
        "# El aeropuerto de destino CAE es el que posee la mayor tasa de retrasos altos.\n",
        "vuelos_ret_ampliado %>% \n",
        "    group_by(dest) %>%\n",
        "    summarise(tasa_ret_altos = mean(arr_delay_alto,na.rm=T)) %>%\n",
        "    arrange(desc(tasa_ret_altos))"
      ],
      "execution_count": null,
      "outputs": []
    },
    {
      "cell_type": "code",
      "metadata": {
        "trusted": true,
        "id": "0VAiZAptEQpw"
      },
      "source": [
        "# P9\n",
        "\n",
        "#**b)** ¿Cuál es el mes con mayor tasa de retrasos altos?\n",
        "# b)\n",
        "vuelos_ret_ampliado %>% \n",
        "    group_by(year,month,day) %>%\n",
        "    summarise(tasa_ret_altos = mean(dep_delay_alto,na.rm=T)) %>%\n",
        "    arrange(desc(tasa_ret_altos)) %>%\n",
        "    head()"
      ],
      "execution_count": null,
      "outputs": []
    }
  ]
}