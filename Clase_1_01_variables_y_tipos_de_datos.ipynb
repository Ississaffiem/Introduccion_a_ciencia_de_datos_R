{
  "nbformat": 4,
  "nbformat_minor": 0,
  "metadata": {
    "colab": {
      "name": "Clase 1_01_variables_y_tipos_de_datos.ipynb",
      "provenance": [],
      "include_colab_link": true
    },
    "kernelspec": {
      "name": "ir",
      "display_name": "R"
    }
  },
  "cells": [
    {
      "cell_type": "markdown",
      "metadata": {
        "id": "view-in-github",
        "colab_type": "text"
      },
      "source": [
        "<a href=\"https://colab.research.google.com/github/majorquev/Introduccion_a_ciencia_de_datos_R/blob/master/Clase_1_01_variables_y_tipos_de_datos.ipynb\" target=\"_parent\"><img src=\"https://colab.research.google.com/assets/colab-badge.svg\" alt=\"Open In Colab\"/></a>"
      ]
    },
    {
      "cell_type": "markdown",
      "metadata": {
        "collapsed": true,
        "id": "Kc2ORhjSySMx"
      },
      "source": [
        "# Parte 1: Introducción a R\n",
        "\n",
        "**Autor:** Miguel Jorquera Viguera<br>\n",
        "**E-mail:** majorquev@gmail.com<br>\n",
        "**E-mail ayudante:** angel_ubilla@gmail.com\n",
        "\n",
        "## Conociendo R\n",
        "\n",
        "### Conociendo R de nuevo\n",
        " R es un lenguaje funcional orientado principalmente al análisis de datos. Fue desarrollado por Ross Ihaka y Robert Gentleman, cuyas iniciales de sus nombres dieron origen al nombre de este software.\n",
        " \n",
        "Hoy existen varias maneras de ejecutar R, una de ellas es de manera local, para lo cual es posible descargar la última versión (disponible para Windows, Linux y OSX), desde el repositorio CRAN (https://cran.r-project.org/) .\n",
        "Otra manera es mediante la utilización de Azure Jupiter Notebooks, los que permiten la ejecución de R de manera remota, sin la necesidad de instalar R.\n",
        "\n",
        "En un notebook podemos añadir info.\n",
        "Podemos editar esto...\n",
        "\n",
        "# Puedo añadir otro  título\n",
        "## Subtítulo\n",
        "### Etc..\n",
        "\n",
        "Generar listas\n",
        "\n",
        "   * Hola\n",
        "   * Otra opción\n",
        "   * opcion 2\n",
        "\n",
        "Código en latex $\\sum\\limits_{i=1}^n x_i$ $\\lim_{x \\rightarrow 1}$\n"
      ]
    },
    {
      "cell_type": "markdown",
      "metadata": {
        "id": "Z4TXkSy6ySMy"
      },
      "source": [
        "## 1. R... Una gran calculadora\n",
        "\n",
        "En R es posible ejecutar directamente en consola sentencias aritméticas simples, junto con la evaluación de una gran cantidad de funciones disponibles por defecto.\n",
        "\n",
        "    - + , -, /,* ,^ , %%, %*%.\n",
        "    - Logaritmo natural: log() \n",
        "    - Funciones trigonométricas: sin() , cos(), tan(), asin() ,acos(), atan()\n",
        "    - Función exponencial: exp() \n",
        "    - Raiz cuadrada: sqrt().\n",
        "    - Valor absoluto: abs()\n",
        "    - parte entera: floor()\n",
        "    - Truncar: trunc()\n",
        "    - Redondear: round(,)\n",
        "    - Factorial: factorial()\n",
        "    - Número combinatorio: choose(n,k)\n"
      ]
    },
    {
      "cell_type": "code",
      "metadata": {
        "id": "O4E1j5ngySMz",
        "outputId": "82dd1d11-e5d5-482b-82fc-0cd86d32d308",
        "colab": {
          "base_uri": "https://localhost:8080/",
          "height": 153
        }
      },
      "source": [
        "# En estas celdas pueden ejecutar código R. Las líneas que comiencen con '#' corresponden a comentarios y por ende no son ejecutables\n",
        "# Shift + Enter : ejecuta el código de la celda y pasan a la celda siguiente.\n",
        "\n",
        "1+1\n",
        "3*4\n",
        "log(10)\n",
        "sin(180)\n",
        "\n",
        "sqrt(4)\n",
        "\n",
        "trunc(4.6)\n",
        "floor(4.6)\n",
        "\n",
        "round(4.789,2)\n",
        "\n",
        "\n",
        "\n",
        "\n",
        "\n"
      ],
      "execution_count": 1,
      "outputs": [
        {
          "output_type": "display_data",
          "data": {
            "text/plain": [
              "[1] 2"
            ],
            "text/latex": "2",
            "text/markdown": "2",
            "text/html": [
              "2"
            ]
          },
          "metadata": {
            "tags": []
          }
        },
        {
          "output_type": "display_data",
          "data": {
            "text/plain": [
              "[1] 12"
            ],
            "text/latex": "12",
            "text/markdown": "12",
            "text/html": [
              "12"
            ]
          },
          "metadata": {
            "tags": []
          }
        },
        {
          "output_type": "display_data",
          "data": {
            "text/plain": [
              "[1] 2.302585"
            ],
            "text/latex": "2.30258509299405",
            "text/markdown": "2.30258509299405",
            "text/html": [
              "2.30258509299405"
            ]
          },
          "metadata": {
            "tags": []
          }
        },
        {
          "output_type": "display_data",
          "data": {
            "text/plain": [
              "[1] -0.8011526"
            ],
            "text/latex": "-0.80115263573383",
            "text/markdown": "-0.80115263573383",
            "text/html": [
              "-0.80115263573383"
            ]
          },
          "metadata": {
            "tags": []
          }
        },
        {
          "output_type": "display_data",
          "data": {
            "text/plain": [
              "[1] 2"
            ],
            "text/latex": "2",
            "text/markdown": "2",
            "text/html": [
              "2"
            ]
          },
          "metadata": {
            "tags": []
          }
        },
        {
          "output_type": "display_data",
          "data": {
            "text/plain": [
              "[1] 4"
            ],
            "text/latex": "4",
            "text/markdown": "4",
            "text/html": [
              "4"
            ]
          },
          "metadata": {
            "tags": []
          }
        },
        {
          "output_type": "display_data",
          "data": {
            "text/plain": [
              "[1] 4"
            ],
            "text/latex": "4",
            "text/markdown": "4",
            "text/html": [
              "4"
            ]
          },
          "metadata": {
            "tags": []
          }
        },
        {
          "output_type": "display_data",
          "data": {
            "text/plain": [
              "[1] 4.79"
            ],
            "text/latex": "4.79",
            "text/markdown": "4.79",
            "text/html": [
              "4.79"
            ]
          },
          "metadata": {
            "tags": []
          }
        }
      ]
    },
    {
      "cell_type": "markdown",
      "metadata": {
        "id": "fvcIxMW4ySM5"
      },
      "source": [
        "## 2. Variables y tipos de datos\n",
        "\n",
        "En R es posible distintos tipos de datos u objetos en símbolos llamados variables (en R todo es en esencia un objeto).<br>\n",
        "La manera más sencilla de asignar un objeto a una variable es mediante la función \"<-\". Los tipos de datos más utilizados en R corresponden a :\n",
        "    \n",
        "    integer   \n",
        "    double  \n",
        "    logical   \n",
        "    character \n",
        "    factor  \n",
        "    date\n",
        "\n",
        "A diferencia de otros lenguajes de programación, no es necesario declarar explicitamente el tipo de dato que almacenará una variable (R es inteligente!)"
      ]
    },
    {
      "cell_type": "code",
      "metadata": {
        "id": "LUgwYSvMySM5",
        "outputId": "04e6c7ec-7439-44d2-9ff9-bfaa097925cf"
      },
      "source": [
        "# Podemos definir distintas variables\n",
        "var <- 3.6\n",
        "var2 <- 4\n",
        "\n",
        "# numéricas (numeric)\n",
        "\n",
        "var\n",
        "class(var)\n",
        "typeof(var)"
      ],
      "execution_count": null,
      "outputs": [
        {
          "output_type": "display_data",
          "data": {
            "text/html": [
              "3.6"
            ],
            "text/latex": "3.6",
            "text/markdown": "3.6",
            "text/plain": [
              "[1] 3.6"
            ]
          },
          "metadata": {
            "tags": []
          }
        },
        {
          "output_type": "display_data",
          "data": {
            "text/html": [
              "'numeric'"
            ],
            "text/latex": "'numeric'",
            "text/markdown": "'numeric'",
            "text/plain": [
              "[1] \"numeric\""
            ]
          },
          "metadata": {
            "tags": []
          }
        },
        {
          "output_type": "display_data",
          "data": {
            "text/html": [
              "'double'"
            ],
            "text/latex": "'double'",
            "text/markdown": "'double'",
            "text/plain": [
              "[1] \"double\""
            ]
          },
          "metadata": {
            "tags": []
          }
        }
      ]
    },
    {
      "cell_type": "code",
      "metadata": {
        "id": "COnzCAEtySM7",
        "outputId": "f7fddf08-93bb-4d1a-ea76-b49f84a3a500"
      },
      "source": [
        "class(var2)\n",
        "typeof(var2)"
      ],
      "execution_count": null,
      "outputs": [
        {
          "output_type": "display_data",
          "data": {
            "text/html": [
              "'numeric'"
            ],
            "text/latex": "'numeric'",
            "text/markdown": "'numeric'",
            "text/plain": [
              "[1] \"numeric\""
            ]
          },
          "metadata": {
            "tags": []
          }
        },
        {
          "output_type": "display_data",
          "data": {
            "text/html": [
              "'double'"
            ],
            "text/latex": "'double'",
            "text/markdown": "'double'",
            "text/plain": [
              "[1] \"double\""
            ]
          },
          "metadata": {
            "tags": []
          }
        }
      ]
    },
    {
      "cell_type": "code",
      "metadata": {
        "id": "2lqK4mChySM-",
        "outputId": "a3b4ad40-1dc5-4bb4-80da-1c048f27e551"
      },
      "source": [
        "# strings(character)\n",
        "(palabra <- \"miguel\") #al colocar la sentencia entre paréntesis, la variable se imprime además de definirla.\n"
      ],
      "execution_count": null,
      "outputs": [
        {
          "output_type": "display_data",
          "data": {
            "text/html": [
              "'miguel'"
            ],
            "text/latex": "'miguel'",
            "text/markdown": "'miguel'",
            "text/plain": [
              "[1] \"miguel\""
            ]
          },
          "metadata": {
            "tags": []
          }
        }
      ]
    },
    {
      "cell_type": "code",
      "metadata": {
        "id": "ZsI_ZfqDySNA",
        "outputId": "146ed172-51de-4ee2-f28d-223629a7a721"
      },
      "source": [
        "class(palabra)\n",
        "typeof(palabra)"
      ],
      "execution_count": null,
      "outputs": [
        {
          "output_type": "display_data",
          "data": {
            "text/html": [
              "'character'"
            ],
            "text/latex": "'character'",
            "text/markdown": "'character'",
            "text/plain": [
              "[1] \"character\""
            ]
          },
          "metadata": {
            "tags": []
          }
        },
        {
          "output_type": "display_data",
          "data": {
            "text/html": [
              "'character'"
            ],
            "text/latex": "'character'",
            "text/markdown": "'character'",
            "text/plain": [
              "[1] \"character\""
            ]
          },
          "metadata": {
            "tags": []
          }
        }
      ]
    },
    {
      "cell_type": "code",
      "metadata": {
        "id": "TvnfvFZFySNC",
        "outputId": "691b8385-7e34-4e2d-92b7-620b467261b6"
      },
      "source": [
        "# valores lógicos (logical)\n",
        "verdad <- TRUE\n",
        "verdad\n",
        "\n",
        "mentira <- FALSE\n",
        "mentira"
      ],
      "execution_count": null,
      "outputs": [
        {
          "output_type": "display_data",
          "data": {
            "text/html": [
              "TRUE"
            ],
            "text/latex": "TRUE",
            "text/markdown": "TRUE",
            "text/plain": [
              "[1] TRUE"
            ]
          },
          "metadata": {
            "tags": []
          }
        },
        {
          "output_type": "display_data",
          "data": {
            "text/html": [
              "FALSE"
            ],
            "text/latex": "FALSE",
            "text/markdown": "FALSE",
            "text/plain": [
              "[1] FALSE"
            ]
          },
          "metadata": {
            "tags": []
          }
        }
      ]
    },
    {
      "cell_type": "code",
      "metadata": {
        "id": "2fYzVqXxySNE",
        "outputId": "0514ab2a-4a37-4b0f-a45e-607d51e3c1d0"
      },
      "source": [
        "TRUE # se puede abreviar como T\n",
        "FALSE # se puede abreviar como F\n",
        "class(T);class(F)"
      ],
      "execution_count": null,
      "outputs": [
        {
          "output_type": "display_data",
          "data": {
            "text/html": [
              "TRUE"
            ],
            "text/latex": "TRUE",
            "text/markdown": "TRUE",
            "text/plain": [
              "[1] TRUE"
            ]
          },
          "metadata": {
            "tags": []
          }
        },
        {
          "output_type": "display_data",
          "data": {
            "text/html": [
              "FALSE"
            ],
            "text/latex": "FALSE",
            "text/markdown": "FALSE",
            "text/plain": [
              "[1] FALSE"
            ]
          },
          "metadata": {
            "tags": []
          }
        },
        {
          "output_type": "display_data",
          "data": {
            "text/html": [
              "'logical'"
            ],
            "text/latex": "'logical'",
            "text/markdown": "'logical'",
            "text/plain": [
              "[1] \"logical\""
            ]
          },
          "metadata": {
            "tags": []
          }
        },
        {
          "output_type": "display_data",
          "data": {
            "text/html": [
              "'logical'"
            ],
            "text/latex": "'logical'",
            "text/markdown": "'logical'",
            "text/plain": [
              "[1] \"logical\""
            ]
          },
          "metadata": {
            "tags": []
          }
        }
      ]
    },
    {
      "cell_type": "code",
      "metadata": {
        "id": "poj4C5YQySNI",
        "outputId": "8a3f0987-5af9-4b7d-fc9c-2324edaf0e1a"
      },
      "source": [
        "class(verdad);class(mentira)\n",
        "typeof(verdad)"
      ],
      "execution_count": null,
      "outputs": [
        {
          "output_type": "display_data",
          "data": {
            "text/html": [
              "'logical'"
            ],
            "text/latex": "'logical'",
            "text/markdown": "'logical'",
            "text/plain": [
              "[1] \"logical\""
            ]
          },
          "metadata": {
            "tags": []
          }
        },
        {
          "output_type": "display_data",
          "data": {
            "text/html": [
              "'logical'"
            ],
            "text/latex": "'logical'",
            "text/markdown": "'logical'",
            "text/plain": [
              "[1] \"logical\""
            ]
          },
          "metadata": {
            "tags": []
          }
        },
        {
          "output_type": "display_data",
          "data": {
            "text/html": [
              "'logical'"
            ],
            "text/latex": "'logical'",
            "text/markdown": "'logical'",
            "text/plain": [
              "[1] \"logical\""
            ]
          },
          "metadata": {
            "tags": []
          }
        }
      ]
    },
    {
      "cell_type": "code",
      "metadata": {
        "id": "5TaXp2j8ySNK",
        "outputId": "4508608a-0ceb-4a82-b357-141293c3d487"
      },
      "source": [
        "# Podemos comparar la igualdad lógica entre dos valores mendiante \"=#\n",
        "\n",
        "TRUE == T\n",
        "3 == 3\n",
        "3 == 4  "
      ],
      "execution_count": null,
      "outputs": [
        {
          "output_type": "display_data",
          "data": {
            "text/html": [
              "TRUE"
            ],
            "text/latex": "TRUE",
            "text/markdown": "TRUE",
            "text/plain": [
              "[1] TRUE"
            ]
          },
          "metadata": {
            "tags": []
          }
        },
        {
          "output_type": "display_data",
          "data": {
            "text/html": [
              "TRUE"
            ],
            "text/latex": "TRUE",
            "text/markdown": "TRUE",
            "text/plain": [
              "[1] TRUE"
            ]
          },
          "metadata": {
            "tags": []
          }
        },
        {
          "output_type": "display_data",
          "data": {
            "text/html": [
              "FALSE"
            ],
            "text/latex": "FALSE",
            "text/markdown": "FALSE",
            "text/plain": [
              "[1] FALSE"
            ]
          },
          "metadata": {
            "tags": []
          }
        }
      ]
    },
    {
      "cell_type": "code",
      "metadata": {
        "id": "3mq1eAigySNN",
        "outputId": "72911a9f-e34c-4397-caf7-be310762ca5d"
      },
      "source": [
        "# Podemos evaluar la no igualdad con \"!=\" (es distinto de)\n",
        "\n",
        "3 != 4\n",
        "3 != 3"
      ],
      "execution_count": null,
      "outputs": [
        {
          "output_type": "display_data",
          "data": {
            "text/html": [
              "TRUE"
            ],
            "text/latex": "TRUE",
            "text/markdown": "TRUE",
            "text/plain": [
              "[1] TRUE"
            ]
          },
          "metadata": {
            "tags": []
          }
        },
        {
          "output_type": "display_data",
          "data": {
            "text/html": [
              "FALSE"
            ],
            "text/latex": "FALSE",
            "text/markdown": "FALSE",
            "text/plain": [
              "[1] FALSE"
            ]
          },
          "metadata": {
            "tags": []
          }
        }
      ]
    },
    {
      "cell_type": "code",
      "metadata": {
        "id": "crOp1-6HySNP",
        "outputId": "77f8c397-6921-441f-d157-78a4b724d235"
      },
      "source": [
        "# podemos realizar comparaciones aritméticas\n",
        "\n",
        "3 > 1\n",
        "3 >= 3\n",
        "-5 < 1"
      ],
      "execution_count": null,
      "outputs": [
        {
          "output_type": "display_data",
          "data": {
            "text/html": [
              "TRUE"
            ],
            "text/latex": "TRUE",
            "text/markdown": "TRUE",
            "text/plain": [
              "[1] TRUE"
            ]
          },
          "metadata": {
            "tags": []
          }
        },
        {
          "output_type": "display_data",
          "data": {
            "text/html": [
              "TRUE"
            ],
            "text/latex": "TRUE",
            "text/markdown": "TRUE",
            "text/plain": [
              "[1] TRUE"
            ]
          },
          "metadata": {
            "tags": []
          }
        },
        {
          "output_type": "display_data",
          "data": {
            "text/html": [
              "TRUE"
            ],
            "text/latex": "TRUE",
            "text/markdown": "TRUE",
            "text/plain": [
              "[1] TRUE"
            ]
          },
          "metadata": {
            "tags": []
          }
        }
      ]
    },
    {
      "cell_type": "code",
      "metadata": {
        "id": "HZ9EQNrQySNS",
        "outputId": "3b3cc631-9830-4cbc-84d2-8a44c818aaf0"
      },
      "source": [
        "# NOTA\n",
        "Inf  # infinito \n",
        "-Inf # infinito negativo\n",
        "\n",
        "\n"
      ],
      "execution_count": null,
      "outputs": [
        {
          "output_type": "display_data",
          "data": {
            "text/html": [
              "Inf"
            ],
            "text/latex": "Inf",
            "text/markdown": "Inf",
            "text/plain": [
              "[1] Inf"
            ]
          },
          "metadata": {
            "tags": []
          }
        },
        {
          "output_type": "display_data",
          "data": {
            "text/html": [
              "-Inf"
            ],
            "text/latex": "-Inf",
            "text/markdown": "-Inf",
            "text/plain": [
              "[1] -Inf"
            ]
          },
          "metadata": {
            "tags": []
          }
        }
      ]
    },
    {
      "cell_type": "code",
      "metadata": {
        "id": "iDUzxzLBySNU",
        "outputId": "ca702933-1725-4ca6-c3f8-ce5bbaafe285"
      },
      "source": [
        "1000000000000000 > Inf"
      ],
      "execution_count": null,
      "outputs": [
        {
          "output_type": "display_data",
          "data": {
            "text/html": [
              "FALSE"
            ],
            "text/latex": "FALSE",
            "text/markdown": "FALSE",
            "text/plain": [
              "[1] FALSE"
            ]
          },
          "metadata": {
            "tags": []
          }
        }
      ]
    },
    {
      "cell_type": "code",
      "metadata": {
        "id": "rRv7kkWgySNW",
        "outputId": "16ab8c0d-178c-4a09-ac88-91f0a712e522"
      },
      "source": [
        "typeof(3L) # \"L\" incica que 3 es un entero y no un double."
      ],
      "execution_count": null,
      "outputs": [
        {
          "output_type": "display_data",
          "data": {
            "text/html": [
              "'integer'"
            ],
            "text/latex": "'integer'",
            "text/markdown": "'integer'",
            "text/plain": [
              "[1] \"integer\""
            ]
          },
          "metadata": {
            "tags": []
          }
        }
      ]
    },
    {
      "cell_type": "code",
      "metadata": {
        "id": "TnORqjmfySNY"
      },
      "source": [
        ""
      ],
      "execution_count": null,
      "outputs": []
    },
    {
      "cell_type": "code",
      "metadata": {
        "id": "DEV8PkV-ySNa",
        "outputId": "c98e7616-2c3f-4ab3-edc8-6d6035ca984f"
      },
      "source": [
        "3.0 == 3L"
      ],
      "execution_count": null,
      "outputs": [
        {
          "output_type": "display_data",
          "data": {
            "text/html": [
              "TRUE"
            ],
            "text/latex": "TRUE",
            "text/markdown": "TRUE",
            "text/plain": [
              "[1] TRUE"
            ]
          },
          "metadata": {
            "tags": []
          }
        }
      ]
    },
    {
      "cell_type": "code",
      "metadata": {
        "id": "H8JAnUETySNc",
        "outputId": "59407b3c-c7ac-4430-86cc-d1c0defb3b6e"
      },
      "source": [
        "# conector lógicos ( & es el \"y\", | es el \"o\" )\n",
        "\n",
        "T | F\n",
        "T & F\n",
        "F & F"
      ],
      "execution_count": null,
      "outputs": [
        {
          "output_type": "display_data",
          "data": {
            "text/html": [
              "TRUE"
            ],
            "text/latex": "TRUE",
            "text/markdown": "TRUE",
            "text/plain": [
              "[1] TRUE"
            ]
          },
          "metadata": {
            "tags": []
          }
        },
        {
          "output_type": "display_data",
          "data": {
            "text/html": [
              "FALSE"
            ],
            "text/latex": "FALSE",
            "text/markdown": "FALSE",
            "text/plain": [
              "[1] FALSE"
            ]
          },
          "metadata": {
            "tags": []
          }
        },
        {
          "output_type": "display_data",
          "data": {
            "text/html": [
              "FALSE"
            ],
            "text/latex": "FALSE",
            "text/markdown": "FALSE",
            "text/plain": [
              "[1] FALSE"
            ]
          },
          "metadata": {
            "tags": []
          }
        }
      ]
    },
    {
      "cell_type": "code",
      "metadata": {
        "id": "ujQiJGcbySNe",
        "outputId": "8423855c-fba6-470a-f6d5-2f6604fcef3c"
      },
      "source": [
        "# date\n",
        "no_fecha <- \"2020-06-24\" # YYYY-MM-DD por defecto R lo entiende muy bien ! :D\n",
        "class(no_fecha)\n",
        "\n",
        "fecha <- as.Date(no_fecha)\n",
        "class(fecha)\n",
        "\n",
        "fecha + 1 # suma un día a la fecha\n",
        "fecha + 10\n",
        "\n"
      ],
      "execution_count": null,
      "outputs": [
        {
          "output_type": "display_data",
          "data": {
            "text/html": [
              "'character'"
            ],
            "text/latex": "'character'",
            "text/markdown": "'character'",
            "text/plain": [
              "[1] \"character\""
            ]
          },
          "metadata": {
            "tags": []
          }
        },
        {
          "output_type": "display_data",
          "data": {
            "text/html": [
              "'Date'"
            ],
            "text/latex": "'Date'",
            "text/markdown": "'Date'",
            "text/plain": [
              "[1] \"Date\""
            ]
          },
          "metadata": {
            "tags": []
          }
        },
        {
          "output_type": "display_data",
          "data": {
            "text/html": [
              "<time datetime=\"2020-06-25\">2020-06-25</time>"
            ],
            "text/latex": "2020-06-25",
            "text/markdown": "2020-06-25",
            "text/plain": [
              "[1] \"2020-06-25\""
            ]
          },
          "metadata": {
            "tags": []
          }
        },
        {
          "output_type": "display_data",
          "data": {
            "text/html": [
              "<time datetime=\"2020-07-04\">2020-07-04</time>"
            ],
            "text/latex": "2020-07-04",
            "text/markdown": "2020-07-04",
            "text/plain": [
              "[1] \"2020-07-04\""
            ]
          },
          "metadata": {
            "tags": []
          }
        }
      ]
    },
    {
      "cell_type": "code",
      "metadata": {
        "id": "DXAdPJXnySNg"
      },
      "source": [
        "# Ayuda de la funcion as.Date\n",
        "?as.Date"
      ],
      "execution_count": null,
      "outputs": []
    },
    {
      "cell_type": "code",
      "metadata": {
        "id": "2qGozLCrySNi"
      },
      "source": [
        "help(as.Date)"
      ],
      "execution_count": null,
      "outputs": []
    },
    {
      "cell_type": "code",
      "metadata": {
        "id": "Hzb0MiRuySNk",
        "outputId": "0aab9fa9-b3ce-4bd3-c247-87373d9995e0"
      },
      "source": [
        "\n",
        "Sys.Date()\n",
        "Sys.time()"
      ],
      "execution_count": null,
      "outputs": [
        {
          "output_type": "display_data",
          "data": {
            "text/html": [
              "<time datetime=\"2020-06-25\">2020-06-25</time>"
            ],
            "text/latex": "2020-06-25",
            "text/markdown": "2020-06-25",
            "text/plain": [
              "[1] \"2020-06-25\""
            ]
          },
          "metadata": {
            "tags": []
          }
        },
        {
          "output_type": "display_data",
          "data": {
            "text/plain": [
              "[1] \"2020-06-25 00:49:35 UTC\""
            ]
          },
          "metadata": {
            "tags": []
          }
        }
      ]
    },
    {
      "cell_type": "code",
      "metadata": {
        "id": "BasvDWILySNm"
      },
      "source": [
        "pal <-\"hola\"\n",
        "\n"
      ],
      "execution_count": null,
      "outputs": []
    },
    {
      "cell_type": "code",
      "metadata": {
        "id": "IuoyidKOySNn",
        "outputId": "310a3d7d-8749-4771-dd79-15419f7b880f"
      },
      "source": [
        "# Observación: Inmutabilidad de variables en R.\n",
        "x <- 10\n",
        "y <- x\n",
        "\n",
        "x;y"
      ],
      "execution_count": null,
      "outputs": [
        {
          "output_type": "display_data",
          "data": {
            "text/html": [
              "10"
            ],
            "text/latex": "10",
            "text/markdown": "10",
            "text/plain": [
              "[1] 10"
            ]
          },
          "metadata": {
            "tags": []
          }
        },
        {
          "output_type": "display_data",
          "data": {
            "text/html": [
              "10"
            ],
            "text/latex": "10",
            "text/markdown": "10",
            "text/plain": [
              "[1] 10"
            ]
          },
          "metadata": {
            "tags": []
          }
        }
      ]
    },
    {
      "cell_type": "code",
      "metadata": {
        "id": "iq9Fgyb6ySNp",
        "outputId": "22014bcd-0cf2-43b8-dc71-5bbbe65af152"
      },
      "source": [
        "x <- 10 + 1 # x + 1\n",
        "x"
      ],
      "execution_count": null,
      "outputs": [
        {
          "output_type": "display_data",
          "data": {
            "text/html": [
              "11"
            ],
            "text/latex": "11",
            "text/markdown": "11",
            "text/plain": [
              "[1] 11"
            ]
          },
          "metadata": {
            "tags": []
          }
        }
      ]
    },
    {
      "cell_type": "code",
      "metadata": {
        "id": "9Fao-xGlySNr",
        "outputId": "e378e6e4-aeeb-461f-eaae-98edd8b08068"
      },
      "source": [
        "# ¿Qué valor tiene y?\n",
        "y # en R las asignaciones por defecto se realizan por valor y no por referencia. "
      ],
      "execution_count": null,
      "outputs": [
        {
          "output_type": "display_data",
          "data": {
            "text/html": [
              "10"
            ],
            "text/latex": "10",
            "text/markdown": "10",
            "text/plain": [
              "[1] 10"
            ]
          },
          "metadata": {
            "tags": []
          }
        }
      ]
    },
    {
      "cell_type": "markdown",
      "metadata": {
        "id": "tDPGo6PyySNu"
      },
      "source": [
        "### Observación:\n",
        "\n",
        "   1. Cada vez que se define una variable en R, esta queda almacenada en memoria. Una manera de limpiar las variables que se han definido en memoria, es a través de la función rm().\n",
        "   2. Documentación de R. Cada vez que se quiera acceder a la documentación de una librería o función en particular, se puede tipear \"?\" o \"help()\".\n",
        "   3. Cada vez que se define una nueva variable con el mismo nombre, esta simplemente actualiza su valor.\n",
        "    "
      ]
    },
    {
      "cell_type": "code",
      "metadata": {
        "id": "EHevI0LlySNv",
        "outputId": "65edda2f-0ba8-429c-f13e-cf00c5ddf65c"
      },
      "source": [
        "ls() # retorna un vector con los nombres de todas las variables definidas en el ambiente"
      ],
      "execution_count": null,
      "outputs": [
        {
          "output_type": "display_data",
          "data": {
            "text/html": [
              "<ol class=list-inline>\n",
              "\t<li>'fecha'</li>\n",
              "\t<li>'mentira'</li>\n",
              "\t<li>'no_fecha'</li>\n",
              "\t<li>'pal'</li>\n",
              "\t<li>'palabra'</li>\n",
              "\t<li>'var'</li>\n",
              "\t<li>'var2'</li>\n",
              "\t<li>'verdad'</li>\n",
              "\t<li>'x'</li>\n",
              "\t<li>'y'</li>\n",
              "</ol>\n"
            ],
            "text/latex": "\\begin{enumerate*}\n\\item 'fecha'\n\\item 'mentira'\n\\item 'no\\_fecha'\n\\item 'pal'\n\\item 'palabra'\n\\item 'var'\n\\item 'var2'\n\\item 'verdad'\n\\item 'x'\n\\item 'y'\n\\end{enumerate*}\n",
            "text/markdown": "1. 'fecha'\n2. 'mentira'\n3. 'no_fecha'\n4. 'pal'\n5. 'palabra'\n6. 'var'\n7. 'var2'\n8. 'verdad'\n9. 'x'\n10. 'y'\n\n\n",
            "text/plain": [
              " [1] \"fecha\"    \"mentira\"  \"no_fecha\" \"pal\"      \"palabra\"  \"var\"     \n",
              " [7] \"var2\"     \"verdad\"   \"x\"        \"y\"       "
            ]
          },
          "metadata": {
            "tags": []
          }
        }
      ]
    },
    {
      "cell_type": "code",
      "metadata": {
        "id": "UJq0dPSIySNx"
      },
      "source": [
        "# remueva algunas de las variables generadas anteriormente\n",
        "rm(\"fecha\")"
      ],
      "execution_count": null,
      "outputs": []
    },
    {
      "cell_type": "code",
      "metadata": {
        "id": "nLInmuwjySNy",
        "outputId": "0a43df90-5517-430c-82cf-d72a0835e55a"
      },
      "source": [
        "fecha"
      ],
      "execution_count": null,
      "outputs": [
        {
          "output_type": "error",
          "ename": "ERROR",
          "evalue": "Error in eval(expr, envir, enclos): object 'fecha' not found\n",
          "traceback": [
            "Error in eval(expr, envir, enclos): object 'fecha' not found\nTraceback:\n"
          ]
        }
      ]
    },
    {
      "cell_type": "code",
      "metadata": {
        "id": "7lZiSX2qySN0"
      },
      "source": [
        "rm(list = c(\"mentira\", \"no_fecha\") )\n"
      ],
      "execution_count": null,
      "outputs": []
    },
    {
      "cell_type": "code",
      "metadata": {
        "id": "5kDkFVn6ySN2",
        "outputId": "300d5e30-bd14-48ac-f881-d7ffd373c564"
      },
      "source": [
        "mentira"
      ],
      "execution_count": null,
      "outputs": [
        {
          "output_type": "error",
          "ename": "ERROR",
          "evalue": "Error in eval(expr, envir, enclos): object 'mentira' not found\n",
          "traceback": [
            "Error in eval(expr, envir, enclos): object 'mentira' not found\nTraceback:\n"
          ]
        }
      ]
    },
    {
      "cell_type": "markdown",
      "metadata": {
        "id": "qVG7GGScySN5"
      },
      "source": [
        "### 2.1. Missing values\n",
        "\n",
        "En R, existen tipos de datos especiales para caracterizar la ausencia o la no definición de una variable. Los valores especiales que maneja R son NA, NaN, Inf, -Inf, NULL. "
      ]
    },
    {
      "cell_type": "code",
      "metadata": {
        "id": "o60_IFkbySN5"
      },
      "source": [
        "# 2.1. Missing Values ------------\n",
        "# Acá se explica la diferencia entre ellos y cómo reconocerlos.\n",
        "\n",
        "NA # Not available\n",
        "NaN # Not a number"
      ],
      "execution_count": null,
      "outputs": []
    },
    {
      "cell_type": "code",
      "metadata": {
        "id": "ycLfJl9YySN7",
        "outputId": "55f2a4f9-d4f0-41a9-a751-a5bc841d969d"
      },
      "source": [
        "# para identificar un valor NA o NaN podemos utilizar la función is.na\n",
        "\n",
        "variable3 <- NA # El NA de R es igual a NULL de SQL.\n",
        "variable3"
      ],
      "execution_count": null,
      "outputs": [
        {
          "output_type": "display_data",
          "data": {
            "text/html": [
              "&lt;NA&gt;"
            ],
            "text/latex": "<NA>",
            "text/markdown": "&lt;NA&gt;",
            "text/plain": [
              "[1] NA"
            ]
          },
          "metadata": {
            "tags": []
          }
        }
      ]
    },
    {
      "cell_type": "code",
      "metadata": {
        "id": "yYoH5gXGySN9",
        "outputId": "9acf5cf0-21c6-4661-c446-03ff5eddb212"
      },
      "source": [
        "variable3 == NA # No podemos comparar NA ya que no está disponible el dato"
      ],
      "execution_count": null,
      "outputs": [
        {
          "output_type": "display_data",
          "data": {
            "text/html": [
              "&lt;NA&gt;"
            ],
            "text/latex": "<NA>",
            "text/markdown": "&lt;NA&gt;",
            "text/plain": [
              "[1] NA"
            ]
          },
          "metadata": {
            "tags": []
          }
        }
      ]
    },
    {
      "cell_type": "code",
      "metadata": {
        "id": "XSWDJ5sZySN_",
        "outputId": "163753f6-545e-4673-e9b2-1835be3e1deb"
      },
      "source": [
        "is.na(variable3)"
      ],
      "execution_count": null,
      "outputs": [
        {
          "output_type": "display_data",
          "data": {
            "text/html": [
              "TRUE"
            ],
            "text/latex": "TRUE",
            "text/markdown": "TRUE",
            "text/plain": [
              "[1] TRUE"
            ]
          },
          "metadata": {
            "tags": []
          }
        }
      ]
    },
    {
      "cell_type": "code",
      "metadata": {
        "id": "8Vk3w5dYySOC",
        "outputId": "ef58da34-ee8c-4f3b-d6af-f2ab71c0b9eb"
      },
      "source": [
        "is.na(NaN) # lo podemos reconocer del mismo modo que el NA\n",
        "\n"
      ],
      "execution_count": null,
      "outputs": [
        {
          "output_type": "display_data",
          "data": {
            "text/html": [
              "TRUE"
            ],
            "text/latex": "TRUE",
            "text/markdown": "TRUE",
            "text/plain": [
              "[1] TRUE"
            ]
          },
          "metadata": {
            "tags": []
          }
        }
      ]
    },
    {
      "cell_type": "code",
      "metadata": {
        "id": "MP_LCVh0ySOE",
        "outputId": "bc09b16d-a3d2-4298-f5be-49283d366bc9"
      },
      "source": [
        "0/0"
      ],
      "execution_count": null,
      "outputs": [
        {
          "output_type": "display_data",
          "data": {
            "text/html": [
              "NaN"
            ],
            "text/latex": "NaN",
            "text/markdown": "NaN",
            "text/plain": [
              "[1] NaN"
            ]
          },
          "metadata": {
            "tags": []
          }
        }
      ]
    },
    {
      "cell_type": "code",
      "metadata": {
        "id": "71mULZZ4ySOG",
        "outputId": "053e0c13-f228-4e64-87ae-8ac48135aa8e"
      },
      "source": [
        "125/0 == Inf"
      ],
      "execution_count": null,
      "outputs": [
        {
          "output_type": "display_data",
          "data": {
            "text/html": [
              "TRUE"
            ],
            "text/latex": "TRUE",
            "text/markdown": "TRUE",
            "text/plain": [
              "[1] TRUE"
            ]
          },
          "metadata": {
            "tags": []
          }
        }
      ]
    },
    {
      "cell_type": "code",
      "metadata": {
        "id": "_TP-a9EnySOI"
      },
      "source": [
        "# NULL se utiliza para definir listas/erreglos de largo 0  (eliminarlas del ambiente)\n",
        "# Se suele utilizar para retornar valores por defecto en una función.\n",
        "\n",
        "\n",
        "variable4 <- NULL\n"
      ],
      "execution_count": null,
      "outputs": []
    },
    {
      "cell_type": "code",
      "metadata": {
        "id": "0v6AwHwLySOK",
        "outputId": "4cf9d7e2-93c9-4a2e-c6be-ecc1813aa9ca"
      },
      "source": [
        "variable4"
      ],
      "execution_count": null,
      "outputs": [
        {
          "output_type": "display_data",
          "data": {
            "text/plain": [
              "NULL"
            ]
          },
          "metadata": {
            "tags": []
          }
        }
      ]
    },
    {
      "cell_type": "code",
      "metadata": {
        "id": "PPgQ9Yn8ySOL",
        "outputId": "aa71cc07-075f-42a5-9672-e35c688c9728"
      },
      "source": [
        "is.null(variable4) # así reconocemos objetos vacíos de clase NULL"
      ],
      "execution_count": null,
      "outputs": [
        {
          "output_type": "display_data",
          "data": {
            "text/html": [
              "TRUE"
            ],
            "text/latex": "TRUE",
            "text/markdown": "TRUE",
            "text/plain": [
              "[1] TRUE"
            ]
          },
          "metadata": {
            "tags": []
          }
        }
      ]
    }
  ]
}