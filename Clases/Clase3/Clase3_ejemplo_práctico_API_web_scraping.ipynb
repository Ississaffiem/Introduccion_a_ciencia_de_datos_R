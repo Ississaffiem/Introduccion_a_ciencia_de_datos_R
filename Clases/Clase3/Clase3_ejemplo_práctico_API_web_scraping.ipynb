{
  "nbformat": 4,
  "nbformat_minor": 0,
  "metadata": {
    "colab": {
      "name": "Clase3_ejemplo_práctico_API.ipynb",
      "provenance": [],
      "authorship_tag": "ABX9TyPna9JFOcirL6ycN4w9MVI/",
      "include_colab_link": true
    },
    "kernelspec": {
      "name": "ir",
      "display_name": "R"
    }
  },
  "cells": [
    {
      "cell_type": "markdown",
      "metadata": {
        "id": "view-in-github",
        "colab_type": "text"
      },
      "source": [
        "<a href=\"https://colab.research.google.com/github/majorquev/Introduccion_a_ciencia_de_datos_R/blob/master/Clases/Clase3/Clase3_ejemplo_pr%C3%A1ctico_API.ipynb\" target=\"_parent\"><img src=\"https://colab.research.google.com/assets/colab-badge.svg\" alt=\"Open In Colab\"/></a>"
      ]
    },
    {
      "cell_type": "markdown",
      "metadata": {
        "id": "ShFak6gSQldy"
      },
      "source": [
        "# **Parte 3: Consumo de APIs con R**\n",
        "\n",
        "\n",
        "**Autor:** Miguel Jorquera Viguera<br>\n",
        "**E-mail:** majorquev@gmail.com<br>\n",
        "**Ayudante:** Bastián Aballay Leiva<br>\n",
        "**E-mail ayudante:** bastian.aballayleiva@gmail.com\n",
        "\n",
        "## **Ejemplo**\n",
        "Para este ejemplo utilizaremos la API de Accuweather para obtener información del clima.  \n",
        "Para ello necesitamos contar con los packages `httr` y `jsonlite`"
      ]
    },
    {
      "cell_type": "code",
      "metadata": {
        "id": "Jxgs6WwhRYZu",
        "outputId": "9432aeb0-2666-490d-ce70-560563d1fb7e",
        "colab": {
          "base_uri": "https://localhost:8080/",
          "height": 72
        }
      },
      "source": [
        "install.packages(\"httr\")"
      ],
      "execution_count": 1,
      "outputs": [
        {
          "output_type": "stream",
          "text": [
            "Installing package into ‘/usr/local/lib/R/site-library’\n",
            "(as ‘lib’ is unspecified)\n",
            "\n"
          ],
          "name": "stderr"
        }
      ]
    },
    {
      "cell_type": "code",
      "metadata": {
        "id": "Ne3_O-bWfuun",
        "outputId": "887640c1-5420-49ec-bc4a-c49bae79c373",
        "colab": {
          "base_uri": "https://localhost:8080/",
          "height": 72
        }
      },
      "source": [
        "install.packages(\"jsonlite\")"
      ],
      "execution_count": 2,
      "outputs": [
        {
          "output_type": "stream",
          "text": [
            "Installing package into ‘/usr/local/lib/R/site-library’\n",
            "(as ‘lib’ is unspecified)\n",
            "\n"
          ],
          "name": "stderr"
        }
      ]
    },
    {
      "cell_type": "code",
      "metadata": {
        "id": "Mbc0CK2gfuOb",
        "outputId": "5388cd34-af68-48fd-d58a-cd5d74461ddd",
        "colab": {
          "base_uri": "https://localhost:8080/",
          "height": 272
        }
      },
      "source": [
        "library(\"httr\")\n",
        "library(\"jsonlite\")\n",
        "library(\"dplyr\")"
      ],
      "execution_count": 3,
      "outputs": [
        {
          "output_type": "stream",
          "text": [
            "\n",
            "Attaching package: ‘dplyr’\n",
            "\n",
            "\n",
            "The following objects are masked from ‘package:stats’:\n",
            "\n",
            "    filter, lag\n",
            "\n",
            "\n",
            "The following objects are masked from ‘package:base’:\n",
            "\n",
            "    intersect, setdiff, setequal, union\n",
            "\n",
            "\n"
          ],
          "name": "stderr"
        }
      ]
    },
    {
      "cell_type": "code",
      "metadata": {
        "id": "skVz_kJ-f44C",
        "outputId": "255b38a8-a466-4860-dadd-6f9962994a7c",
        "colab": {
          "base_uri": "https://localhost:8080/",
          "height": 35
        }
      },
      "source": [
        "url <- \"http://dataservice.accuweather.com/forecasts/v1/daily/1day/60412?apikey=0lsaxvHGpLIdb2GDw5LhZwCtg3xZRKxu&language=es-ES&details=true&metric=true\"\n",
        "url"
      ],
      "execution_count": 5,
      "outputs": [
        {
          "output_type": "display_data",
          "data": {
            "text/plain": [
              "[1] \"http://dataservice.accuweather.com/forecasts/v1/daily/1day/60412?apikey=0lsaxvHGpLIdb2GDw5LhZwCtg3xZRKxu&language=es-ES&details=true&metric=true\""
            ],
            "text/latex": "'http://dataservice.accuweather.com/forecasts/v1/daily/1day/60412?apikey=0lsaxvHGpLIdb2GDw5LhZwCtg3xZRKxu\\&language=es-ES\\&details=true\\&metric=true'",
            "text/markdown": "'http://dataservice.accuweather.com/forecasts/v1/daily/1day/60412?apikey=0lsaxvHGpLIdb2GDw5LhZwCtg3xZRKxu&amp;language=es-ES&amp;details=true&amp;metric=true'",
            "text/html": [
              "'http://dataservice.accuweather.com/forecasts/v1/daily/1day/60412?apikey=0lsaxvHGpLIdb2GDw5LhZwCtg3xZRKxu&amp;language=es-ES&amp;details=true&amp;metric=true'"
            ]
          },
          "metadata": {
            "tags": []
          }
        }
      ]
    },
    {
      "cell_type": "code",
      "metadata": {
        "id": "gOQxlEmPf5IF"
      },
      "source": [
        "clima_1d <- httr::GET(url)"
      ],
      "execution_count": 15,
      "outputs": []
    },
    {
      "cell_type": "code",
      "metadata": {
        "id": "eZZO5rBymC0L",
        "outputId": "24155dee-4192-4cb8-de62-f85190f3bc95",
        "colab": {
          "base_uri": "https://localhost:8080/",
          "height": 108
        }
      },
      "source": [
        "clima_1d"
      ],
      "execution_count": 16,
      "outputs": [
        {
          "output_type": "display_data",
          "data": {
            "text/plain": [
              "Response [http://dataservice.accuweather.com/forecasts/v1/daily/1day/60412?apikey=0lsaxvHGpLIdb2GDw5LhZwCtg3xZRKxu&language=es-ES&details=true&metric=true]\n",
              "  Date: 2020-10-09 18:31\n",
              "  Status: 200\n",
              "  Content-Type: application/json; charset=utf-8\n",
              "  Size: 3.6 kB\n"
            ]
          },
          "metadata": {
            "tags": []
          }
        }
      ]
    },
    {
      "cell_type": "code",
      "metadata": {
        "id": "42B_IVVSmKbV"
      },
      "source": [
        "str(clima_1d)"
      ],
      "execution_count": null,
      "outputs": []
    },
    {
      "cell_type": "code",
      "metadata": {
        "id": "9Mlx0NV_mV4Q",
        "outputId": "0c2098f9-7299-49eb-b028-8482eb3ecab9",
        "colab": {
          "base_uri": "https://localhost:8080/",
          "height": 35
        }
      },
      "source": [
        "head(clima_1d$content)"
      ],
      "execution_count": 18,
      "outputs": [
        {
          "output_type": "display_data",
          "data": {
            "text/plain": [
              "[1] 7b 22 48 65 61 64"
            ]
          },
          "metadata": {
            "tags": []
          }
        }
      ]
    },
    {
      "cell_type": "code",
      "metadata": {
        "id": "HhM7R48VmXqm"
      },
      "source": [
        "text_content <- content(clima_1d, as = \"text\")"
      ],
      "execution_count": 19,
      "outputs": []
    },
    {
      "cell_type": "code",
      "metadata": {
        "id": "uMTu92YYmXtN",
        "outputId": "b0bd5387-edfd-4ebe-ff98-1cb6fa705476",
        "colab": {
          "base_uri": "https://localhost:8080/",
          "height": 294
        }
      },
      "source": [
        "text_content"
      ],
      "execution_count": 20,
      "outputs": [
        {
          "output_type": "display_data",
          "data": {
            "text/plain": [
              "[1] \"{\\\"Headline\\\":{\\\"EffectiveDate\\\":\\\"2020-10-09T08:00:00-03:00\\\",\\\"EffectiveEpochDate\\\":1602241200,\\\"Severity\\\":4,\\\"Text\\\":\\\"La calidad del aire no será saludable para los grupos sensibles desde esta mañana hasta el martes por la mañana\\\",\\\"Category\\\":\\\"air quality\\\",\\\"EndDate\\\":\\\"2020-10-13T14:00:00-03:00\\\",\\\"EndEpochDate\\\":1602608400,\\\"MobileLink\\\":\\\"http://m.accuweather.com/es/cl/macul/60412/extended-weather-forecast/60412?unit=c\\\",\\\"Link\\\":\\\"http://www.accuweather.com/es/cl/macul/60412/daily-weather-forecast/60412?unit=c\\\"},\\\"DailyForecasts\\\":[{\\\"Date\\\":\\\"2020-10-09T07:00:00-03:00\\\",\\\"EpochDate\\\":1602237600,\\\"Sun\\\":{\\\"Rise\\\":\\\"2020-10-09T07:08:00-03:00\\\",\\\"EpochRise\\\":1602238080,\\\"Set\\\":\\\"2020-10-09T19:52:00-03:00\\\",\\\"EpochSet\\\":1602283920},\\\"Moon\\\":{\\\"Rise\\\":\\\"2020-10-09T02:11:00-03:00\\\",\\\"EpochRise\\\":1602220260,\\\"Set\\\":\\\"2020-10-09T12:10:00-03:00\\\",\\\"EpochSet\\\":1602256200,\\\"Phase\\\":\\\"Last\\\",\\\"Age\\\":22},\\\"Temperature\\\":{\\\"Minimum\\\":{\\\"Value\\\":6.7,\\\"Unit\\\":\\\"C\\\",\\\"UnitType\\\":17},\\\"Maximum\\\":{\\\"Value\\\":27.8,\\\"Unit\\\":\\\"C\\\",\\\"UnitType\\\":17}},\\\"RealFeelTemperature\\\":{\\\"Minimum\\\":{\\\"Value\\\":10.6,\\\"Unit\\\":\\\"C\\\",\\\"UnitType\\\":17},\\\"Maximum\\\":{\\\"Value\\\":28.9,\\\"Unit\\\":\\\"C\\\",\\\"UnitType\\\":17}},\\\"RealFeelTemperatureShade\\\":{\\\"Minimum\\\":{\\\"Value\\\":10.6,\\\"Unit\\\":\\\"C\\\",\\\"UnitType\\\":17},\\\"Maximum\\\":{\\\"Value\\\":26.7,\\\"Unit\\\":\\\"C\\\",\\\"UnitType\\\":17}},\\\"HoursOfSun\\\":12.4,\\\"DegreeDaySummary\\\":{\\\"Heating\\\":{\\\"Value\\\":1.0,\\\"Unit\\\":\\\"C\\\",\\\"UnitType\\\":17},\\\"Cooling\\\":{\\\"Value\\\":0.0,\\\"Unit\\\":\\\"C\\\",\\\"UnitType\\\":17}},\\\"AirAndPollen\\\":[{\\\"Name\\\":\\\"AirQuality\\\",\\\"Value\\\":136,\\\"Category\\\":\\\"Poco saludable (sensible)\\\",\\\"CategoryValue\\\":3,\\\"Type\\\":\\\"Polución de partículas\\\"},{\\\"Name\\\":\\\"Grass\\\",\\\"Value\\\":0,\\\"Category\\\":\\\"Bajo\\\",\\\"CategoryValue\\\":1},{\\\"Name\\\":\\\"Mold\\\",\\\"Value\\\":0,\\\"Category\\\":\\\"Bajo\\\",\\\"CategoryValue\\\":1},{\\\"Name\\\":\\\"Tree\\\",\\\"Value\\\":0,\\\"Category\\\":\\\"Bajo\\\",\\\"CategoryValue\\\":1},{\\\"Name\\\":\\\"Ragweed\\\",\\\"Value\\\":0,\\\"Category\\\":\\\"Bajo\\\",\\\"CategoryValue\\\":1},{\\\"Name\\\":\\\"UVIndex\\\",\\\"Value\\\":9,\\\"Category\\\":\\\"Muy alto\\\",\\\"CategoryValue\\\":4}],\\\"Day\\\":{\\\"Icon\\\":3,\\\"IconPhrase\\\":\\\"Parcialmente soleado\\\",\\\"HasPrecipitation\\\":false,\\\"ShortPhrase\\\":\\\"Parcialmente soleado\\\",\\\"LongPhrase\\\":\\\"Parcialmente soleado\\\",\\\"PrecipitationProbability\\\":0,\\\"ThunderstormProbability\\\":0,\\\"RainProbability\\\":0,\\\"SnowProbability\\\":0,\\\"IceProbability\\\":0,\\\"Wind\\\":{\\\"Speed\\\":{\\\"Value\\\":4.8,\\\"Unit\\\":\\\"km/h\\\",\\\"UnitType\\\":7},\\\"Direction\\\":{\\\"Degrees\\\":234,\\\"Localized\\\":\\\"SO\\\",\\\"English\\\":\\\"SW\\\"}},\\\"WindGust\\\":{\\\"Speed\\\":{\\\"Value\\\":12.9,\\\"Unit\\\":\\\"km/h\\\",\\\"UnitType\\\":7},\\\"Direction\\\":{\\\"Degrees\\\":234,\\\"Localized\\\":\\\"SO\\\",\\\"English\\\":\\\"SW\\\"}},\\\"TotalLiquid\\\":{\\\"Value\\\":0.0,\\\"Unit\\\":\\\"mm\\\",\\\"UnitType\\\":3},\\\"Rain\\\":{\\\"Value\\\":0.0,\\\"Unit\\\":\\\"mm\\\",\\\"UnitType\\\":3},\\\"Snow\\\":{\\\"Value\\\":0.0,\\\"Unit\\\":\\\"cm\\\",\\\"UnitType\\\":4},\\\"Ice\\\":{\\\"Value\\\":0.0,\\\"Unit\\\":\\\"mm\\\",\\\"UnitType\\\":3},\\\"HoursOfPrecipitation\\\":0.0,\\\"HoursOfRain\\\":0.0,\\\"HoursOfSnow\\\":0.0,\\\"HoursOfIce\\\":0.0,\\\"CloudCover\\\":14},\\\"Night\\\":{\\\"Icon\\\":37,\\\"IconPhrase\\\":\\\"Luna con bruma\\\",\\\"HasPrecipitation\\\":false,\\\"ShortPhrase\\\":\\\"Brumoso\\\",\\\"LongPhrase\\\":\\\"Brumoso\\\",\\\"PrecipitationProbability\\\":0,\\\"ThunderstormProbability\\\":0,\\\"RainProbability\\\":0,\\\"SnowProbability\\\":0,\\\"IceProbability\\\":0,\\\"Wind\\\":{\\\"Speed\\\":{\\\"Value\\\":4.8,\\\"Unit\\\":\\\"km/h\\\",\\\"UnitType\\\":7},\\\"Direction\\\":{\\\"Degrees\\\":237,\\\"Localized\\\":\\\"OSO\\\",\\\"English\\\":\\\"WSW\\\"}},\\\"WindGust\\\":{\\\"Speed\\\":{\\\"Value\\\":12.9,\\\"Unit\\\":\\\"km/h\\\",\\\"UnitType\\\":7},\\\"Direction\\\":{\\\"Degrees\\\":237,\\\"Localized\\\":\\\"OSO\\\",\\\"English\\\":\\\"WSW\\\"}},\\\"TotalLiquid\\\":{\\\"Value\\\":0.0,\\\"Unit\\\":\\\"mm\\\",\\\"UnitType\\\":3},\\\"Rain\\\":{\\\"Value\\\":0.0,\\\"Unit\\\":\\\"mm\\\",\\\"UnitType\\\":3},\\\"Snow\\\":{\\\"Value\\\":0.0,\\\"Unit\\\":\\\"cm\\\",\\\"UnitType\\\":4},\\\"Ice\\\":{\\\"Value\\\":0.0,\\\"Unit\\\":\\\"mm\\\",\\\"UnitType\\\":3},\\\"HoursOfPrecipitation\\\":0.0,\\\"HoursOfRain\\\":0.0,\\\"HoursOfSnow\\\":0.0,\\\"HoursOfIce\\\":0.0,\\\"CloudCover\\\":1},\\\"Sources\\\":[\\\"AccuWeather\\\"],\\\"MobileLink\\\":\\\"http://m.accuweather.com/es/cl/macul/60412/daily-weather-forecast/60412?day=1&unit=c\\\",\\\"Link\\\":\\\"http://www.accuweather.com/es/cl/macul/60412/daily-weather-forecast/60412?day=1&unit=c\\\"}]}\""
            ],
            "text/latex": "'\\{\"Headline\":\\{\"EffectiveDate\":\"2020-10-09T08:00:00-03:00\",\"EffectiveEpochDate\":1602241200,\"Severity\":4,\"Text\":\"La calidad del aire no será saludable para los grupos sensibles desde esta mañana hasta el martes por la mañana\",\"Category\":\"air quality\",\"EndDate\":\"2020-10-13T14:00:00-03:00\",\"EndEpochDate\":1602608400,\"MobileLink\":\"http://m.accuweather.com/es/cl/macul/60412/extended-weather-forecast/60412?unit=c\",\"Link\":\"http://www.accuweather.com/es/cl/macul/60412/daily-weather-forecast/60412?unit=c\"\\},\"DailyForecasts\":{[}\\{\"Date\":\"2020-10-09T07:00:00-03:00\",\"EpochDate\":1602237600,\"Sun\":\\{\"Rise\":\"2020-10-09T07:08:00-03:00\",\"EpochRise\":1602238080,\"Set\":\"2020-10-09T19:52:00-03:00\",\"EpochSet\":1602283920\\},\"Moon\":\\{\"Rise\":\"2020-10-09T02:11:00-03:00\",\"EpochRise\":1602220260,\"Set\":\"2020-10-09T12:10:00-03:00\",\"EpochSet\":1602256200,\"Phase\":\"Last\",\"Age\":22\\},\"Temperature\":\\{\"Minimum\":\\{\"Value\":6.7,\"Unit\":\"C\",\"UnitType\":17\\},\"Maximum\":\\{\"Value\":27.8,\"Unit\":\"C\",\"UnitType\":17\\}\\},\"RealFeelTemperature\":\\{\"Minimum\":\\{\"Value\":10.6,\"Unit\":\"C\",\"UnitType\":17\\},\"Maximum\":\\{\"Value\":28.9,\"Unit\":\"C\",\"UnitType\":17\\}\\},\"RealFeelTemperatureShade\":\\{\"Minimum\":\\{\"Value\":10.6,\"Unit\":\"C\",\"UnitType\":17\\},\"Maximum\":\\{\"Value\":26.7,\"Unit\":\"C\",\"UnitType\":17\\}\\},\"HoursOfSun\":12.4,\"DegreeDaySummary\":\\{\"Heating\":\\{\"Value\":1.0,\"Unit\":\"C\",\"UnitType\":17\\},\"Cooling\":\\{\"Value\":0.0,\"Unit\":\"C\",\"UnitType\":17\\}\\},\"AirAndPollen\":{[}\\{\"Name\":\"AirQuality\",\"Value\":136,\"Category\":\"Poco saludable (sensible)\",\"CategoryValue\":3,\"Type\":\"Polución de partículas\"\\},\\{\"Name\":\"Grass\",\"Value\":0,\"Category\":\"Bajo\",\"CategoryValue\":1\\},\\{\"Name\":\"Mold\",\"Value\":0,\"Category\":\"Bajo\",\"CategoryValue\":1\\},\\{\"Name\":\"Tree\",\"Value\":0,\"Category\":\"Bajo\",\"CategoryValue\":1\\},\\{\"Name\":\"Ragweed\",\"Value\":0,\"Category\":\"Bajo\",\"CategoryValue\":1\\},\\{\"Name\":\"UVIndex\",\"Value\":9,\"Category\":\"Muy alto\",\"CategoryValue\":4\\}{]},\"Day\":\\{\"Icon\":3,\"IconPhrase\":\"Parcialmente soleado\",\"HasPrecipitation\":false,\"ShortPhrase\":\"Parcialmente soleado\",\"LongPhrase\":\"Parcialmente soleado\",\"PrecipitationProbability\":0,\"ThunderstormProbability\":0,\"RainProbability\":0,\"SnowProbability\":0,\"IceProbability\":0,\"Wind\":\\{\"Speed\":\\{\"Value\":4.8,\"Unit\":\"km/h\",\"UnitType\":7\\},\"Direction\":\\{\"Degrees\":234,\"Localized\":\"SO\",\"English\":\"SW\"\\}\\},\"WindGust\":\\{\"Speed\":\\{\"Value\":12.9,\"Unit\":\"km/h\",\"UnitType\":7\\},\"Direction\":\\{\"Degrees\":234,\"Localized\":\"SO\",\"English\":\"SW\"\\}\\},\"TotalLiquid\":\\{\"Value\":0.0,\"Unit\":\"mm\",\"UnitType\":3\\},\"Rain\":\\{\"Value\":0.0,\"Unit\":\"mm\",\"UnitType\":3\\},\"Snow\":\\{\"Value\":0.0,\"Unit\":\"cm\",\"UnitType\":4\\},\"Ice\":\\{\"Value\":0.0,\"Unit\":\"mm\",\"UnitType\":3\\},\"HoursOfPrecipitation\":0.0,\"HoursOfRain\":0.0,\"HoursOfSnow\":0.0,\"HoursOfIce\":0.0,\"CloudCover\":14\\},\"Night\":\\{\"Icon\":37,\"IconPhrase\":\"Luna con bruma\",\"HasPrecipitation\":false,\"ShortPhrase\":\"Brumoso\",\"LongPhrase\":\"Brumoso\",\"PrecipitationProbability\":0,\"ThunderstormProbability\":0,\"RainProbability\":0,\"SnowProbability\":0,\"IceProbability\":0,\"Wind\":\\{\"Speed\":\\{\"Value\":4.8,\"Unit\":\"km/h\",\"UnitType\":7\\},\"Direction\":\\{\"Degrees\":237,\"Localized\":\"OSO\",\"English\":\"WSW\"\\}\\},\"WindGust\":\\{\"Speed\":\\{\"Value\":12.9,\"Unit\":\"km/h\",\"UnitType\":7\\},\"Direction\":\\{\"Degrees\":237,\"Localized\":\"OSO\",\"English\":\"WSW\"\\}\\},\"TotalLiquid\":\\{\"Value\":0.0,\"Unit\":\"mm\",\"UnitType\":3\\},\"Rain\":\\{\"Value\":0.0,\"Unit\":\"mm\",\"UnitType\":3\\},\"Snow\":\\{\"Value\":0.0,\"Unit\":\"cm\",\"UnitType\":4\\},\"Ice\":\\{\"Value\":0.0,\"Unit\":\"mm\",\"UnitType\":3\\},\"HoursOfPrecipitation\":0.0,\"HoursOfRain\":0.0,\"HoursOfSnow\":0.0,\"HoursOfIce\":0.0,\"CloudCover\":1\\},\"Sources\":{[}\"AccuWeather\"{]},\"MobileLink\":\"http://m.accuweather.com/es/cl/macul/60412/daily-weather-forecast/60412?day=1\\&unit=c\",\"Link\":\"http://www.accuweather.com/es/cl/macul/60412/daily-weather-forecast/60412?day=1\\&unit=c\"\\}{]}\\}'",
            "text/markdown": "'{\"Headline\":{\"EffectiveDate\":\"2020-10-09T08:00:00-03:00\",\"EffectiveEpochDate\":1602241200,\"Severity\":4,\"Text\":\"La calidad del aire no será saludable para los grupos sensibles desde esta mañana hasta el martes por la mañana\",\"Category\":\"air quality\",\"EndDate\":\"2020-10-13T14:00:00-03:00\",\"EndEpochDate\":1602608400,\"MobileLink\":\"http://m.accuweather.com/es/cl/macul/60412/extended-weather-forecast/60412?unit=c\",\"Link\":\"http://www.accuweather.com/es/cl/macul/60412/daily-weather-forecast/60412?unit=c\"},\"DailyForecasts\":[{\"Date\":\"2020-10-09T07:00:00-03:00\",\"EpochDate\":1602237600,\"Sun\":{\"Rise\":\"2020-10-09T07:08:00-03:00\",\"EpochRise\":1602238080,\"Set\":\"2020-10-09T19:52:00-03:00\",\"EpochSet\":1602283920},\"Moon\":{\"Rise\":\"2020-10-09T02:11:00-03:00\",\"EpochRise\":1602220260,\"Set\":\"2020-10-09T12:10:00-03:00\",\"EpochSet\":1602256200,\"Phase\":\"Last\",\"Age\":22},\"Temperature\":{\"Minimum\":{\"Value\":6.7,\"Unit\":\"C\",\"UnitType\":17},\"Maximum\":{\"Value\":27.8,\"Unit\":\"C\",\"UnitType\":17}},\"RealFeelTemperature\":{\"Minimum\":{\"Value\":10.6,\"Unit\":\"C\",\"UnitType\":17},\"Maximum\":{\"Value\":28.9,\"Unit\":\"C\",\"UnitType\":17}},\"RealFeelTemperatureShade\":{\"Minimum\":{\"Value\":10.6,\"Unit\":\"C\",\"UnitType\":17},\"Maximum\":{\"Value\":26.7,\"Unit\":\"C\",\"UnitType\":17}},\"HoursOfSun\":12.4,\"DegreeDaySummary\":{\"Heating\":{\"Value\":1.0,\"Unit\":\"C\",\"UnitType\":17},\"Cooling\":{\"Value\":0.0,\"Unit\":\"C\",\"UnitType\":17}},\"AirAndPollen\":[{\"Name\":\"AirQuality\",\"Value\":136,\"Category\":\"Poco saludable (sensible)\",\"CategoryValue\":3,\"Type\":\"Polución de partículas\"},{\"Name\":\"Grass\",\"Value\":0,\"Category\":\"Bajo\",\"CategoryValue\":1},{\"Name\":\"Mold\",\"Value\":0,\"Category\":\"Bajo\",\"CategoryValue\":1},{\"Name\":\"Tree\",\"Value\":0,\"Category\":\"Bajo\",\"CategoryValue\":1},{\"Name\":\"Ragweed\",\"Value\":0,\"Category\":\"Bajo\",\"CategoryValue\":1},{\"Name\":\"UVIndex\",\"Value\":9,\"Category\":\"Muy alto\",\"CategoryValue\":4}],\"Day\":{\"Icon\":3,\"IconPhrase\":\"Parcialmente soleado\",\"HasPrecipitation\":false,\"ShortPhrase\":\"Parcialmente soleado\",\"LongPhrase\":\"Parcialmente soleado\",\"PrecipitationProbability\":0,\"ThunderstormProbability\":0,\"RainProbability\":0,\"SnowProbability\":0,\"IceProbability\":0,\"Wind\":{\"Speed\":{\"Value\":4.8,\"Unit\":\"km/h\",\"UnitType\":7},\"Direction\":{\"Degrees\":234,\"Localized\":\"SO\",\"English\":\"SW\"}},\"WindGust\":{\"Speed\":{\"Value\":12.9,\"Unit\":\"km/h\",\"UnitType\":7},\"Direction\":{\"Degrees\":234,\"Localized\":\"SO\",\"English\":\"SW\"}},\"TotalLiquid\":{\"Value\":0.0,\"Unit\":\"mm\",\"UnitType\":3},\"Rain\":{\"Value\":0.0,\"Unit\":\"mm\",\"UnitType\":3},\"Snow\":{\"Value\":0.0,\"Unit\":\"cm\",\"UnitType\":4},\"Ice\":{\"Value\":0.0,\"Unit\":\"mm\",\"UnitType\":3},\"HoursOfPrecipitation\":0.0,\"HoursOfRain\":0.0,\"HoursOfSnow\":0.0,\"HoursOfIce\":0.0,\"CloudCover\":14},\"Night\":{\"Icon\":37,\"IconPhrase\":\"Luna con bruma\",\"HasPrecipitation\":false,\"ShortPhrase\":\"Brumoso\",\"LongPhrase\":\"Brumoso\",\"PrecipitationProbability\":0,\"ThunderstormProbability\":0,\"RainProbability\":0,\"SnowProbability\":0,\"IceProbability\":0,\"Wind\":{\"Speed\":{\"Value\":4.8,\"Unit\":\"km/h\",\"UnitType\":7},\"Direction\":{\"Degrees\":237,\"Localized\":\"OSO\",\"English\":\"WSW\"}},\"WindGust\":{\"Speed\":{\"Value\":12.9,\"Unit\":\"km/h\",\"UnitType\":7},\"Direction\":{\"Degrees\":237,\"Localized\":\"OSO\",\"English\":\"WSW\"}},\"TotalLiquid\":{\"Value\":0.0,\"Unit\":\"mm\",\"UnitType\":3},\"Rain\":{\"Value\":0.0,\"Unit\":\"mm\",\"UnitType\":3},\"Snow\":{\"Value\":0.0,\"Unit\":\"cm\",\"UnitType\":4},\"Ice\":{\"Value\":0.0,\"Unit\":\"mm\",\"UnitType\":3},\"HoursOfPrecipitation\":0.0,\"HoursOfRain\":0.0,\"HoursOfSnow\":0.0,\"HoursOfIce\":0.0,\"CloudCover\":1},\"Sources\":[\"AccuWeather\"],\"MobileLink\":\"http://m.accuweather.com/es/cl/macul/60412/daily-weather-forecast/60412?day=1&amp;unit=c\",\"Link\":\"http://www.accuweather.com/es/cl/macul/60412/daily-weather-forecast/60412?day=1&amp;unit=c\"}]}'",
            "text/html": [
              "'{\"Headline\":{\"EffectiveDate\":\"2020-10-09T08:00:00-03:00\",\"EffectiveEpochDate\":1602241200,\"Severity\":4,\"Text\":\"La calidad del aire no será saludable para los grupos sensibles desde esta mañana hasta el martes por la mañana\",\"Category\":\"air quality\",\"EndDate\":\"2020-10-13T14:00:00-03:00\",\"EndEpochDate\":1602608400,\"MobileLink\":\"http://m.accuweather.com/es/cl/macul/60412/extended-weather-forecast/60412?unit=c\",\"Link\":\"http://www.accuweather.com/es/cl/macul/60412/daily-weather-forecast/60412?unit=c\"},\"DailyForecasts\":[{\"Date\":\"2020-10-09T07:00:00-03:00\",\"EpochDate\":1602237600,\"Sun\":{\"Rise\":\"2020-10-09T07:08:00-03:00\",\"EpochRise\":1602238080,\"Set\":\"2020-10-09T19:52:00-03:00\",\"EpochSet\":1602283920},\"Moon\":{\"Rise\":\"2020-10-09T02:11:00-03:00\",\"EpochRise\":1602220260,\"Set\":\"2020-10-09T12:10:00-03:00\",\"EpochSet\":1602256200,\"Phase\":\"Last\",\"Age\":22},\"Temperature\":{\"Minimum\":{\"Value\":6.7,\"Unit\":\"C\",\"UnitType\":17},\"Maximum\":{\"Value\":27.8,\"Unit\":\"C\",\"UnitType\":17}},\"RealFeelTemperature\":{\"Minimum\":{\"Value\":10.6,\"Unit\":\"C\",\"UnitType\":17},\"Maximum\":{\"Value\":28.9,\"Unit\":\"C\",\"UnitType\":17}},\"RealFeelTemperatureShade\":{\"Minimum\":{\"Value\":10.6,\"Unit\":\"C\",\"UnitType\":17},\"Maximum\":{\"Value\":26.7,\"Unit\":\"C\",\"UnitType\":17}},\"HoursOfSun\":12.4,\"DegreeDaySummary\":{\"Heating\":{\"Value\":1.0,\"Unit\":\"C\",\"UnitType\":17},\"Cooling\":{\"Value\":0.0,\"Unit\":\"C\",\"UnitType\":17}},\"AirAndPollen\":[{\"Name\":\"AirQuality\",\"Value\":136,\"Category\":\"Poco saludable (sensible)\",\"CategoryValue\":3,\"Type\":\"Polución de partículas\"},{\"Name\":\"Grass\",\"Value\":0,\"Category\":\"Bajo\",\"CategoryValue\":1},{\"Name\":\"Mold\",\"Value\":0,\"Category\":\"Bajo\",\"CategoryValue\":1},{\"Name\":\"Tree\",\"Value\":0,\"Category\":\"Bajo\",\"CategoryValue\":1},{\"Name\":\"Ragweed\",\"Value\":0,\"Category\":\"Bajo\",\"CategoryValue\":1},{\"Name\":\"UVIndex\",\"Value\":9,\"Category\":\"Muy alto\",\"CategoryValue\":4}],\"Day\":{\"Icon\":3,\"IconPhrase\":\"Parcialmente soleado\",\"HasPrecipitation\":false,\"ShortPhrase\":\"Parcialmente soleado\",\"LongPhrase\":\"Parcialmente soleado\",\"PrecipitationProbability\":0,\"ThunderstormProbability\":0,\"RainProbability\":0,\"SnowProbability\":0,\"IceProbability\":0,\"Wind\":{\"Speed\":{\"Value\":4.8,\"Unit\":\"km/h\",\"UnitType\":7},\"Direction\":{\"Degrees\":234,\"Localized\":\"SO\",\"English\":\"SW\"}},\"WindGust\":{\"Speed\":{\"Value\":12.9,\"Unit\":\"km/h\",\"UnitType\":7},\"Direction\":{\"Degrees\":234,\"Localized\":\"SO\",\"English\":\"SW\"}},\"TotalLiquid\":{\"Value\":0.0,\"Unit\":\"mm\",\"UnitType\":3},\"Rain\":{\"Value\":0.0,\"Unit\":\"mm\",\"UnitType\":3},\"Snow\":{\"Value\":0.0,\"Unit\":\"cm\",\"UnitType\":4},\"Ice\":{\"Value\":0.0,\"Unit\":\"mm\",\"UnitType\":3},\"HoursOfPrecipitation\":0.0,\"HoursOfRain\":0.0,\"HoursOfSnow\":0.0,\"HoursOfIce\":0.0,\"CloudCover\":14},\"Night\":{\"Icon\":37,\"IconPhrase\":\"Luna con bruma\",\"HasPrecipitation\":false,\"ShortPhrase\":\"Brumoso\",\"LongPhrase\":\"Brumoso\",\"PrecipitationProbability\":0,\"ThunderstormProbability\":0,\"RainProbability\":0,\"SnowProbability\":0,\"IceProbability\":0,\"Wind\":{\"Speed\":{\"Value\":4.8,\"Unit\":\"km/h\",\"UnitType\":7},\"Direction\":{\"Degrees\":237,\"Localized\":\"OSO\",\"English\":\"WSW\"}},\"WindGust\":{\"Speed\":{\"Value\":12.9,\"Unit\":\"km/h\",\"UnitType\":7},\"Direction\":{\"Degrees\":237,\"Localized\":\"OSO\",\"English\":\"WSW\"}},\"TotalLiquid\":{\"Value\":0.0,\"Unit\":\"mm\",\"UnitType\":3},\"Rain\":{\"Value\":0.0,\"Unit\":\"mm\",\"UnitType\":3},\"Snow\":{\"Value\":0.0,\"Unit\":\"cm\",\"UnitType\":4},\"Ice\":{\"Value\":0.0,\"Unit\":\"mm\",\"UnitType\":3},\"HoursOfPrecipitation\":0.0,\"HoursOfRain\":0.0,\"HoursOfSnow\":0.0,\"HoursOfIce\":0.0,\"CloudCover\":1},\"Sources\":[\"AccuWeather\"],\"MobileLink\":\"http://m.accuweather.com/es/cl/macul/60412/daily-weather-forecast/60412?day=1&amp;unit=c\",\"Link\":\"http://www.accuweather.com/es/cl/macul/60412/daily-weather-forecast/60412?day=1&amp;unit=c\"}]}'"
            ]
          },
          "metadata": {
            "tags": []
          }
        }
      ]
    },
    {
      "cell_type": "code",
      "metadata": {
        "id": "p8hY-d_4mXxl"
      },
      "source": [
        "content_from_json <- fromJSON(text_content)"
      ],
      "execution_count": 21,
      "outputs": []
    },
    {
      "cell_type": "code",
      "metadata": {
        "id": "TVLc6-P0pYGc",
        "outputId": "f260bfc0-e8b2-40a5-db1c-24706f556ac0",
        "colab": {
          "base_uri": "https://localhost:8080/",
          "height": 390
        }
      },
      "source": [
        "names(content_from_json)\n",
        "content_from_json$Headline\n",
        "class(content_from_json$Headline)"
      ],
      "execution_count": 25,
      "outputs": [
        {
          "output_type": "display_data",
          "data": {
            "text/plain": [
              "[1] \"Headline\"       \"DailyForecasts\""
            ],
            "text/latex": "\\begin{enumerate*}\n\\item 'Headline'\n\\item 'DailyForecasts'\n\\end{enumerate*}\n",
            "text/markdown": "1. 'Headline'\n2. 'DailyForecasts'\n\n\n",
            "text/html": [
              "<style>\n",
              ".list-inline {list-style: none; margin:0; padding: 0}\n",
              ".list-inline>li {display: inline-block}\n",
              ".list-inline>li:not(:last-child)::after {content: \"\\00b7\"; padding: 0 .5ex}\n",
              "</style>\n",
              "<ol class=list-inline><li>'Headline'</li><li>'DailyForecasts'</li></ol>\n"
            ]
          },
          "metadata": {
            "tags": []
          }
        },
        {
          "output_type": "display_data",
          "data": {
            "text/plain": [
              "$EffectiveDate\n",
              "[1] \"2020-10-09T08:00:00-03:00\"\n",
              "\n",
              "$EffectiveEpochDate\n",
              "[1] 1602241200\n",
              "\n",
              "$Severity\n",
              "[1] 4\n",
              "\n",
              "$Text\n",
              "[1] \"La calidad del aire no será saludable para los grupos sensibles desde esta mañana hasta el martes por la mañana\"\n",
              "\n",
              "$Category\n",
              "[1] \"air quality\"\n",
              "\n",
              "$EndDate\n",
              "[1] \"2020-10-13T14:00:00-03:00\"\n",
              "\n",
              "$EndEpochDate\n",
              "[1] 1602608400\n",
              "\n",
              "$MobileLink\n",
              "[1] \"http://m.accuweather.com/es/cl/macul/60412/extended-weather-forecast/60412?unit=c\"\n",
              "\n",
              "$Link\n",
              "[1] \"http://www.accuweather.com/es/cl/macul/60412/daily-weather-forecast/60412?unit=c\"\n"
            ],
            "text/latex": "\\begin{description}\n\\item[\\$EffectiveDate] '2020-10-09T08:00:00-03:00'\n\\item[\\$EffectiveEpochDate] 1602241200\n\\item[\\$Severity] 4\n\\item[\\$Text] 'La calidad del aire no será saludable para los grupos sensibles desde esta mañana hasta el martes por la mañana'\n\\item[\\$Category] 'air quality'\n\\item[\\$EndDate] '2020-10-13T14:00:00-03:00'\n\\item[\\$EndEpochDate] 1602608400\n\\item[\\$MobileLink] 'http://m.accuweather.com/es/cl/macul/60412/extended-weather-forecast/60412?unit=c'\n\\item[\\$Link] 'http://www.accuweather.com/es/cl/macul/60412/daily-weather-forecast/60412?unit=c'\n\\end{description}\n",
            "text/markdown": "$EffectiveDate\n:   '2020-10-09T08:00:00-03:00'\n$EffectiveEpochDate\n:   1602241200\n$Severity\n:   4\n$Text\n:   'La calidad del aire no será saludable para los grupos sensibles desde esta mañana hasta el martes por la mañana'\n$Category\n:   'air quality'\n$EndDate\n:   '2020-10-13T14:00:00-03:00'\n$EndEpochDate\n:   1602608400\n$MobileLink\n:   'http://m.accuweather.com/es/cl/macul/60412/extended-weather-forecast/60412?unit=c'\n$Link\n:   'http://www.accuweather.com/es/cl/macul/60412/daily-weather-forecast/60412?unit=c'\n\n\n",
            "text/html": [
              "<dl>\n",
              "\t<dt>$EffectiveDate</dt>\n",
              "\t\t<dd>'2020-10-09T08:00:00-03:00'</dd>\n",
              "\t<dt>$EffectiveEpochDate</dt>\n",
              "\t\t<dd>1602241200</dd>\n",
              "\t<dt>$Severity</dt>\n",
              "\t\t<dd>4</dd>\n",
              "\t<dt>$Text</dt>\n",
              "\t\t<dd>'La calidad del aire no será saludable para los grupos sensibles desde esta mañana hasta el martes por la mañana'</dd>\n",
              "\t<dt>$Category</dt>\n",
              "\t\t<dd>'air quality'</dd>\n",
              "\t<dt>$EndDate</dt>\n",
              "\t\t<dd>'2020-10-13T14:00:00-03:00'</dd>\n",
              "\t<dt>$EndEpochDate</dt>\n",
              "\t\t<dd>1602608400</dd>\n",
              "\t<dt>$MobileLink</dt>\n",
              "\t\t<dd>'http://m.accuweather.com/es/cl/macul/60412/extended-weather-forecast/60412?unit=c'</dd>\n",
              "\t<dt>$Link</dt>\n",
              "\t\t<dd>'http://www.accuweather.com/es/cl/macul/60412/daily-weather-forecast/60412?unit=c'</dd>\n",
              "</dl>\n"
            ]
          },
          "metadata": {
            "tags": []
          }
        },
        {
          "output_type": "display_data",
          "data": {
            "text/plain": [
              "[1] \"list\""
            ],
            "text/latex": "'list'",
            "text/markdown": "'list'",
            "text/html": [
              "'list'"
            ]
          },
          "metadata": {
            "tags": []
          }
        }
      ]
    },
    {
      "cell_type": "code",
      "metadata": {
        "id": "3nfFSgQipjBY",
        "outputId": "17900bba-11e5-4be9-daf4-b4b678778708",
        "colab": {
          "base_uri": "https://localhost:8080/",
          "height": 1000
        }
      },
      "source": [
        "str(content_from_json$DailyForecasts)"
      ],
      "execution_count": 30,
      "outputs": [
        {
          "output_type": "stream",
          "text": [
            "'data.frame':\t1 obs. of  15 variables:\n",
            " $ Date                    : chr \"2020-10-09T07:00:00-03:00\"\n",
            " $ EpochDate               : int 1602237600\n",
            " $ Sun                     :'data.frame':\t1 obs. of  4 variables:\n",
            "  ..$ Rise     : chr \"2020-10-09T07:08:00-03:00\"\n",
            "  ..$ EpochRise: int 1602238080\n",
            "  ..$ Set      : chr \"2020-10-09T19:52:00-03:00\"\n",
            "  ..$ EpochSet : int 1602283920\n",
            " $ Moon                    :'data.frame':\t1 obs. of  6 variables:\n",
            "  ..$ Rise     : chr \"2020-10-09T02:11:00-03:00\"\n",
            "  ..$ EpochRise: int 1602220260\n",
            "  ..$ Set      : chr \"2020-10-09T12:10:00-03:00\"\n",
            "  ..$ EpochSet : int 1602256200\n",
            "  ..$ Phase    : chr \"Last\"\n",
            "  ..$ Age      : int 22\n",
            " $ Temperature             :'data.frame':\t1 obs. of  2 variables:\n",
            "  ..$ Minimum:'data.frame':\t1 obs. of  3 variables:\n",
            "  .. ..$ Value   : num 6.7\n",
            "  .. ..$ Unit    : chr \"C\"\n",
            "  .. ..$ UnitType: int 17\n",
            "  ..$ Maximum:'data.frame':\t1 obs. of  3 variables:\n",
            "  .. ..$ Value   : num 27.8\n",
            "  .. ..$ Unit    : chr \"C\"\n",
            "  .. ..$ UnitType: int 17\n",
            " $ RealFeelTemperature     :'data.frame':\t1 obs. of  2 variables:\n",
            "  ..$ Minimum:'data.frame':\t1 obs. of  3 variables:\n",
            "  .. ..$ Value   : num 10.6\n",
            "  .. ..$ Unit    : chr \"C\"\n",
            "  .. ..$ UnitType: int 17\n",
            "  ..$ Maximum:'data.frame':\t1 obs. of  3 variables:\n",
            "  .. ..$ Value   : num 28.9\n",
            "  .. ..$ Unit    : chr \"C\"\n",
            "  .. ..$ UnitType: int 17\n",
            " $ RealFeelTemperatureShade:'data.frame':\t1 obs. of  2 variables:\n",
            "  ..$ Minimum:'data.frame':\t1 obs. of  3 variables:\n",
            "  .. ..$ Value   : num 10.6\n",
            "  .. ..$ Unit    : chr \"C\"\n",
            "  .. ..$ UnitType: int 17\n",
            "  ..$ Maximum:'data.frame':\t1 obs. of  3 variables:\n",
            "  .. ..$ Value   : num 26.7\n",
            "  .. ..$ Unit    : chr \"C\"\n",
            "  .. ..$ UnitType: int 17\n",
            " $ HoursOfSun              : num 12.4\n",
            " $ DegreeDaySummary        :'data.frame':\t1 obs. of  2 variables:\n",
            "  ..$ Heating:'data.frame':\t1 obs. of  3 variables:\n",
            "  .. ..$ Value   : num 1\n",
            "  .. ..$ Unit    : chr \"C\"\n",
            "  .. ..$ UnitType: int 17\n",
            "  ..$ Cooling:'data.frame':\t1 obs. of  3 variables:\n",
            "  .. ..$ Value   : num 0\n",
            "  .. ..$ Unit    : chr \"C\"\n",
            "  .. ..$ UnitType: int 17\n",
            " $ AirAndPollen            :List of 1\n",
            "  ..$ :'data.frame':\t6 obs. of  5 variables:\n",
            "  .. ..$ Name         : chr  \"AirQuality\" \"Grass\" \"Mold\" \"Tree\" ...\n",
            "  .. ..$ Value        : int  136 0 0 0 0 9\n",
            "  .. ..$ Category     : chr  \"Poco saludable (sensible)\" \"Bajo\" \"Bajo\" \"Bajo\" ...\n",
            "  .. ..$ CategoryValue: int  3 1 1 1 1 4\n",
            "  .. ..$ Type         : chr  \"Polución de partículas\" NA NA NA ...\n",
            " $ Day                     :'data.frame':\t1 obs. of  21 variables:\n",
            "  ..$ Icon                    : int 3\n",
            "  ..$ IconPhrase              : chr \"Parcialmente soleado\"\n",
            "  ..$ HasPrecipitation        : logi FALSE\n",
            "  ..$ ShortPhrase             : chr \"Parcialmente soleado\"\n",
            "  ..$ LongPhrase              : chr \"Parcialmente soleado\"\n",
            "  ..$ PrecipitationProbability: int 0\n",
            "  ..$ ThunderstormProbability : int 0\n",
            "  ..$ RainProbability         : int 0\n",
            "  ..$ SnowProbability         : int 0\n",
            "  ..$ IceProbability          : int 0\n",
            "  ..$ Wind                    :'data.frame':\t1 obs. of  2 variables:\n",
            "  .. ..$ Speed    :'data.frame':\t1 obs. of  3 variables:\n",
            "  .. .. ..$ Value   : num 4.8\n",
            "  .. .. ..$ Unit    : chr \"km/h\"\n",
            "  .. .. ..$ UnitType: int 7\n",
            "  .. ..$ Direction:'data.frame':\t1 obs. of  3 variables:\n",
            "  .. .. ..$ Degrees  : int 234\n",
            "  .. .. ..$ Localized: chr \"SO\"\n",
            "  .. .. ..$ English  : chr \"SW\"\n",
            "  ..$ WindGust                :'data.frame':\t1 obs. of  2 variables:\n",
            "  .. ..$ Speed    :'data.frame':\t1 obs. of  3 variables:\n",
            "  .. .. ..$ Value   : num 12.9\n",
            "  .. .. ..$ Unit    : chr \"km/h\"\n",
            "  .. .. ..$ UnitType: int 7\n",
            "  .. ..$ Direction:'data.frame':\t1 obs. of  3 variables:\n",
            "  .. .. ..$ Degrees  : int 234\n",
            "  .. .. ..$ Localized: chr \"SO\"\n",
            "  .. .. ..$ English  : chr \"SW\"\n",
            "  ..$ TotalLiquid             :'data.frame':\t1 obs. of  3 variables:\n",
            "  .. ..$ Value   : num 0\n",
            "  .. ..$ Unit    : chr \"mm\"\n",
            "  .. ..$ UnitType: int 3\n",
            "  ..$ Rain                    :'data.frame':\t1 obs. of  3 variables:\n",
            "  .. ..$ Value   : num 0\n",
            "  .. ..$ Unit    : chr \"mm\"\n",
            "  .. ..$ UnitType: int 3\n",
            "  ..$ Snow                    :'data.frame':\t1 obs. of  3 variables:\n",
            "  .. ..$ Value   : num 0\n",
            "  .. ..$ Unit    : chr \"cm\"\n",
            "  .. ..$ UnitType: int 4\n",
            "  ..$ Ice                     :'data.frame':\t1 obs. of  3 variables:\n",
            "  .. ..$ Value   : num 0\n",
            "  .. ..$ Unit    : chr \"mm\"\n",
            "  .. ..$ UnitType: int 3\n",
            "  ..$ HoursOfPrecipitation    : num 0\n",
            "  ..$ HoursOfRain             : num 0\n",
            "  ..$ HoursOfSnow             : num 0\n",
            "  ..$ HoursOfIce              : num 0\n",
            "  ..$ CloudCover              : int 14\n",
            " $ Night                   :'data.frame':\t1 obs. of  21 variables:\n",
            "  ..$ Icon                    : int 37\n",
            "  ..$ IconPhrase              : chr \"Luna con bruma\"\n",
            "  ..$ HasPrecipitation        : logi FALSE\n",
            "  ..$ ShortPhrase             : chr \"Brumoso\"\n",
            "  ..$ LongPhrase              : chr \"Brumoso\"\n",
            "  ..$ PrecipitationProbability: int 0\n",
            "  ..$ ThunderstormProbability : int 0\n",
            "  ..$ RainProbability         : int 0\n",
            "  ..$ SnowProbability         : int 0\n",
            "  ..$ IceProbability          : int 0\n",
            "  ..$ Wind                    :'data.frame':\t1 obs. of  2 variables:\n",
            "  .. ..$ Speed    :'data.frame':\t1 obs. of  3 variables:\n",
            "  .. .. ..$ Value   : num 4.8\n",
            "  .. .. ..$ Unit    : chr \"km/h\"\n",
            "  .. .. ..$ UnitType: int 7\n",
            "  .. ..$ Direction:'data.frame':\t1 obs. of  3 variables:\n",
            "  .. .. ..$ Degrees  : int 237\n",
            "  .. .. ..$ Localized: chr \"OSO\"\n",
            "  .. .. ..$ English  : chr \"WSW\"\n",
            "  ..$ WindGust                :'data.frame':\t1 obs. of  2 variables:\n",
            "  .. ..$ Speed    :'data.frame':\t1 obs. of  3 variables:\n",
            "  .. .. ..$ Value   : num 12.9\n",
            "  .. .. ..$ Unit    : chr \"km/h\"\n",
            "  .. .. ..$ UnitType: int 7\n",
            "  .. ..$ Direction:'data.frame':\t1 obs. of  3 variables:\n",
            "  .. .. ..$ Degrees  : int 237\n",
            "  .. .. ..$ Localized: chr \"OSO\"\n",
            "  .. .. ..$ English  : chr \"WSW\"\n",
            "  ..$ TotalLiquid             :'data.frame':\t1 obs. of  3 variables:\n",
            "  .. ..$ Value   : num 0\n",
            "  .. ..$ Unit    : chr \"mm\"\n",
            "  .. ..$ UnitType: int 3\n",
            "  ..$ Rain                    :'data.frame':\t1 obs. of  3 variables:\n",
            "  .. ..$ Value   : num 0\n",
            "  .. ..$ Unit    : chr \"mm\"\n",
            "  .. ..$ UnitType: int 3\n",
            "  ..$ Snow                    :'data.frame':\t1 obs. of  3 variables:\n",
            "  .. ..$ Value   : num 0\n",
            "  .. ..$ Unit    : chr \"cm\"\n",
            "  .. ..$ UnitType: int 4\n",
            "  ..$ Ice                     :'data.frame':\t1 obs. of  3 variables:\n",
            "  .. ..$ Value   : num 0\n",
            "  .. ..$ Unit    : chr \"mm\"\n",
            "  .. ..$ UnitType: int 3\n",
            "  ..$ HoursOfPrecipitation    : num 0\n",
            "  ..$ HoursOfRain             : num 0\n",
            "  ..$ HoursOfSnow             : num 0\n",
            "  ..$ HoursOfIce              : num 0\n",
            "  ..$ CloudCover              : int 1\n",
            " $ Sources                 :List of 1\n",
            "  ..$ : chr \"AccuWeather\"\n",
            " $ MobileLink              : chr \"http://m.accuweather.com/es/cl/macul/60412/daily-weather-forecast/60412?day=1&unit=c\"\n",
            " $ Link                    : chr \"http://www.accuweather.com/es/cl/macul/60412/daily-weather-forecast/60412?day=1&unit=c\"\n"
          ],
          "name": "stdout"
        }
      ]
    },
    {
      "cell_type": "code",
      "metadata": {
        "id": "cyupxm4qrIJ8",
        "outputId": "ea0aeeae-0757-42ab-e0b8-79113db6c8f2",
        "colab": {
          "base_uri": "https://localhost:8080/",
          "height": 35
        }
      },
      "source": [
        "content_from_json$DailyForecasts$Temperature$Minimum$Value"
      ],
      "execution_count": 31,
      "outputs": [
        {
          "output_type": "display_data",
          "data": {
            "text/plain": [
              "[1] 6.7"
            ],
            "text/latex": "6.7",
            "text/markdown": "6.7",
            "text/html": [
              "6.7"
            ]
          },
          "metadata": {
            "tags": []
          }
        }
      ]
    },
    {
      "cell_type": "code",
      "metadata": {
        "id": "rrZmatwiqNj9",
        "outputId": "9eb50f0a-7aca-4528-c280-f11b7de5ea66",
        "colab": {
          "base_uri": "https://localhost:8080/",
          "height": 99
        }
      },
      "source": [
        "content_from_json$DailyForecasts$Temperature$Minimum"
      ],
      "execution_count": 32,
      "outputs": [
        {
          "output_type": "display_data",
          "data": {
            "text/plain": [
              "  Value Unit UnitType\n",
              "1 6.7   C    17      "
            ],
            "text/latex": "A data.frame: 1 × 3\n\\begin{tabular}{r|lll}\n  & Value & Unit & UnitType\\\\\n  & <dbl> & <chr> & <int>\\\\\n\\hline\n\t1 & 6.7 & C & 17\\\\\n\\end{tabular}\n",
            "text/markdown": "\nA data.frame: 1 × 3\n\n| <!--/--> | Value &lt;dbl&gt; | Unit &lt;chr&gt; | UnitType &lt;int&gt; |\n|---|---|---|---|\n| 1 | 6.7 | C | 17 |\n\n",
            "text/html": [
              "<table>\n",
              "<caption>A data.frame: 1 × 3</caption>\n",
              "<thead>\n",
              "\t<tr><th></th><th scope=col>Value</th><th scope=col>Unit</th><th scope=col>UnitType</th></tr>\n",
              "\t<tr><th></th><th scope=col>&lt;dbl&gt;</th><th scope=col>&lt;chr&gt;</th><th scope=col>&lt;int&gt;</th></tr>\n",
              "</thead>\n",
              "<tbody>\n",
              "\t<tr><th scope=row>1</th><td>6.7</td><td>C</td><td>17</td></tr>\n",
              "</tbody>\n",
              "</table>\n"
            ]
          },
          "metadata": {
            "tags": []
          }
        }
      ]
    },
    {
      "cell_type": "markdown",
      "metadata": {
        "id": "V2omt2xissn7"
      },
      "source": [
        "Utilzamos la API para buscar las locations KEY de Accuweather"
      ]
    },
    {
      "cell_type": "code",
      "metadata": {
        "id": "NlqaDbylmX3w"
      },
      "source": [
        "url2 <-\"http://dataservice.accuweather.com/locations/v1/cities/search\""
      ],
      "execution_count": 35,
      "outputs": []
    },
    {
      "cell_type": "code",
      "metadata": {
        "id": "9WqRCIQFmX2E"
      },
      "source": [
        "result <- GET(url2,\n",
        "                  query = list(apikey = \"0lsaxvHGpLIdb2GDw5LhZwCtg3xZRKxu\",\n",
        "                               q = \"Santiago de Chile\",\n",
        "                               language = \"es-ES\",\n",
        "                               detais = \"true\" )\n",
        "                  )"
      ],
      "execution_count": 47,
      "outputs": []
    },
    {
      "cell_type": "code",
      "metadata": {
        "id": "-RU-J5OnmX0k",
        "outputId": "a8bffb67-20b8-45bc-8fd2-9e5470bf6a00",
        "colab": {
          "base_uri": "https://localhost:8080/",
          "height": 108
        }
      },
      "source": [
        "result"
      ],
      "execution_count": 48,
      "outputs": [
        {
          "output_type": "display_data",
          "data": {
            "text/plain": [
              "Response [http://dataservice.accuweather.com/locations/v1/cities/search?apikey=0lsaxvHGpLIdb2GDw5LhZwCtg3xZRKxu&q=Santiago%20de%20Chile&language=es-ES&detais=true]\n",
              "  Date: 2020-10-09 18:59\n",
              "  Status: 200\n",
              "  Content-Type: application/json; charset=utf-8\n",
              "  Size: 990 B\n"
            ]
          },
          "metadata": {
            "tags": []
          }
        }
      ]
    },
    {
      "cell_type": "code",
      "metadata": {
        "id": "tRpozLD_mXwD"
      },
      "source": [
        "# transformamos el contenido de la respuesta\n",
        "text_content2 <- content(result, as = \"text\")"
      ],
      "execution_count": 49,
      "outputs": []
    },
    {
      "cell_type": "code",
      "metadata": {
        "id": "MVif3WoxtoIS"
      },
      "source": [
        "# El json que está como texto lo transformamos a lista\n",
        "content_from_json2 <- fromJSON(text_content2)"
      ],
      "execution_count": 50,
      "outputs": []
    },
    {
      "cell_type": "code",
      "metadata": {
        "id": "_2_l6MrKt1Zv",
        "outputId": "c856f2ed-d0ab-49a8-be39-d9673e633d5a",
        "colab": {
          "base_uri": "https://localhost:8080/",
          "height": 961
        }
      },
      "source": [
        "names(content_from_json2)\n",
        "str(content_from_json2)"
      ],
      "execution_count": 51,
      "outputs": [
        {
          "output_type": "display_data",
          "data": {
            "text/plain": [
              " [1] \"Version\"                \"Key\"                    \"Type\"                  \n",
              " [4] \"Rank\"                   \"LocalizedName\"          \"EnglishName\"           \n",
              " [7] \"PrimaryPostalCode\"      \"Region\"                 \"Country\"               \n",
              "[10] \"AdministrativeArea\"     \"TimeZone\"               \"GeoPosition\"           \n",
              "[13] \"IsAlias\"                \"SupplementalAdminAreas\" \"DataSets\"              "
            ],
            "text/latex": "\\begin{enumerate*}\n\\item 'Version'\n\\item 'Key'\n\\item 'Type'\n\\item 'Rank'\n\\item 'LocalizedName'\n\\item 'EnglishName'\n\\item 'PrimaryPostalCode'\n\\item 'Region'\n\\item 'Country'\n\\item 'AdministrativeArea'\n\\item 'TimeZone'\n\\item 'GeoPosition'\n\\item 'IsAlias'\n\\item 'SupplementalAdminAreas'\n\\item 'DataSets'\n\\end{enumerate*}\n",
            "text/markdown": "1. 'Version'\n2. 'Key'\n3. 'Type'\n4. 'Rank'\n5. 'LocalizedName'\n6. 'EnglishName'\n7. 'PrimaryPostalCode'\n8. 'Region'\n9. 'Country'\n10. 'AdministrativeArea'\n11. 'TimeZone'\n12. 'GeoPosition'\n13. 'IsAlias'\n14. 'SupplementalAdminAreas'\n15. 'DataSets'\n\n\n",
            "text/html": [
              "<style>\n",
              ".list-inline {list-style: none; margin:0; padding: 0}\n",
              ".list-inline>li {display: inline-block}\n",
              ".list-inline>li:not(:last-child)::after {content: \"\\00b7\"; padding: 0 .5ex}\n",
              "</style>\n",
              "<ol class=list-inline><li>'Version'</li><li>'Key'</li><li>'Type'</li><li>'Rank'</li><li>'LocalizedName'</li><li>'EnglishName'</li><li>'PrimaryPostalCode'</li><li>'Region'</li><li>'Country'</li><li>'AdministrativeArea'</li><li>'TimeZone'</li><li>'GeoPosition'</li><li>'IsAlias'</li><li>'SupplementalAdminAreas'</li><li>'DataSets'</li></ol>\n"
            ]
          },
          "metadata": {
            "tags": []
          }
        },
        {
          "output_type": "stream",
          "text": [
            "'data.frame':\t1 obs. of  15 variables:\n",
            " $ Version               : int 1\n",
            " $ Key                   : chr \"60449\"\n",
            " $ Type                  : chr \"City\"\n",
            " $ Rank                  : int 10\n",
            " $ LocalizedName         : chr \"Santiago de Chile\"\n",
            " $ EnglishName           : chr \"Santiago\"\n",
            " $ PrimaryPostalCode     : chr \"\"\n",
            " $ Region                :'data.frame':\t1 obs. of  3 variables:\n",
            "  ..$ ID           : chr \"SAM\"\n",
            "  ..$ LocalizedName: chr \"América del Sur\"\n",
            "  ..$ EnglishName  : chr \"South America\"\n",
            " $ Country               :'data.frame':\t1 obs. of  3 variables:\n",
            "  ..$ ID           : chr \"CL\"\n",
            "  ..$ LocalizedName: chr \"Chile\"\n",
            "  ..$ EnglishName  : chr \"Chile\"\n",
            " $ AdministrativeArea    :'data.frame':\t1 obs. of  7 variables:\n",
            "  ..$ ID           : chr \"RM\"\n",
            "  ..$ LocalizedName: chr \"Región Metropolitana de Santiago\"\n",
            "  ..$ EnglishName  : chr \"Región Metropolitana de Santiago\"\n",
            "  ..$ Level        : int 1\n",
            "  ..$ LocalizedType: chr \"Región\"\n",
            "  ..$ EnglishType  : chr \"Region\"\n",
            "  ..$ CountryID    : chr \"CL\"\n",
            " $ TimeZone              :'data.frame':\t1 obs. of  5 variables:\n",
            "  ..$ Code            : chr \"CLST\"\n",
            "  ..$ Name            : chr \"America/Santiago\"\n",
            "  ..$ GmtOffset       : num -3\n",
            "  ..$ IsDaylightSaving: logi TRUE\n",
            "  ..$ NextOffsetChange: chr \"2021-04-04T03:00:00Z\"\n",
            " $ GeoPosition           :'data.frame':\t1 obs. of  3 variables:\n",
            "  ..$ Latitude : num -33.4\n",
            "  ..$ Longitude: num -70.7\n",
            "  ..$ Elevation:'data.frame':\t1 obs. of  2 variables:\n",
            "  .. ..$ Metric  :'data.frame':\t1 obs. of  3 variables:\n",
            "  .. .. ..$ Value   : num 522\n",
            "  .. .. ..$ Unit    : chr \"m\"\n",
            "  .. .. ..$ UnitType: int 5\n",
            "  .. ..$ Imperial:'data.frame':\t1 obs. of  3 variables:\n",
            "  .. .. ..$ Value   : num 1712\n",
            "  .. .. ..$ Unit    : chr \"ft\"\n",
            "  .. .. ..$ UnitType: int 0\n",
            " $ IsAlias               : logi FALSE\n",
            " $ SupplementalAdminAreas:List of 1\n",
            "  ..$ :'data.frame':\t1 obs. of  3 variables:\n",
            "  .. ..$ Level        : int 2\n",
            "  .. ..$ LocalizedName: chr \"Santiago\"\n",
            "  .. ..$ EnglishName  : chr \"Santiago\"\n",
            " $ DataSets              :List of 1\n",
            "  ..$ : chr  \"AirQualityCurrentConditions\" \"AirQualityForecasts\" \"Radar\"\n"
          ],
          "name": "stdout"
        }
      ]
    },
    {
      "cell_type": "code",
      "metadata": {
        "id": "cAx4A02FuURy",
        "outputId": "e0b6c5f2-d95b-483a-aec8-4600e9101bf7",
        "colab": {
          "base_uri": "https://localhost:8080/",
          "height": 134
        }
      },
      "source": [
        "content_from_json2$LocalizedName\n",
        "content_from_json2$Country\n",
        "content_from_json2$Key"
      ],
      "execution_count": 52,
      "outputs": [
        {
          "output_type": "display_data",
          "data": {
            "text/plain": [
              "[1] \"Santiago de Chile\""
            ],
            "text/latex": "'Santiago de Chile'",
            "text/markdown": "'Santiago de Chile'",
            "text/html": [
              "'Santiago de Chile'"
            ]
          },
          "metadata": {
            "tags": []
          }
        },
        {
          "output_type": "display_data",
          "data": {
            "text/plain": [
              "  ID LocalizedName EnglishName\n",
              "1 CL Chile         Chile      "
            ],
            "text/latex": "A data.frame: 1 × 3\n\\begin{tabular}{r|lll}\n  & ID & LocalizedName & EnglishName\\\\\n  & <chr> & <chr> & <chr>\\\\\n\\hline\n\t1 & CL & Chile & Chile\\\\\n\\end{tabular}\n",
            "text/markdown": "\nA data.frame: 1 × 3\n\n| <!--/--> | ID &lt;chr&gt; | LocalizedName &lt;chr&gt; | EnglishName &lt;chr&gt; |\n|---|---|---|---|\n| 1 | CL | Chile | Chile |\n\n",
            "text/html": [
              "<table>\n",
              "<caption>A data.frame: 1 × 3</caption>\n",
              "<thead>\n",
              "\t<tr><th></th><th scope=col>ID</th><th scope=col>LocalizedName</th><th scope=col>EnglishName</th></tr>\n",
              "\t<tr><th></th><th scope=col>&lt;chr&gt;</th><th scope=col>&lt;chr&gt;</th><th scope=col>&lt;chr&gt;</th></tr>\n",
              "</thead>\n",
              "<tbody>\n",
              "\t<tr><th scope=row>1</th><td>CL</td><td>Chile</td><td>Chile</td></tr>\n",
              "</tbody>\n",
              "</table>\n"
            ]
          },
          "metadata": {
            "tags": []
          }
        },
        {
          "output_type": "display_data",
          "data": {
            "text/plain": [
              "[1] \"60449\""
            ],
            "text/latex": "'60449'",
            "text/markdown": "'60449'",
            "text/html": [
              "'60449'"
            ]
          },
          "metadata": {
            "tags": []
          }
        }
      ]
    },
    {
      "cell_type": "markdown",
      "metadata": {
        "id": "L2SuNtiyz2yE"
      },
      "source": [
        "# **Web Scraping con R**"
      ]
    },
    {
      "cell_type": "code",
      "metadata": {
        "id": "qWE3b31Yz5IO",
        "outputId": "6d62680b-3314-4989-c923-50d981e61f3c",
        "colab": {
          "base_uri": "https://localhost:8080/",
          "height": 526
        }
      },
      "source": [
        "library(tidyverse)\n",
        "library(rvest)"
      ],
      "execution_count": 53,
      "outputs": [
        {
          "output_type": "stream",
          "text": [
            "── \u001b[1mAttaching packages\u001b[22m ─────────────────────────────────────── tidyverse 1.3.0 ──\n",
            "\n",
            "\u001b[32m✔\u001b[39m \u001b[34mggplot2\u001b[39m 3.3.2     \u001b[32m✔\u001b[39m \u001b[34mpurrr  \u001b[39m 0.3.4\n",
            "\u001b[32m✔\u001b[39m \u001b[34mtibble \u001b[39m 3.0.3     \u001b[32m✔\u001b[39m \u001b[34mstringr\u001b[39m 1.4.0\n",
            "\u001b[32m✔\u001b[39m \u001b[34mtidyr  \u001b[39m 1.1.2     \u001b[32m✔\u001b[39m \u001b[34mforcats\u001b[39m 0.5.0\n",
            "\u001b[32m✔\u001b[39m \u001b[34mreadr  \u001b[39m 1.3.1     \n",
            "\n",
            "── \u001b[1mConflicts\u001b[22m ────────────────────────────────────────── tidyverse_conflicts() ──\n",
            "\u001b[31m✖\u001b[39m \u001b[34mdplyr\u001b[39m::\u001b[32mfilter()\u001b[39m  masks \u001b[34mstats\u001b[39m::filter()\n",
            "\u001b[31m✖\u001b[39m \u001b[34mpurrr\u001b[39m::\u001b[32mflatten()\u001b[39m masks \u001b[34mjsonlite\u001b[39m::flatten()\n",
            "\u001b[31m✖\u001b[39m \u001b[34mdplyr\u001b[39m::\u001b[32mlag()\u001b[39m     masks \u001b[34mstats\u001b[39m::lag()\n",
            "\n",
            "Loading required package: xml2\n",
            "\n",
            "\n",
            "Attaching package: ‘rvest’\n",
            "\n",
            "\n",
            "The following object is masked from ‘package:purrr’:\n",
            "\n",
            "    pluck\n",
            "\n",
            "\n",
            "The following object is masked from ‘package:readr’:\n",
            "\n",
            "    guess_encoding\n",
            "\n",
            "\n"
          ],
          "name": "stderr"
        }
      ]
    },
    {
      "cell_type": "code",
      "metadata": {
        "id": "2OzZIfyb4uAD"
      },
      "source": [
        "url3 <- \"https://www.emol.com/\""
      ],
      "execution_count": 54,
      "outputs": []
    },
    {
      "cell_type": "code",
      "metadata": {
        "id": "pnMWdSvH4uXc"
      },
      "source": [
        "noticia <- read_html(x = url3)"
      ],
      "execution_count": 55,
      "outputs": []
    },
    {
      "cell_type": "code",
      "metadata": {
        "id": "3o_dLgEO5B7I",
        "outputId": "5092097e-5980-4ae3-c30f-6d9592920745",
        "colab": {
          "base_uri": "https://localhost:8080/",
          "height": 35
        }
      },
      "source": [
        "noticia"
      ],
      "execution_count": 58,
      "outputs": [
        {
          "output_type": "display_data",
          "data": {
            "text/plain": [
              "<pointer: 0x55f6c8e68d80>"
            ]
          },
          "metadata": {
            "tags": []
          }
        }
      ]
    },
    {
      "cell_type": "code",
      "metadata": {
        "id": "Uo-4kPg75Qu-"
      },
      "source": [
        "encabezado <- html_nodes(x = noticia, css = \"#ucHomePage_cuNoticiasCentral_LinkTitulo\" )#los argumentos xpath o css indican la ruta del nodo a rescatar "
      ],
      "execution_count": 59,
      "outputs": []
    },
    {
      "cell_type": "code",
      "metadata": {
        "id": "AnHiRCq259QT",
        "outputId": "a6325e9b-2792-4c55-eae6-cdd2ca5ea857",
        "colab": {
          "base_uri": "https://localhost:8080/",
          "height": 54
        }
      },
      "source": [
        "encabezado"
      ],
      "execution_count": 60,
      "outputs": [
        {
          "output_type": "display_data",
          "data": {
            "text/plain": [
              "{xml_nodeset (1)}\n",
              "[1] <a href=\"/noticias/Nacional/2020/10/09/1000306/Abbott-reforma-carabineros ..."
            ]
          },
          "metadata": {
            "tags": []
          }
        }
      ]
    },
    {
      "cell_type": "code",
      "metadata": {
        "id": "hdXMpbaX6FRD",
        "outputId": "8f83be2c-0506-4154-e6fc-e28cfd29fa45",
        "colab": {
          "base_uri": "https://localhost:8080/",
          "height": 52
        }
      },
      "source": [
        "# Extraemos del código html, el encabezado que nos interesa pero en formato texto\n",
        "html_text(x = encabezado )"
      ],
      "execution_count": 61,
      "outputs": [
        {
          "output_type": "display_data",
          "data": {
            "text/plain": [
              "[1] \"\\r\\n        Carabineros: Abbott respalda reforma y dice que institución ha demostrado \\\"deficiencias que son muy evidentes\\\"\""
            ],
            "text/latex": "'\\textbackslash{}r\\textbackslash{}n        Carabineros: Abbott respalda reforma y dice que institución ha demostrado \"deficiencias que son muy evidentes\"'",
            "text/markdown": "<span style=white-space:pre-wrap>'\\r\\n        Carabineros: Abbott respalda reforma y dice que institución ha demostrado \"deficiencias que son muy evidentes\"'</span>",
            "text/html": [
              "<span style=white-space:pre-wrap>'\\r\\n        Carabineros: Abbott respalda reforma y dice que institución ha demostrado \"deficiencias que son muy evidentes\"'</span>"
            ]
          },
          "metadata": {
            "tags": []
          }
        }
      ]
    },
    {
      "cell_type": "code",
      "metadata": {
        "id": "3KdhEXvB6rSz",
        "outputId": "3ab07db7-c758-4173-c458-3673a2657d7c",
        "colab": {
          "base_uri": "https://localhost:8080/",
          "height": 90
        }
      },
      "source": [
        "url4 <- \"https://en.wikipedia.org/wiki/List_of_states_and_territories_of_the_United_States_by_population\"\n",
        "info_usa <- read_html(url4)\n",
        "info_usa"
      ],
      "execution_count": 67,
      "outputs": [
        {
          "output_type": "display_data",
          "data": {
            "text/plain": [
              "{html_document}\n",
              "<html class=\"client-nojs\" lang=\"en\" dir=\"ltr\">\n",
              "[1] <head>\\n<meta http-equiv=\"Content-Type\" content=\"text/html; charset=UTF-8 ...\n",
              "[2] <body class=\"mediawiki ltr sitedir-ltr mw-hide-empty-elt ns-0 ns-subject  ..."
            ]
          },
          "metadata": {
            "tags": []
          }
        }
      ]
    },
    {
      "cell_type": "code",
      "metadata": {
        "id": "MQcJ1UvV63Sd",
        "outputId": "0670019c-7c18-4d37-8959-30df326b933e",
        "colab": {
          "base_uri": "https://localhost:8080/",
          "height": 54
        }
      },
      "source": [
        "tabla_html <- html_nodes(x = info_usa, css = \"#mw-content-text > div.mw-parser-output > table:nth-child(12)\")\n",
        "tabla_html"
      ],
      "execution_count": 68,
      "outputs": [
        {
          "output_type": "display_data",
          "data": {
            "text/plain": [
              "{xml_nodeset (1)}\n",
              "[1] <table class=\"wikitable sortable\" style=\"width:100%; text-align:center;\"> ..."
            ]
          },
          "metadata": {
            "tags": []
          }
        }
      ]
    },
    {
      "cell_type": "code",
      "metadata": {
        "id": "C1lDhK8063Uc",
        "outputId": "f89c13d2-21c4-4c0d-b014-f257baff65bc",
        "colab": {
          "base_uri": "https://localhost:8080/",
          "height": 1000
        }
      },
      "source": [
        "html_table(tabla_html, fill = TRUE)"
      ],
      "execution_count": 70,
      "outputs": [
        {
          "output_type": "display_data",
          "data": {
            "text/plain": [
              "[[1]]\n",
              "      Rank Rank                                       State\n",
              "1  Current Rank                                        2010\n",
              "2        1    1                                  California\n",
              "3        2    2                                       Texas\n",
              "4        3    4                                     Florida\n",
              "5        4    3                                    New York\n",
              "6        5    6                                Pennsylvania\n",
              "7        6    5                                    Illinois\n",
              "8        7    7                                        Ohio\n",
              "9        8    9                                     Georgia\n",
              "10       9   10                              North Carolina\n",
              "11      10    8                                    Michigan\n",
              "12      11   11                                  New Jersey\n",
              "13      12   12                                    Virginia\n",
              "14      13   13                                  Washington\n",
              "15      14   16                                     Arizona\n",
              "16      15   14                               Massachusetts\n",
              "17      16   17                                   Tennessee\n",
              "18      17   15                                     Indiana\n",
              "19      18   18                                    Missouri\n",
              "20      19   19                                    Maryland\n",
              "21      20   20                                   Wisconsin\n",
              "22      21   22                                    Colorado\n",
              "23      22   21                                   Minnesota\n",
              "24      23   24                              South Carolina\n",
              "25      24   23                                     Alabama\n",
              "26      25   25                                   Louisiana\n",
              "27      26   26                                    Kentucky\n",
              "28      27   27                                      Oregon\n",
              "29      28   28                                    Oklahoma\n",
              "30      29   30                                 Connecticut\n",
              "31      30   35                                        Utah\n",
              "32      31   29                                 Puerto Rico\n",
              "33      32   31                                        Iowa\n",
              "34      33   36                                      Nevada\n",
              "35      34   33                                    Arkansas\n",
              "36      35   32                                 Mississippi\n",
              "37      36   34                                      Kansas\n",
              "38      37   37                                  New Mexico\n",
              "39      38   39                                    Nebraska\n",
              "40      39   38                               West Virginia\n",
              "41      40   40                                       Idaho\n",
              "42      41   41                                      Hawaii\n",
              "43      42   43                               New Hampshire\n",
              "44      43   42                                       Maine\n",
              "45      44   45                                     Montana\n",
              "46      45   44                                Rhode Island\n",
              "47      46   46                                    Delaware\n",
              "48      47   47                                South Dakota\n",
              "49      48   49                                North Dakota\n",
              "50      49   48                                      Alaska\n",
              "51      50   51                        District of Columbia\n",
              "52      51   50                                     Vermont\n",
              "53      52   52                                     Wyoming\n",
              "54      53   53                                        Guam\n",
              "55      54   54                         U.S. Virgin Islands\n",
              "56      55   56                    Northern Mariana Islands\n",
              "57      56   55                              American Samoa\n",
              "58       —    —                    Contiguous United States\n",
              "59       —    —                            The fifty states\n",
              "60       —    —                         Fifty states + D.C.\n",
              "61       —    — Total U.S. (including D.C. and territories)\n",
              "           Census population Census population Change, 2010–2019\n",
              "1  Estimate, July 1, 2019[8] Census population Change, 2010–2019\n",
              "2                 39,512,223        37,253,956              6.1%\n",
              "3                 28,995,881        25,145,561             15.3%\n",
              "4                 21,477,737        18,801,310             14.2%\n",
              "5                 19,453,561        19,378,102              0.4%\n",
              "6                 12,801,989        12,702,379              0.8%\n",
              "7                 12,671,821        12,830,632             –1.2%\n",
              "8                 11,689,100        11,536,504              1.3%\n",
              "9                 10,617,423         9,687,653              9.6%\n",
              "10                10,488,084         9,535,483             10.0%\n",
              "11                 9,986,857         9,883,640              1.0%\n",
              "12                 8,882,190         8,791,894              1.0%\n",
              "13                 8,535,519         8,001,024              6.7%\n",
              "14                 7,614,893         6,724,540             13.2%\n",
              "15                 7,278,717         6,392,017             13.9%\n",
              "16                 6,892,503         6,547,629              5.3%\n",
              "17                 6,829,174         6,346,105              7.6%\n",
              "18                 6,732,219         6,483,802              3.8%\n",
              "19                 6,137,428         5,988,927              2.5%\n",
              "20                 6,045,680         5,773,552              4.7%\n",
              "21                 5,822,434         5,686,986              2.4%\n",
              "22                 5,758,736         5,029,196             14.5%\n",
              "23                 5,639,632         5,303,925              6.3%\n",
              "24                 5,148,714         4,625,364             11.3%\n",
              "25                 4,903,185         4,779,736              2.6%\n",
              "26                 4,648,794         4,533,372              2.5%\n",
              "27                 4,467,673         4,339,367              3.0%\n",
              "28                 4,217,737         3,831,074             10.1%\n",
              "29                 3,956,971         3,751,351              5.5%\n",
              "30                 3,565,287         3,574,097             –0.2%\n",
              "31                 3,205,958         2,763,885             16.0%\n",
              "32                 3,193,694         3,725,789            –14.3%\n",
              "33                 3,155,070         3,046,355              3.6%\n",
              "34                 3,080,156         2,700,551             14.1%\n",
              "35                 3,017,804         2,915,918              3.5%\n",
              "36                 2,976,149         2,967,297              0.3%\n",
              "37                 2,913,314         2,853,118              2.1%\n",
              "38                 2,096,829         2,059,179              1.8%\n",
              "39                 1,934,408         1,826,341              5.9%\n",
              "40                 1,792,147         1,852,994             –3.3%\n",
              "41                 1,787,065         1,567,582             14.0%\n",
              "42                 1,415,872         1,360,301              4.1%\n",
              "43                 1,359,711         1,316,470              3.3%\n",
              "44                 1,344,212         1,328,361              1.2%\n",
              "45                 1,068,778           989,415              8.0%\n",
              "46                 1,059,361         1,052,567              0.6%\n",
              "47                   973,764           897,934              8.4%\n",
              "48                   884,659           814,180              8.7%\n",
              "49                   762,062           672,591             13.3%\n",
              "50                   731,545           710,231              3.0%\n",
              "51                   705,749           601,723             17.3%\n",
              "52                   623,989           625,741             –0.3%\n",
              "53                   578,759           563,626              2.7%\n",
              "54               168,485[10]       159,358[11]              5.7%\n",
              "55               106,235[12]       106,405[13]             –0.2%\n",
              "56                51,433[14]        53,883[15]             –4.5%\n",
              "57                49,437[16]        55,519[17]            –11.0%\n",
              "58               325,386,357       306,675,006              6.2%\n",
              "59               327,533,795       308,143,836              6.3%\n",
              "60               328,239,523       308,745,538              6.3%\n",
              "61               331,808,807       312,846,492              6.1%\n",
              "   Change, 2010–2019 Total U.S. House of Representatives Seats\n",
              "1   April 1, 2010[9] Total U.S. House of Representatives Seats\n",
              "2         +2,257,700                                        53\n",
              "3         +3,850,320                                        36\n",
              "4         +2,676,427                                        27\n",
              "5            +75,459                                        27\n",
              "6            +99,610                                        18\n",
              "7           –158,811                                        18\n",
              "8           +152,596                                        16\n",
              "9           +929,770                                        14\n",
              "10          +952,601                                        13\n",
              "11          +103,217                                        14\n",
              "12           +90,296                                        12\n",
              "13          +534,495                                        11\n",
              "14          +890,353                                        10\n",
              "15          +886,700                                         9\n",
              "16          +344,874                                         9\n",
              "17          +483,069                                         9\n",
              "18          +248,417                                         9\n",
              "19          +148,501                                         8\n",
              "20          +272,128                                         8\n",
              "21          +135,448                                         8\n",
              "22          +729,540                                         7\n",
              "23          +335,707                                         8\n",
              "24          +523,350                                         7\n",
              "25          +123,449                                         7\n",
              "26          +115,422                                         6\n",
              "27          +128,306                                         6\n",
              "28          +386,663                                         5\n",
              "29          +205,620                                         5\n",
              "30            –8,810                                         5\n",
              "31          +442,073                                         4\n",
              "32          –532,095                            1 (non-voting)\n",
              "33          +108,715                                         4\n",
              "34          +379,605                                         4\n",
              "35          +101,886                                         4\n",
              "36            +8,852                                         4\n",
              "37           +60,196                                         4\n",
              "38           +37,650                                         3\n",
              "39          +108,067                                         3\n",
              "40           –60,847                                         3\n",
              "41          +219,483                                         2\n",
              "42           +55,571                                         2\n",
              "43           +43,241                                         2\n",
              "44           +15,851                                         2\n",
              "45           +79,363                                         1\n",
              "46            +6,794                                         2\n",
              "47           +75,830                                         1\n",
              "48           +70,479                                         1\n",
              "49           +89,471                                         1\n",
              "50           +21,314                                         1\n",
              "51          +104,026                            1 (non-voting)\n",
              "52            –1,752                                         1\n",
              "53           +15,133                                         1\n",
              "54            +9,127                            1 (non-voting)\n",
              "55              –170                            1 (non-voting)\n",
              "56            –2,450                            1 (non-voting)\n",
              "57            –6,082                            1 (non-voting)\n",
              "58       +19,011,351                                       432\n",
              "59       +19,389,959                                       435\n",
              "60       +19,493,985                      435 (+ 1 non-voting)\n",
              "61       +18,962,315                      435 (+ 6 non-voting)\n",
              "   Estimated population per electoral vote, 2019[note 1]\n",
              "1                                        Percent[note 3]\n",
              "2                                                718,404\n",
              "3                                                763,050\n",
              "4                                                740,611\n",
              "5                                                670,812\n",
              "6                                                640,099\n",
              "7                                                633,591\n",
              "8                                                649,394\n",
              "9                                                663,589\n",
              "10                                               699,206\n",
              "11                                               624,179\n",
              "12                                               634,442\n",
              "13                                               656,578\n",
              "14                                               634,574\n",
              "15                                               661,702\n",
              "16                                               626,591\n",
              "17                                               620,834\n",
              "18                                               612,020\n",
              "19                                               613,743\n",
              "20                                               604,568\n",
              "21                                               582,243\n",
              "22                                               639,860\n",
              "23                                               563,963\n",
              "24                                               572,079\n",
              "25                                               544,798\n",
              "26                                               581,099\n",
              "27                                               558,459\n",
              "28                                               602,534\n",
              "29                                               565,282\n",
              "30                                               509,327\n",
              "31                                               534,326\n",
              "32                                                     —\n",
              "33                                               525,845\n",
              "34                                               513,359\n",
              "35                                               502,967\n",
              "36                                               496,024\n",
              "37                                               485,552\n",
              "38                                               419,366\n",
              "39                                               386,882\n",
              "40                                               358,435\n",
              "41                                               446,516\n",
              "42                                               353,968\n",
              "43                                               339,928\n",
              "44                                               336,053\n",
              "45                                               356,259\n",
              "46                                               264,840\n",
              "47                                               324,588\n",
              "48                                               294,886\n",
              "49                                               254,021\n",
              "50                                               243,848\n",
              "51                                               235,250\n",
              "52                                               207,996\n",
              "53                                               192,920\n",
              "54                                                     —\n",
              "55                                                     —\n",
              "56                                                     —\n",
              "57                                                     —\n",
              "58                                               616,262\n",
              "59                                               612,213\n",
              "60                                               610,111\n",
              "61                                                     —\n",
              "   Census population per House seat Census population per House seat\n",
              "1                          Absolute                  Estimated, 2019\n",
              "2                           745,514                          702,885\n",
              "3                           805,441                          698,503\n",
              "4                           795,472                          696,468\n",
              "5                           720,502                          717,707\n",
              "6                           711,222                          705,715\n",
              "7                           703,990                          712,864\n",
              "8                           730,569                          721,032\n",
              "9                           758,387                          691,975\n",
              "10                          806,776                          733,498\n",
              "11                          713,347                          705,974\n",
              "12                          740,183                          732,658\n",
              "13                          775,956                          727,366\n",
              "14                          751,489                          672,454\n",
              "15                          808,746                          710,224\n",
              "16                          765,834                          727,514\n",
              "17                          758,797                          705,123\n",
              "18                          748,024                          720,422\n",
              "19                          767,179                          748,615\n",
              "20                          755,710                          721,694\n",
              "21                          727,804                          710,873\n",
              "22                          822,677                          720,704\n",
              "23                          704,954                          662,991\n",
              "24                          735,531                          660,766\n",
              "25                          700,455                          682,819\n",
              "26                          774,799                          755,562\n",
              "27                          744,612                          723,228\n",
              "28                          843,547                          766,215\n",
              "29                          791,394                          750,270\n",
              "30                          713,057                          714,824\n",
              "31                          801,490                          690,972\n",
              "32                        3,193,694                        3,725,789\n",
              "33                          788,768                          761,717\n",
              "34                          770,039                          675,173\n",
              "35                          754,451                          728,990\n",
              "36                          744,037                          742,026\n",
              "37                          728,329                          713,280\n",
              "38                          698,943                          686,393\n",
              "39                          644,803                          608,780\n",
              "40                          597,391                          617,670\n",
              "41                          893,033                          783,826\n",
              "42                          707,936                          680,151\n",
              "43                          679,856                          658,233\n",
              "44                          672,106                          664,181\n",
              "45                        1,068,778                          989,417\n",
              "46                          529,681                          526,466\n",
              "47                          973,764                          897,934\n",
              "48                          884,659                          814,180\n",
              "49                          762,062                          672,591\n",
              "50                          731,545                          710,231\n",
              "51                                —                                —\n",
              "52                          623,989                          625,741\n",
              "53                          578,759                          563,626\n",
              "54                                —                                —\n",
              "55                                —                                —\n",
              "56                                —                                —\n",
              "57                                —                                —\n",
              "58                          753,209                          708,285\n",
              "59                          752,951                          708,405\n",
              "60                                —                                —\n",
              "61                                —                                —\n",
              "   Percent of the total U.S. population, 2019[note 2]\n",
              "1                                                2010\n",
              "2                                              11.91%\n",
              "3                                               8.74%\n",
              "4                                               6.47%\n",
              "5                                               5.86%\n",
              "6                                               3.86%\n",
              "7                                               3.82%\n",
              "8                                               3.52%\n",
              "9                                               3.20%\n",
              "10                                              3.16%\n",
              "11                                              3.01%\n",
              "12                                              2.68%\n",
              "13                                              2.57%\n",
              "14                                              2.29%\n",
              "15                                              2.19%\n",
              "16                                              2.09%\n",
              "17                                              2.06%\n",
              "18                                              2.03%\n",
              "19                                              1.85%\n",
              "20                                              1.82%\n",
              "21                                              1.75%\n",
              "22                                              1.74%\n",
              "23                                              1.70%\n",
              "24                                              1.55%\n",
              "25                                              1.48%\n",
              "26                                              1.40%\n",
              "27                                              1.35%\n",
              "28                                              1.27%\n",
              "29                                              1.19%\n",
              "30                                              1.07%\n",
              "31                                              0.97%\n",
              "32                                              0.96%\n",
              "33                                              0.95%\n",
              "34                                              0.93%\n",
              "35                                              0.91%\n",
              "36                                              0.90%\n",
              "37                                              0.88%\n",
              "38                                              0.63%\n",
              "39                                              0.58%\n",
              "40                                              0.54%\n",
              "41                                              0.54%\n",
              "42                                              0.43%\n",
              "43                                              0.41%\n",
              "44                                              0.41%\n",
              "45                                              0.32%\n",
              "46                                              0.32%\n",
              "47                                              0.29%\n",
              "48                                              0.27%\n",
              "49                                              0.23%\n",
              "50                                              0.22%\n",
              "51                                              0.21%\n",
              "52                                              0.19%\n",
              "53                                              0.17%\n",
              "54                                              0.05%\n",
              "55                                              0.03%\n",
              "56                                              0.02%\n",
              "57                                              0.02%\n",
              "58                                             98.06%\n",
              "59                                             98.71%\n",
              "60                                             98.92%\n",
              "61                                            100.00%\n"
            ],
            "text/latex": "\\begin{enumerate}\n\\item A data.frame: 61 × 12\n\\begin{tabular}{llllllllllll}\n Rank & Rank & State & Census population & Census population & Change, 2010–2019 & Change, 2010–2019 & Total U.S. House of Representatives Seats & Estimated population per electoral vote, 2019{[}note 1{]} & Census population per House seat & Census population per House seat & Percent of the total U.S. population, 2019{[}note 2{]}\\\\\n <chr> & <chr> & <chr> & <chr> & <chr> & <chr> & <chr> & <chr> & <chr> & <chr> & <chr> & <chr>\\\\\n\\hline\n\t Current & Rank & 2010           & Estimate, July 1, 2019{[}8{]} & Census population & Change, 2010–2019 & April 1, 2010{[}9{]} & Total U.S. House of Representatives Seats & Percent{[}note 3{]} & Absolute & Estimated, 2019 & 2010  \\\\\n\t 1       & 1    & California     & 39,512,223                & 37,253,956        & 6.1\\%              & +2,257,700       & 53                                        & 718,404         & 745,514  & 702,885         & 11.91\\%\\\\\n\t 2       & 2    & Texas          & 28,995,881                & 25,145,561        & 15.3\\%             & +3,850,320       & 36                                        & 763,050         & 805,441  & 698,503         & 8.74\\% \\\\\n\t 3       & 4    & Florida        & 21,477,737                & 18,801,310        & 14.2\\%             & +2,676,427       & 27                                        & 740,611         & 795,472  & 696,468         & 6.47\\% \\\\\n\t 4       & 3    & New York       & 19,453,561                & 19,378,102        & 0.4\\%              & +75,459          & 27                                        & 670,812         & 720,502  & 717,707         & 5.86\\% \\\\\n\t 5       & 6    & Pennsylvania   & 12,801,989                & 12,702,379        & 0.8\\%              & +99,610          & 18                                        & 640,099         & 711,222  & 705,715         & 3.86\\% \\\\\n\t 6       & 5    & Illinois       & 12,671,821                & 12,830,632        & –1.2\\%             & –158,811         & 18                                        & 633,591         & 703,990  & 712,864         & 3.82\\% \\\\\n\t 7       & 7    & Ohio           & 11,689,100                & 11,536,504        & 1.3\\%              & +152,596         & 16                                        & 649,394         & 730,569  & 721,032         & 3.52\\% \\\\\n\t 8       & 9    & Georgia        & 10,617,423                & 9,687,653         & 9.6\\%              & +929,770         & 14                                        & 663,589         & 758,387  & 691,975         & 3.20\\% \\\\\n\t 9       & 10   & North Carolina & 10,488,084                & 9,535,483         & 10.0\\%             & +952,601         & 13                                        & 699,206         & 806,776  & 733,498         & 3.16\\% \\\\\n\t 10      & 8    & Michigan       & 9,986,857                 & 9,883,640         & 1.0\\%              & +103,217         & 14                                        & 624,179         & 713,347  & 705,974         & 3.01\\% \\\\\n\t 11      & 11   & New Jersey     & 8,882,190                 & 8,791,894         & 1.0\\%              & +90,296          & 12                                        & 634,442         & 740,183  & 732,658         & 2.68\\% \\\\\n\t 12      & 12   & Virginia       & 8,535,519                 & 8,001,024         & 6.7\\%              & +534,495         & 11                                        & 656,578         & 775,956  & 727,366         & 2.57\\% \\\\\n\t 13      & 13   & Washington     & 7,614,893                 & 6,724,540         & 13.2\\%             & +890,353         & 10                                        & 634,574         & 751,489  & 672,454         & 2.29\\% \\\\\n\t 14      & 16   & Arizona        & 7,278,717                 & 6,392,017         & 13.9\\%             & +886,700         & 9                                         & 661,702         & 808,746  & 710,224         & 2.19\\% \\\\\n\t 15      & 14   & Massachusetts  & 6,892,503                 & 6,547,629         & 5.3\\%              & +344,874         & 9                                         & 626,591         & 765,834  & 727,514         & 2.09\\% \\\\\n\t 16      & 17   & Tennessee      & 6,829,174                 & 6,346,105         & 7.6\\%              & +483,069         & 9                                         & 620,834         & 758,797  & 705,123         & 2.06\\% \\\\\n\t 17      & 15   & Indiana        & 6,732,219                 & 6,483,802         & 3.8\\%              & +248,417         & 9                                         & 612,020         & 748,024  & 720,422         & 2.03\\% \\\\\n\t 18      & 18   & Missouri       & 6,137,428                 & 5,988,927         & 2.5\\%              & +148,501         & 8                                         & 613,743         & 767,179  & 748,615         & 1.85\\% \\\\\n\t 19      & 19   & Maryland       & 6,045,680                 & 5,773,552         & 4.7\\%              & +272,128         & 8                                         & 604,568         & 755,710  & 721,694         & 1.82\\% \\\\\n\t 20      & 20   & Wisconsin      & 5,822,434                 & 5,686,986         & 2.4\\%              & +135,448         & 8                                         & 582,243         & 727,804  & 710,873         & 1.75\\% \\\\\n\t 21      & 22   & Colorado       & 5,758,736                 & 5,029,196         & 14.5\\%             & +729,540         & 7                                         & 639,860         & 822,677  & 720,704         & 1.74\\% \\\\\n\t 22      & 21   & Minnesota      & 5,639,632                 & 5,303,925         & 6.3\\%              & +335,707         & 8                                         & 563,963         & 704,954  & 662,991         & 1.70\\% \\\\\n\t 23      & 24   & South Carolina & 5,148,714                 & 4,625,364         & 11.3\\%             & +523,350         & 7                                         & 572,079         & 735,531  & 660,766         & 1.55\\% \\\\\n\t 24      & 23   & Alabama        & 4,903,185                 & 4,779,736         & 2.6\\%              & +123,449         & 7                                         & 544,798         & 700,455  & 682,819         & 1.48\\% \\\\\n\t 25      & 25   & Louisiana      & 4,648,794                 & 4,533,372         & 2.5\\%              & +115,422         & 6                                         & 581,099         & 774,799  & 755,562         & 1.40\\% \\\\\n\t 26      & 26   & Kentucky       & 4,467,673                 & 4,339,367         & 3.0\\%              & +128,306         & 6                                         & 558,459         & 744,612  & 723,228         & 1.35\\% \\\\\n\t 27      & 27   & Oregon         & 4,217,737                 & 3,831,074         & 10.1\\%             & +386,663         & 5                                         & 602,534         & 843,547  & 766,215         & 1.27\\% \\\\\n\t 28      & 28   & Oklahoma       & 3,956,971                 & 3,751,351         & 5.5\\%              & +205,620         & 5                                         & 565,282         & 791,394  & 750,270         & 1.19\\% \\\\\n\t 29      & 30   & Connecticut    & 3,565,287                 & 3,574,097         & –0.2\\%             & –8,810           & 5                                         & 509,327         & 713,057  & 714,824         & 1.07\\% \\\\\n\t ⋮ & ⋮ & ⋮ & ⋮ & ⋮ & ⋮ & ⋮ & ⋮ & ⋮ & ⋮ & ⋮ & ⋮\\\\\n\t 31 & 29 & Puerto Rico                                 & 3,193,694   & 3,725,789   & –14.3\\% & –532,095    & 1 (non-voting)       & —       & 3,193,694 & 3,725,789 & 0.96\\%  \\\\\n\t 32 & 31 & Iowa                                        & 3,155,070   & 3,046,355   & 3.6\\%   & +108,715    & 4                    & 525,845 & 788,768   & 761,717   & 0.95\\%  \\\\\n\t 33 & 36 & Nevada                                      & 3,080,156   & 2,700,551   & 14.1\\%  & +379,605    & 4                    & 513,359 & 770,039   & 675,173   & 0.93\\%  \\\\\n\t 34 & 33 & Arkansas                                    & 3,017,804   & 2,915,918   & 3.5\\%   & +101,886    & 4                    & 502,967 & 754,451   & 728,990   & 0.91\\%  \\\\\n\t 35 & 32 & Mississippi                                 & 2,976,149   & 2,967,297   & 0.3\\%   & +8,852      & 4                    & 496,024 & 744,037   & 742,026   & 0.90\\%  \\\\\n\t 36 & 34 & Kansas                                      & 2,913,314   & 2,853,118   & 2.1\\%   & +60,196     & 4                    & 485,552 & 728,329   & 713,280   & 0.88\\%  \\\\\n\t 37 & 37 & New Mexico                                  & 2,096,829   & 2,059,179   & 1.8\\%   & +37,650     & 3                    & 419,366 & 698,943   & 686,393   & 0.63\\%  \\\\\n\t 38 & 39 & Nebraska                                    & 1,934,408   & 1,826,341   & 5.9\\%   & +108,067    & 3                    & 386,882 & 644,803   & 608,780   & 0.58\\%  \\\\\n\t 39 & 38 & West Virginia                               & 1,792,147   & 1,852,994   & –3.3\\%  & –60,847     & 3                    & 358,435 & 597,391   & 617,670   & 0.54\\%  \\\\\n\t 40 & 40 & Idaho                                       & 1,787,065   & 1,567,582   & 14.0\\%  & +219,483    & 2                    & 446,516 & 893,033   & 783,826   & 0.54\\%  \\\\\n\t 41 & 41 & Hawaii                                      & 1,415,872   & 1,360,301   & 4.1\\%   & +55,571     & 2                    & 353,968 & 707,936   & 680,151   & 0.43\\%  \\\\\n\t 42 & 43 & New Hampshire                               & 1,359,711   & 1,316,470   & 3.3\\%   & +43,241     & 2                    & 339,928 & 679,856   & 658,233   & 0.41\\%  \\\\\n\t 43 & 42 & Maine                                       & 1,344,212   & 1,328,361   & 1.2\\%   & +15,851     & 2                    & 336,053 & 672,106   & 664,181   & 0.41\\%  \\\\\n\t 44 & 45 & Montana                                     & 1,068,778   & 989,415     & 8.0\\%   & +79,363     & 1                    & 356,259 & 1,068,778 & 989,417   & 0.32\\%  \\\\\n\t 45 & 44 & Rhode Island                                & 1,059,361   & 1,052,567   & 0.6\\%   & +6,794      & 2                    & 264,840 & 529,681   & 526,466   & 0.32\\%  \\\\\n\t 46 & 46 & Delaware                                    & 973,764     & 897,934     & 8.4\\%   & +75,830     & 1                    & 324,588 & 973,764   & 897,934   & 0.29\\%  \\\\\n\t 47 & 47 & South Dakota                                & 884,659     & 814,180     & 8.7\\%   & +70,479     & 1                    & 294,886 & 884,659   & 814,180   & 0.27\\%  \\\\\n\t 48 & 49 & North Dakota                                & 762,062     & 672,591     & 13.3\\%  & +89,471     & 1                    & 254,021 & 762,062   & 672,591   & 0.23\\%  \\\\\n\t 49 & 48 & Alaska                                      & 731,545     & 710,231     & 3.0\\%   & +21,314     & 1                    & 243,848 & 731,545   & 710,231   & 0.22\\%  \\\\\n\t 50 & 51 & District of Columbia                        & 705,749     & 601,723     & 17.3\\%  & +104,026    & 1 (non-voting)       & 235,250 & —         & —         & 0.21\\%  \\\\\n\t 51 & 50 & Vermont                                     & 623,989     & 625,741     & –0.3\\%  & –1,752      & 1                    & 207,996 & 623,989   & 625,741   & 0.19\\%  \\\\\n\t 52 & 52 & Wyoming                                     & 578,759     & 563,626     & 2.7\\%   & +15,133     & 1                    & 192,920 & 578,759   & 563,626   & 0.17\\%  \\\\\n\t 53 & 53 & Guam                                        & 168,485{[}10{]} & 159,358{[}11{]} & 5.7\\%   & +9,127      & 1 (non-voting)       & —       & —         & —         & 0.05\\%  \\\\\n\t 54 & 54 & U.S. Virgin Islands                         & 106,235{[}12{]} & 106,405{[}13{]} & –0.2\\%  & –170        & 1 (non-voting)       & —       & —         & —         & 0.03\\%  \\\\\n\t 55 & 56 & Northern Mariana Islands                    & 51,433{[}14{]}  & 53,883{[}15{]}  & –4.5\\%  & –2,450      & 1 (non-voting)       & —       & —         & —         & 0.02\\%  \\\\\n\t 56 & 55 & American Samoa                              & 49,437{[}16{]}  & 55,519{[}17{]}  & –11.0\\% & –6,082      & 1 (non-voting)       & —       & —         & —         & 0.02\\%  \\\\\n\t —  & —  & Contiguous United States                    & 325,386,357 & 306,675,006 & 6.2\\%   & +19,011,351 & 432                  & 616,262 & 753,209   & 708,285   & 98.06\\% \\\\\n\t —  & —  & The fifty states                            & 327,533,795 & 308,143,836 & 6.3\\%   & +19,389,959 & 435                  & 612,213 & 752,951   & 708,405   & 98.71\\% \\\\\n\t —  & —  & Fifty states + D.C.                         & 328,239,523 & 308,745,538 & 6.3\\%   & +19,493,985 & 435 (+ 1 non-voting) & 610,111 & —         & —         & 98.92\\% \\\\\n\t —  & —  & Total U.S. (including D.C. and territories) & 331,808,807 & 312,846,492 & 6.1\\%   & +18,962,315 & 435 (+ 6 non-voting) & —       & —         & —         & 100.00\\%\\\\\n\\end{tabular}\n\n\\end{enumerate}\n",
            "text/markdown": "1. \nA data.frame: 61 × 12\n\n| Rank &lt;chr&gt; | Rank &lt;chr&gt; | State &lt;chr&gt; | Census population &lt;chr&gt; | Census population &lt;chr&gt; | Change, 2010–2019 &lt;chr&gt; | Change, 2010–2019 &lt;chr&gt; | Total U.S. House of Representatives Seats &lt;chr&gt; | Estimated population per electoral vote, 2019[note 1] &lt;chr&gt; | Census population per House seat &lt;chr&gt; | Census population per House seat &lt;chr&gt; | Percent of the total U.S. population, 2019[note 2] &lt;chr&gt; |\n|---|---|---|---|---|---|---|---|---|---|---|---|\n| Current | Rank | 2010           | Estimate, July 1, 2019[8] | Census population | Change, 2010–2019 | April 1, 2010[9] | Total U.S. House of Representatives Seats | Percent[note 3] | Absolute | Estimated, 2019 | 2010   |\n| 1       | 1    | California     | 39,512,223                | 37,253,956        | 6.1%              | +2,257,700       | 53                                        | 718,404         | 745,514  | 702,885         | 11.91% |\n| 2       | 2    | Texas          | 28,995,881                | 25,145,561        | 15.3%             | +3,850,320       | 36                                        | 763,050         | 805,441  | 698,503         | 8.74%  |\n| 3       | 4    | Florida        | 21,477,737                | 18,801,310        | 14.2%             | +2,676,427       | 27                                        | 740,611         | 795,472  | 696,468         | 6.47%  |\n| 4       | 3    | New York       | 19,453,561                | 19,378,102        | 0.4%              | +75,459          | 27                                        | 670,812         | 720,502  | 717,707         | 5.86%  |\n| 5       | 6    | Pennsylvania   | 12,801,989                | 12,702,379        | 0.8%              | +99,610          | 18                                        | 640,099         | 711,222  | 705,715         | 3.86%  |\n| 6       | 5    | Illinois       | 12,671,821                | 12,830,632        | –1.2%             | –158,811         | 18                                        | 633,591         | 703,990  | 712,864         | 3.82%  |\n| 7       | 7    | Ohio           | 11,689,100                | 11,536,504        | 1.3%              | +152,596         | 16                                        | 649,394         | 730,569  | 721,032         | 3.52%  |\n| 8       | 9    | Georgia        | 10,617,423                | 9,687,653         | 9.6%              | +929,770         | 14                                        | 663,589         | 758,387  | 691,975         | 3.20%  |\n| 9       | 10   | North Carolina | 10,488,084                | 9,535,483         | 10.0%             | +952,601         | 13                                        | 699,206         | 806,776  | 733,498         | 3.16%  |\n| 10      | 8    | Michigan       | 9,986,857                 | 9,883,640         | 1.0%              | +103,217         | 14                                        | 624,179         | 713,347  | 705,974         | 3.01%  |\n| 11      | 11   | New Jersey     | 8,882,190                 | 8,791,894         | 1.0%              | +90,296          | 12                                        | 634,442         | 740,183  | 732,658         | 2.68%  |\n| 12      | 12   | Virginia       | 8,535,519                 | 8,001,024         | 6.7%              | +534,495         | 11                                        | 656,578         | 775,956  | 727,366         | 2.57%  |\n| 13      | 13   | Washington     | 7,614,893                 | 6,724,540         | 13.2%             | +890,353         | 10                                        | 634,574         | 751,489  | 672,454         | 2.29%  |\n| 14      | 16   | Arizona        | 7,278,717                 | 6,392,017         | 13.9%             | +886,700         | 9                                         | 661,702         | 808,746  | 710,224         | 2.19%  |\n| 15      | 14   | Massachusetts  | 6,892,503                 | 6,547,629         | 5.3%              | +344,874         | 9                                         | 626,591         | 765,834  | 727,514         | 2.09%  |\n| 16      | 17   | Tennessee      | 6,829,174                 | 6,346,105         | 7.6%              | +483,069         | 9                                         | 620,834         | 758,797  | 705,123         | 2.06%  |\n| 17      | 15   | Indiana        | 6,732,219                 | 6,483,802         | 3.8%              | +248,417         | 9                                         | 612,020         | 748,024  | 720,422         | 2.03%  |\n| 18      | 18   | Missouri       | 6,137,428                 | 5,988,927         | 2.5%              | +148,501         | 8                                         | 613,743         | 767,179  | 748,615         | 1.85%  |\n| 19      | 19   | Maryland       | 6,045,680                 | 5,773,552         | 4.7%              | +272,128         | 8                                         | 604,568         | 755,710  | 721,694         | 1.82%  |\n| 20      | 20   | Wisconsin      | 5,822,434                 | 5,686,986         | 2.4%              | +135,448         | 8                                         | 582,243         | 727,804  | 710,873         | 1.75%  |\n| 21      | 22   | Colorado       | 5,758,736                 | 5,029,196         | 14.5%             | +729,540         | 7                                         | 639,860         | 822,677  | 720,704         | 1.74%  |\n| 22      | 21   | Minnesota      | 5,639,632                 | 5,303,925         | 6.3%              | +335,707         | 8                                         | 563,963         | 704,954  | 662,991         | 1.70%  |\n| 23      | 24   | South Carolina | 5,148,714                 | 4,625,364         | 11.3%             | +523,350         | 7                                         | 572,079         | 735,531  | 660,766         | 1.55%  |\n| 24      | 23   | Alabama        | 4,903,185                 | 4,779,736         | 2.6%              | +123,449         | 7                                         | 544,798         | 700,455  | 682,819         | 1.48%  |\n| 25      | 25   | Louisiana      | 4,648,794                 | 4,533,372         | 2.5%              | +115,422         | 6                                         | 581,099         | 774,799  | 755,562         | 1.40%  |\n| 26      | 26   | Kentucky       | 4,467,673                 | 4,339,367         | 3.0%              | +128,306         | 6                                         | 558,459         | 744,612  | 723,228         | 1.35%  |\n| 27      | 27   | Oregon         | 4,217,737                 | 3,831,074         | 10.1%             | +386,663         | 5                                         | 602,534         | 843,547  | 766,215         | 1.27%  |\n| 28      | 28   | Oklahoma       | 3,956,971                 | 3,751,351         | 5.5%              | +205,620         | 5                                         | 565,282         | 791,394  | 750,270         | 1.19%  |\n| 29      | 30   | Connecticut    | 3,565,287                 | 3,574,097         | –0.2%             | –8,810           | 5                                         | 509,327         | 713,057  | 714,824         | 1.07%  |\n| ⋮ | ⋮ | ⋮ | ⋮ | ⋮ | ⋮ | ⋮ | ⋮ | ⋮ | ⋮ | ⋮ | ⋮ |\n| 31 | 29 | Puerto Rico                                 | 3,193,694   | 3,725,789   | –14.3% | –532,095    | 1 (non-voting)       | —       | 3,193,694 | 3,725,789 | 0.96%   |\n| 32 | 31 | Iowa                                        | 3,155,070   | 3,046,355   | 3.6%   | +108,715    | 4                    | 525,845 | 788,768   | 761,717   | 0.95%   |\n| 33 | 36 | Nevada                                      | 3,080,156   | 2,700,551   | 14.1%  | +379,605    | 4                    | 513,359 | 770,039   | 675,173   | 0.93%   |\n| 34 | 33 | Arkansas                                    | 3,017,804   | 2,915,918   | 3.5%   | +101,886    | 4                    | 502,967 | 754,451   | 728,990   | 0.91%   |\n| 35 | 32 | Mississippi                                 | 2,976,149   | 2,967,297   | 0.3%   | +8,852      | 4                    | 496,024 | 744,037   | 742,026   | 0.90%   |\n| 36 | 34 | Kansas                                      | 2,913,314   | 2,853,118   | 2.1%   | +60,196     | 4                    | 485,552 | 728,329   | 713,280   | 0.88%   |\n| 37 | 37 | New Mexico                                  | 2,096,829   | 2,059,179   | 1.8%   | +37,650     | 3                    | 419,366 | 698,943   | 686,393   | 0.63%   |\n| 38 | 39 | Nebraska                                    | 1,934,408   | 1,826,341   | 5.9%   | +108,067    | 3                    | 386,882 | 644,803   | 608,780   | 0.58%   |\n| 39 | 38 | West Virginia                               | 1,792,147   | 1,852,994   | –3.3%  | –60,847     | 3                    | 358,435 | 597,391   | 617,670   | 0.54%   |\n| 40 | 40 | Idaho                                       | 1,787,065   | 1,567,582   | 14.0%  | +219,483    | 2                    | 446,516 | 893,033   | 783,826   | 0.54%   |\n| 41 | 41 | Hawaii                                      | 1,415,872   | 1,360,301   | 4.1%   | +55,571     | 2                    | 353,968 | 707,936   | 680,151   | 0.43%   |\n| 42 | 43 | New Hampshire                               | 1,359,711   | 1,316,470   | 3.3%   | +43,241     | 2                    | 339,928 | 679,856   | 658,233   | 0.41%   |\n| 43 | 42 | Maine                                       | 1,344,212   | 1,328,361   | 1.2%   | +15,851     | 2                    | 336,053 | 672,106   | 664,181   | 0.41%   |\n| 44 | 45 | Montana                                     | 1,068,778   | 989,415     | 8.0%   | +79,363     | 1                    | 356,259 | 1,068,778 | 989,417   | 0.32%   |\n| 45 | 44 | Rhode Island                                | 1,059,361   | 1,052,567   | 0.6%   | +6,794      | 2                    | 264,840 | 529,681   | 526,466   | 0.32%   |\n| 46 | 46 | Delaware                                    | 973,764     | 897,934     | 8.4%   | +75,830     | 1                    | 324,588 | 973,764   | 897,934   | 0.29%   |\n| 47 | 47 | South Dakota                                | 884,659     | 814,180     | 8.7%   | +70,479     | 1                    | 294,886 | 884,659   | 814,180   | 0.27%   |\n| 48 | 49 | North Dakota                                | 762,062     | 672,591     | 13.3%  | +89,471     | 1                    | 254,021 | 762,062   | 672,591   | 0.23%   |\n| 49 | 48 | Alaska                                      | 731,545     | 710,231     | 3.0%   | +21,314     | 1                    | 243,848 | 731,545   | 710,231   | 0.22%   |\n| 50 | 51 | District of Columbia                        | 705,749     | 601,723     | 17.3%  | +104,026    | 1 (non-voting)       | 235,250 | —         | —         | 0.21%   |\n| 51 | 50 | Vermont                                     | 623,989     | 625,741     | –0.3%  | –1,752      | 1                    | 207,996 | 623,989   | 625,741   | 0.19%   |\n| 52 | 52 | Wyoming                                     | 578,759     | 563,626     | 2.7%   | +15,133     | 1                    | 192,920 | 578,759   | 563,626   | 0.17%   |\n| 53 | 53 | Guam                                        | 168,485[10] | 159,358[11] | 5.7%   | +9,127      | 1 (non-voting)       | —       | —         | —         | 0.05%   |\n| 54 | 54 | U.S. Virgin Islands                         | 106,235[12] | 106,405[13] | –0.2%  | –170        | 1 (non-voting)       | —       | —         | —         | 0.03%   |\n| 55 | 56 | Northern Mariana Islands                    | 51,433[14]  | 53,883[15]  | –4.5%  | –2,450      | 1 (non-voting)       | —       | —         | —         | 0.02%   |\n| 56 | 55 | American Samoa                              | 49,437[16]  | 55,519[17]  | –11.0% | –6,082      | 1 (non-voting)       | —       | —         | —         | 0.02%   |\n| —  | —  | Contiguous United States                    | 325,386,357 | 306,675,006 | 6.2%   | +19,011,351 | 432                  | 616,262 | 753,209   | 708,285   | 98.06%  |\n| —  | —  | The fifty states                            | 327,533,795 | 308,143,836 | 6.3%   | +19,389,959 | 435                  | 612,213 | 752,951   | 708,405   | 98.71%  |\n| —  | —  | Fifty states + D.C.                         | 328,239,523 | 308,745,538 | 6.3%   | +19,493,985 | 435 (+ 1 non-voting) | 610,111 | —         | —         | 98.92%  |\n| —  | —  | Total U.S. (including D.C. and territories) | 331,808,807 | 312,846,492 | 6.1%   | +18,962,315 | 435 (+ 6 non-voting) | —       | —         | —         | 100.00% |\n\n\n\n\n",
            "text/html": [
              "<ol>\n",
              "\t<li><table>\n",
              "<caption>A data.frame: 61 × 12</caption>\n",
              "<thead>\n",
              "\t<tr><th scope=col>Rank</th><th scope=col>Rank</th><th scope=col>State</th><th scope=col>Census population</th><th scope=col>Census population</th><th scope=col>Change, 2010–2019</th><th scope=col>Change, 2010–2019</th><th scope=col>Total U.S. House of Representatives Seats</th><th scope=col>Estimated population per electoral vote, 2019[note 1]</th><th scope=col>Census population per House seat</th><th scope=col>Census population per House seat</th><th scope=col>Percent of the total U.S. population, 2019[note 2]</th></tr>\n",
              "\t<tr><th scope=col>&lt;chr&gt;</th><th scope=col>&lt;chr&gt;</th><th scope=col>&lt;chr&gt;</th><th scope=col>&lt;chr&gt;</th><th scope=col>&lt;chr&gt;</th><th scope=col>&lt;chr&gt;</th><th scope=col>&lt;chr&gt;</th><th scope=col>&lt;chr&gt;</th><th scope=col>&lt;chr&gt;</th><th scope=col>&lt;chr&gt;</th><th scope=col>&lt;chr&gt;</th><th scope=col>&lt;chr&gt;</th></tr>\n",
              "</thead>\n",
              "<tbody>\n",
              "\t<tr><td>Current</td><td>Rank</td><td>2010          </td><td>Estimate, July 1, 2019[8]</td><td>Census population</td><td>Change, 2010–2019</td><td>April 1, 2010[9]</td><td>Total U.S. House of Representatives Seats</td><td>Percent[note 3]</td><td>Absolute</td><td>Estimated, 2019</td><td>2010  </td></tr>\n",
              "\t<tr><td>1      </td><td>1   </td><td>California    </td><td>39,512,223               </td><td>37,253,956       </td><td>6.1%             </td><td>+2,257,700      </td><td>53                                       </td><td>718,404        </td><td>745,514 </td><td>702,885        </td><td>11.91%</td></tr>\n",
              "\t<tr><td>2      </td><td>2   </td><td>Texas         </td><td>28,995,881               </td><td>25,145,561       </td><td>15.3%            </td><td>+3,850,320      </td><td>36                                       </td><td>763,050        </td><td>805,441 </td><td>698,503        </td><td>8.74% </td></tr>\n",
              "\t<tr><td>3      </td><td>4   </td><td>Florida       </td><td>21,477,737               </td><td>18,801,310       </td><td>14.2%            </td><td>+2,676,427      </td><td>27                                       </td><td>740,611        </td><td>795,472 </td><td>696,468        </td><td>6.47% </td></tr>\n",
              "\t<tr><td>4      </td><td>3   </td><td>New York      </td><td>19,453,561               </td><td>19,378,102       </td><td>0.4%             </td><td>+75,459         </td><td>27                                       </td><td>670,812        </td><td>720,502 </td><td>717,707        </td><td>5.86% </td></tr>\n",
              "\t<tr><td>5      </td><td>6   </td><td>Pennsylvania  </td><td>12,801,989               </td><td>12,702,379       </td><td>0.8%             </td><td>+99,610         </td><td>18                                       </td><td>640,099        </td><td>711,222 </td><td>705,715        </td><td>3.86% </td></tr>\n",
              "\t<tr><td>6      </td><td>5   </td><td>Illinois      </td><td>12,671,821               </td><td>12,830,632       </td><td>–1.2%            </td><td>–158,811        </td><td>18                                       </td><td>633,591        </td><td>703,990 </td><td>712,864        </td><td>3.82% </td></tr>\n",
              "\t<tr><td>7      </td><td>7   </td><td>Ohio          </td><td>11,689,100               </td><td>11,536,504       </td><td>1.3%             </td><td>+152,596        </td><td>16                                       </td><td>649,394        </td><td>730,569 </td><td>721,032        </td><td>3.52% </td></tr>\n",
              "\t<tr><td>8      </td><td>9   </td><td>Georgia       </td><td>10,617,423               </td><td>9,687,653        </td><td>9.6%             </td><td>+929,770        </td><td>14                                       </td><td>663,589        </td><td>758,387 </td><td>691,975        </td><td>3.20% </td></tr>\n",
              "\t<tr><td>9      </td><td>10  </td><td>North Carolina</td><td>10,488,084               </td><td>9,535,483        </td><td>10.0%            </td><td>+952,601        </td><td>13                                       </td><td>699,206        </td><td>806,776 </td><td>733,498        </td><td>3.16% </td></tr>\n",
              "\t<tr><td>10     </td><td>8   </td><td>Michigan      </td><td>9,986,857                </td><td>9,883,640        </td><td>1.0%             </td><td>+103,217        </td><td>14                                       </td><td>624,179        </td><td>713,347 </td><td>705,974        </td><td>3.01% </td></tr>\n",
              "\t<tr><td>11     </td><td>11  </td><td>New Jersey    </td><td>8,882,190                </td><td>8,791,894        </td><td>1.0%             </td><td>+90,296         </td><td>12                                       </td><td>634,442        </td><td>740,183 </td><td>732,658        </td><td>2.68% </td></tr>\n",
              "\t<tr><td>12     </td><td>12  </td><td>Virginia      </td><td>8,535,519                </td><td>8,001,024        </td><td>6.7%             </td><td>+534,495        </td><td>11                                       </td><td>656,578        </td><td>775,956 </td><td>727,366        </td><td>2.57% </td></tr>\n",
              "\t<tr><td>13     </td><td>13  </td><td>Washington    </td><td>7,614,893                </td><td>6,724,540        </td><td>13.2%            </td><td>+890,353        </td><td>10                                       </td><td>634,574        </td><td>751,489 </td><td>672,454        </td><td>2.29% </td></tr>\n",
              "\t<tr><td>14     </td><td>16  </td><td>Arizona       </td><td>7,278,717                </td><td>6,392,017        </td><td>13.9%            </td><td>+886,700        </td><td>9                                        </td><td>661,702        </td><td>808,746 </td><td>710,224        </td><td>2.19% </td></tr>\n",
              "\t<tr><td>15     </td><td>14  </td><td>Massachusetts </td><td>6,892,503                </td><td>6,547,629        </td><td>5.3%             </td><td>+344,874        </td><td>9                                        </td><td>626,591        </td><td>765,834 </td><td>727,514        </td><td>2.09% </td></tr>\n",
              "\t<tr><td>16     </td><td>17  </td><td>Tennessee     </td><td>6,829,174                </td><td>6,346,105        </td><td>7.6%             </td><td>+483,069        </td><td>9                                        </td><td>620,834        </td><td>758,797 </td><td>705,123        </td><td>2.06% </td></tr>\n",
              "\t<tr><td>17     </td><td>15  </td><td>Indiana       </td><td>6,732,219                </td><td>6,483,802        </td><td>3.8%             </td><td>+248,417        </td><td>9                                        </td><td>612,020        </td><td>748,024 </td><td>720,422        </td><td>2.03% </td></tr>\n",
              "\t<tr><td>18     </td><td>18  </td><td>Missouri      </td><td>6,137,428                </td><td>5,988,927        </td><td>2.5%             </td><td>+148,501        </td><td>8                                        </td><td>613,743        </td><td>767,179 </td><td>748,615        </td><td>1.85% </td></tr>\n",
              "\t<tr><td>19     </td><td>19  </td><td>Maryland      </td><td>6,045,680                </td><td>5,773,552        </td><td>4.7%             </td><td>+272,128        </td><td>8                                        </td><td>604,568        </td><td>755,710 </td><td>721,694        </td><td>1.82% </td></tr>\n",
              "\t<tr><td>20     </td><td>20  </td><td>Wisconsin     </td><td>5,822,434                </td><td>5,686,986        </td><td>2.4%             </td><td>+135,448        </td><td>8                                        </td><td>582,243        </td><td>727,804 </td><td>710,873        </td><td>1.75% </td></tr>\n",
              "\t<tr><td>21     </td><td>22  </td><td>Colorado      </td><td>5,758,736                </td><td>5,029,196        </td><td>14.5%            </td><td>+729,540        </td><td>7                                        </td><td>639,860        </td><td>822,677 </td><td>720,704        </td><td>1.74% </td></tr>\n",
              "\t<tr><td>22     </td><td>21  </td><td>Minnesota     </td><td>5,639,632                </td><td>5,303,925        </td><td>6.3%             </td><td>+335,707        </td><td>8                                        </td><td>563,963        </td><td>704,954 </td><td>662,991        </td><td>1.70% </td></tr>\n",
              "\t<tr><td>23     </td><td>24  </td><td>South Carolina</td><td>5,148,714                </td><td>4,625,364        </td><td>11.3%            </td><td>+523,350        </td><td>7                                        </td><td>572,079        </td><td>735,531 </td><td>660,766        </td><td>1.55% </td></tr>\n",
              "\t<tr><td>24     </td><td>23  </td><td>Alabama       </td><td>4,903,185                </td><td>4,779,736        </td><td>2.6%             </td><td>+123,449        </td><td>7                                        </td><td>544,798        </td><td>700,455 </td><td>682,819        </td><td>1.48% </td></tr>\n",
              "\t<tr><td>25     </td><td>25  </td><td>Louisiana     </td><td>4,648,794                </td><td>4,533,372        </td><td>2.5%             </td><td>+115,422        </td><td>6                                        </td><td>581,099        </td><td>774,799 </td><td>755,562        </td><td>1.40% </td></tr>\n",
              "\t<tr><td>26     </td><td>26  </td><td>Kentucky      </td><td>4,467,673                </td><td>4,339,367        </td><td>3.0%             </td><td>+128,306        </td><td>6                                        </td><td>558,459        </td><td>744,612 </td><td>723,228        </td><td>1.35% </td></tr>\n",
              "\t<tr><td>27     </td><td>27  </td><td>Oregon        </td><td>4,217,737                </td><td>3,831,074        </td><td>10.1%            </td><td>+386,663        </td><td>5                                        </td><td>602,534        </td><td>843,547 </td><td>766,215        </td><td>1.27% </td></tr>\n",
              "\t<tr><td>28     </td><td>28  </td><td>Oklahoma      </td><td>3,956,971                </td><td>3,751,351        </td><td>5.5%             </td><td>+205,620        </td><td>5                                        </td><td>565,282        </td><td>791,394 </td><td>750,270        </td><td>1.19% </td></tr>\n",
              "\t<tr><td>29     </td><td>30  </td><td>Connecticut   </td><td>3,565,287                </td><td>3,574,097        </td><td>–0.2%            </td><td>–8,810          </td><td>5                                        </td><td>509,327        </td><td>713,057 </td><td>714,824        </td><td>1.07% </td></tr>\n",
              "\t<tr><td>⋮</td><td>⋮</td><td>⋮</td><td>⋮</td><td>⋮</td><td>⋮</td><td>⋮</td><td>⋮</td><td>⋮</td><td>⋮</td><td>⋮</td><td>⋮</td></tr>\n",
              "\t<tr><td>31</td><td>29</td><td>Puerto Rico                                </td><td>3,193,694  </td><td>3,725,789  </td><td>–14.3%</td><td>–532,095   </td><td>1 (non-voting)      </td><td>—      </td><td>3,193,694</td><td>3,725,789</td><td>0.96%  </td></tr>\n",
              "\t<tr><td>32</td><td>31</td><td>Iowa                                       </td><td>3,155,070  </td><td>3,046,355  </td><td>3.6%  </td><td>+108,715   </td><td>4                   </td><td>525,845</td><td>788,768  </td><td>761,717  </td><td>0.95%  </td></tr>\n",
              "\t<tr><td>33</td><td>36</td><td>Nevada                                     </td><td>3,080,156  </td><td>2,700,551  </td><td>14.1% </td><td>+379,605   </td><td>4                   </td><td>513,359</td><td>770,039  </td><td>675,173  </td><td>0.93%  </td></tr>\n",
              "\t<tr><td>34</td><td>33</td><td>Arkansas                                   </td><td>3,017,804  </td><td>2,915,918  </td><td>3.5%  </td><td>+101,886   </td><td>4                   </td><td>502,967</td><td>754,451  </td><td>728,990  </td><td>0.91%  </td></tr>\n",
              "\t<tr><td>35</td><td>32</td><td>Mississippi                                </td><td>2,976,149  </td><td>2,967,297  </td><td>0.3%  </td><td>+8,852     </td><td>4                   </td><td>496,024</td><td>744,037  </td><td>742,026  </td><td>0.90%  </td></tr>\n",
              "\t<tr><td>36</td><td>34</td><td>Kansas                                     </td><td>2,913,314  </td><td>2,853,118  </td><td>2.1%  </td><td>+60,196    </td><td>4                   </td><td>485,552</td><td>728,329  </td><td>713,280  </td><td>0.88%  </td></tr>\n",
              "\t<tr><td>37</td><td>37</td><td>New Mexico                                 </td><td>2,096,829  </td><td>2,059,179  </td><td>1.8%  </td><td>+37,650    </td><td>3                   </td><td>419,366</td><td>698,943  </td><td>686,393  </td><td>0.63%  </td></tr>\n",
              "\t<tr><td>38</td><td>39</td><td>Nebraska                                   </td><td>1,934,408  </td><td>1,826,341  </td><td>5.9%  </td><td>+108,067   </td><td>3                   </td><td>386,882</td><td>644,803  </td><td>608,780  </td><td>0.58%  </td></tr>\n",
              "\t<tr><td>39</td><td>38</td><td>West Virginia                              </td><td>1,792,147  </td><td>1,852,994  </td><td>–3.3% </td><td>–60,847    </td><td>3                   </td><td>358,435</td><td>597,391  </td><td>617,670  </td><td>0.54%  </td></tr>\n",
              "\t<tr><td>40</td><td>40</td><td>Idaho                                      </td><td>1,787,065  </td><td>1,567,582  </td><td>14.0% </td><td>+219,483   </td><td>2                   </td><td>446,516</td><td>893,033  </td><td>783,826  </td><td>0.54%  </td></tr>\n",
              "\t<tr><td>41</td><td>41</td><td>Hawaii                                     </td><td>1,415,872  </td><td>1,360,301  </td><td>4.1%  </td><td>+55,571    </td><td>2                   </td><td>353,968</td><td>707,936  </td><td>680,151  </td><td>0.43%  </td></tr>\n",
              "\t<tr><td>42</td><td>43</td><td>New Hampshire                              </td><td>1,359,711  </td><td>1,316,470  </td><td>3.3%  </td><td>+43,241    </td><td>2                   </td><td>339,928</td><td>679,856  </td><td>658,233  </td><td>0.41%  </td></tr>\n",
              "\t<tr><td>43</td><td>42</td><td>Maine                                      </td><td>1,344,212  </td><td>1,328,361  </td><td>1.2%  </td><td>+15,851    </td><td>2                   </td><td>336,053</td><td>672,106  </td><td>664,181  </td><td>0.41%  </td></tr>\n",
              "\t<tr><td>44</td><td>45</td><td>Montana                                    </td><td>1,068,778  </td><td>989,415    </td><td>8.0%  </td><td>+79,363    </td><td>1                   </td><td>356,259</td><td>1,068,778</td><td>989,417  </td><td>0.32%  </td></tr>\n",
              "\t<tr><td>45</td><td>44</td><td>Rhode Island                               </td><td>1,059,361  </td><td>1,052,567  </td><td>0.6%  </td><td>+6,794     </td><td>2                   </td><td>264,840</td><td>529,681  </td><td>526,466  </td><td>0.32%  </td></tr>\n",
              "\t<tr><td>46</td><td>46</td><td>Delaware                                   </td><td>973,764    </td><td>897,934    </td><td>8.4%  </td><td>+75,830    </td><td>1                   </td><td>324,588</td><td>973,764  </td><td>897,934  </td><td>0.29%  </td></tr>\n",
              "\t<tr><td>47</td><td>47</td><td>South Dakota                               </td><td>884,659    </td><td>814,180    </td><td>8.7%  </td><td>+70,479    </td><td>1                   </td><td>294,886</td><td>884,659  </td><td>814,180  </td><td>0.27%  </td></tr>\n",
              "\t<tr><td>48</td><td>49</td><td>North Dakota                               </td><td>762,062    </td><td>672,591    </td><td>13.3% </td><td>+89,471    </td><td>1                   </td><td>254,021</td><td>762,062  </td><td>672,591  </td><td>0.23%  </td></tr>\n",
              "\t<tr><td>49</td><td>48</td><td>Alaska                                     </td><td>731,545    </td><td>710,231    </td><td>3.0%  </td><td>+21,314    </td><td>1                   </td><td>243,848</td><td>731,545  </td><td>710,231  </td><td>0.22%  </td></tr>\n",
              "\t<tr><td>50</td><td>51</td><td>District of Columbia                       </td><td>705,749    </td><td>601,723    </td><td>17.3% </td><td>+104,026   </td><td>1 (non-voting)      </td><td>235,250</td><td>—        </td><td>—        </td><td>0.21%  </td></tr>\n",
              "\t<tr><td>51</td><td>50</td><td>Vermont                                    </td><td>623,989    </td><td>625,741    </td><td>–0.3% </td><td>–1,752     </td><td>1                   </td><td>207,996</td><td>623,989  </td><td>625,741  </td><td>0.19%  </td></tr>\n",
              "\t<tr><td>52</td><td>52</td><td>Wyoming                                    </td><td>578,759    </td><td>563,626    </td><td>2.7%  </td><td>+15,133    </td><td>1                   </td><td>192,920</td><td>578,759  </td><td>563,626  </td><td>0.17%  </td></tr>\n",
              "\t<tr><td>53</td><td>53</td><td>Guam                                       </td><td>168,485[10]</td><td>159,358[11]</td><td>5.7%  </td><td>+9,127     </td><td>1 (non-voting)      </td><td>—      </td><td>—        </td><td>—        </td><td>0.05%  </td></tr>\n",
              "\t<tr><td>54</td><td>54</td><td>U.S. Virgin Islands                        </td><td>106,235[12]</td><td>106,405[13]</td><td>–0.2% </td><td>–170       </td><td>1 (non-voting)      </td><td>—      </td><td>—        </td><td>—        </td><td>0.03%  </td></tr>\n",
              "\t<tr><td>55</td><td>56</td><td>Northern Mariana Islands                   </td><td>51,433[14] </td><td>53,883[15] </td><td>–4.5% </td><td>–2,450     </td><td>1 (non-voting)      </td><td>—      </td><td>—        </td><td>—        </td><td>0.02%  </td></tr>\n",
              "\t<tr><td>56</td><td>55</td><td>American Samoa                             </td><td>49,437[16] </td><td>55,519[17] </td><td>–11.0%</td><td>–6,082     </td><td>1 (non-voting)      </td><td>—      </td><td>—        </td><td>—        </td><td>0.02%  </td></tr>\n",
              "\t<tr><td>— </td><td>— </td><td>Contiguous United States                   </td><td>325,386,357</td><td>306,675,006</td><td>6.2%  </td><td>+19,011,351</td><td>432                 </td><td>616,262</td><td>753,209  </td><td>708,285  </td><td>98.06% </td></tr>\n",
              "\t<tr><td>— </td><td>— </td><td>The fifty states                           </td><td>327,533,795</td><td>308,143,836</td><td>6.3%  </td><td>+19,389,959</td><td>435                 </td><td>612,213</td><td>752,951  </td><td>708,405  </td><td>98.71% </td></tr>\n",
              "\t<tr><td>— </td><td>— </td><td>Fifty states + D.C.                        </td><td>328,239,523</td><td>308,745,538</td><td>6.3%  </td><td>+19,493,985</td><td>435 (+ 1 non-voting)</td><td>610,111</td><td>—        </td><td>—        </td><td>98.92% </td></tr>\n",
              "\t<tr><td>— </td><td>— </td><td>Total U.S. (including D.C. and territories)</td><td>331,808,807</td><td>312,846,492</td><td>6.1%  </td><td>+18,962,315</td><td>435 (+ 6 non-voting)</td><td>—      </td><td>—        </td><td>—        </td><td>100.00%</td></tr>\n",
              "</tbody>\n",
              "</table>\n",
              "</li>\n",
              "</ol>\n"
            ]
          },
          "metadata": {
            "tags": []
          }
        }
      ]
    }
  ]
}
