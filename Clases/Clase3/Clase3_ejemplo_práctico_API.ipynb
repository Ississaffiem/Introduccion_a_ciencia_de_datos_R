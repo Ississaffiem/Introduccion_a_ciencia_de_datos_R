{
  "nbformat": 4,
  "nbformat_minor": 0,
  "metadata": {
    "colab": {
      "name": "Clase3_ejemplo_práctico_API.ipynb",
      "provenance": [],
      "authorship_tag": "ABX9TyPx4W6Eyrv3i53C5OG44B2o",
      "include_colab_link": true
    },
    "kernelspec": {
      "name": "ir",
      "display_name": "R"
    }
  },
  "cells": [
    {
      "cell_type": "markdown",
      "metadata": {
        "id": "view-in-github",
        "colab_type": "text"
      },
      "source": [
        "<a href=\"https://colab.research.google.com/github/majorquev/Introduccion_a_ciencia_de_datos_R/blob/master/Clases/Clase3/Clase3_ejemplo_pr%C3%A1ctico_API.ipynb\" target=\"_parent\"><img src=\"https://colab.research.google.com/assets/colab-badge.svg\" alt=\"Open In Colab\"/></a>"
      ]
    },
    {
      "cell_type": "markdown",
      "metadata": {
        "id": "ShFak6gSQldy"
      },
      "source": [
        "# **Parte 3: Consumo de APIs con R**\n",
        "\n",
        "\n",
        "**Autor:** Miguel Jorquera Viguera<br>\n",
        "**E-mail:** majorquev@gmail.com<br>\n",
        "**Ayudante:** Bastián Aballay Leiva<br>\n",
        "**E-mail ayudante:** bastian.aballayleiva@gmail.com\n",
        "\n",
        "## **Ejemplo**\n",
        "Para este ejemplo utilizaremos la API de Accuweather para obtener información del clima.  \n",
        "Para ello necesitamos contar con los packages `httr` y `jsonlite`"
      ]
    },
    {
      "cell_type": "code",
      "metadata": {
        "id": "Jxgs6WwhRYZu",
        "outputId": "9432aeb0-2666-490d-ce70-560563d1fb7e",
        "colab": {
          "base_uri": "https://localhost:8080/",
          "height": 72
        }
      },
      "source": [
        "install.packages(\"httr\")"
      ],
      "execution_count": 1,
      "outputs": [
        {
          "output_type": "stream",
          "text": [
            "Installing package into ‘/usr/local/lib/R/site-library’\n",
            "(as ‘lib’ is unspecified)\n",
            "\n"
          ],
          "name": "stderr"
        }
      ]
    },
    {
      "cell_type": "code",
      "metadata": {
        "id": "Ne3_O-bWfuun",
        "outputId": "887640c1-5420-49ec-bc4a-c49bae79c373",
        "colab": {
          "base_uri": "https://localhost:8080/",
          "height": 72
        }
      },
      "source": [
        "install.packages(\"jsonlite\")"
      ],
      "execution_count": 2,
      "outputs": [
        {
          "output_type": "stream",
          "text": [
            "Installing package into ‘/usr/local/lib/R/site-library’\n",
            "(as ‘lib’ is unspecified)\n",
            "\n"
          ],
          "name": "stderr"
        }
      ]
    },
    {
      "cell_type": "code",
      "metadata": {
        "id": "Mbc0CK2gfuOb",
        "outputId": "5388cd34-af68-48fd-d58a-cd5d74461ddd",
        "colab": {
          "base_uri": "https://localhost:8080/",
          "height": 272
        }
      },
      "source": [
        "library(\"httr\")\n",
        "library(\"jsonlite\")\n",
        "library(\"dplyr\")"
      ],
      "execution_count": 3,
      "outputs": [
        {
          "output_type": "stream",
          "text": [
            "\n",
            "Attaching package: ‘dplyr’\n",
            "\n",
            "\n",
            "The following objects are masked from ‘package:stats’:\n",
            "\n",
            "    filter, lag\n",
            "\n",
            "\n",
            "The following objects are masked from ‘package:base’:\n",
            "\n",
            "    intersect, setdiff, setequal, union\n",
            "\n",
            "\n"
          ],
          "name": "stderr"
        }
      ]
    },
    {
      "cell_type": "code",
      "metadata": {
        "id": "skVz_kJ-f44C",
        "outputId": "255b38a8-a466-4860-dadd-6f9962994a7c",
        "colab": {
          "base_uri": "https://localhost:8080/",
          "height": 35
        }
      },
      "source": [
        "url <- \"http://dataservice.accuweather.com/forecasts/v1/daily/1day/60412?apikey=0lsaxvHGpLIdb2GDw5LhZwCtg3xZRKxu&language=es-ES&details=true&metric=true\"\n",
        "url"
      ],
      "execution_count": 5,
      "outputs": [
        {
          "output_type": "display_data",
          "data": {
            "text/plain": [
              "[1] \"http://dataservice.accuweather.com/forecasts/v1/daily/1day/60412?apikey=0lsaxvHGpLIdb2GDw5LhZwCtg3xZRKxu&language=es-ES&details=true&metric=true\""
            ],
            "text/latex": "'http://dataservice.accuweather.com/forecasts/v1/daily/1day/60412?apikey=0lsaxvHGpLIdb2GDw5LhZwCtg3xZRKxu\\&language=es-ES\\&details=true\\&metric=true'",
            "text/markdown": "'http://dataservice.accuweather.com/forecasts/v1/daily/1day/60412?apikey=0lsaxvHGpLIdb2GDw5LhZwCtg3xZRKxu&amp;language=es-ES&amp;details=true&amp;metric=true'",
            "text/html": [
              "'http://dataservice.accuweather.com/forecasts/v1/daily/1day/60412?apikey=0lsaxvHGpLIdb2GDw5LhZwCtg3xZRKxu&amp;language=es-ES&amp;details=true&amp;metric=true'"
            ]
          },
          "metadata": {
            "tags": []
          }
        }
      ]
    },
    {
      "cell_type": "code",
      "metadata": {
        "id": "gOQxlEmPf5IF"
      },
      "source": [
        "clima_1d <- httr::GET(url)"
      ],
      "execution_count": 15,
      "outputs": []
    },
    {
      "cell_type": "code",
      "metadata": {
        "id": "eZZO5rBymC0L",
        "outputId": "24155dee-4192-4cb8-de62-f85190f3bc95",
        "colab": {
          "base_uri": "https://localhost:8080/",
          "height": 108
        }
      },
      "source": [
        "clima_1d"
      ],
      "execution_count": 16,
      "outputs": [
        {
          "output_type": "display_data",
          "data": {
            "text/plain": [
              "Response [http://dataservice.accuweather.com/forecasts/v1/daily/1day/60412?apikey=0lsaxvHGpLIdb2GDw5LhZwCtg3xZRKxu&language=es-ES&details=true&metric=true]\n",
              "  Date: 2020-10-09 18:31\n",
              "  Status: 200\n",
              "  Content-Type: application/json; charset=utf-8\n",
              "  Size: 3.6 kB\n"
            ]
          },
          "metadata": {
            "tags": []
          }
        }
      ]
    },
    {
      "cell_type": "code",
      "metadata": {
        "id": "42B_IVVSmKbV"
      },
      "source": [
        "str(clima_1d)"
      ],
      "execution_count": null,
      "outputs": []
    },
    {
      "cell_type": "code",
      "metadata": {
        "id": "9Mlx0NV_mV4Q",
        "outputId": "0c2098f9-7299-49eb-b028-8482eb3ecab9",
        "colab": {
          "base_uri": "https://localhost:8080/",
          "height": 35
        }
      },
      "source": [
        "head(clima_1d$content)"
      ],
      "execution_count": 18,
      "outputs": [
        {
          "output_type": "display_data",
          "data": {
            "text/plain": [
              "[1] 7b 22 48 65 61 64"
            ]
          },
          "metadata": {
            "tags": []
          }
        }
      ]
    },
    {
      "cell_type": "code",
      "metadata": {
        "id": "HhM7R48VmXqm"
      },
      "source": [
        "text_content <- content(clima_1d, as = \"text\")"
      ],
      "execution_count": 19,
      "outputs": []
    },
    {
      "cell_type": "code",
      "metadata": {
        "id": "uMTu92YYmXtN",
        "outputId": "b0bd5387-edfd-4ebe-ff98-1cb6fa705476",
        "colab": {
          "base_uri": "https://localhost:8080/",
          "height": 380
        }
      },
      "source": [
        "text_content"
      ],
      "execution_count": 20,
      "outputs": [
        {
          "output_type": "display_data",
          "data": {
            "text/plain": [
              "[1] \"{\\\"Headline\\\":{\\\"EffectiveDate\\\":\\\"2020-10-09T08:00:00-03:00\\\",\\\"EffectiveEpochDate\\\":1602241200,\\\"Severity\\\":4,\\\"Text\\\":\\\"La calidad del aire no será saludable para los grupos sensibles desde esta mañana hasta el martes por la mañana\\\",\\\"Category\\\":\\\"air quality\\\",\\\"EndDate\\\":\\\"2020-10-13T14:00:00-03:00\\\",\\\"EndEpochDate\\\":1602608400,\\\"MobileLink\\\":\\\"http://m.accuweather.com/es/cl/macul/60412/extended-weather-forecast/60412?unit=c\\\",\\\"Link\\\":\\\"http://www.accuweather.com/es/cl/macul/60412/daily-weather-forecast/60412?unit=c\\\"},\\\"DailyForecasts\\\":[{\\\"Date\\\":\\\"2020-10-09T07:00:00-03:00\\\",\\\"EpochDate\\\":1602237600,\\\"Sun\\\":{\\\"Rise\\\":\\\"2020-10-09T07:08:00-03:00\\\",\\\"EpochRise\\\":1602238080,\\\"Set\\\":\\\"2020-10-09T19:52:00-03:00\\\",\\\"EpochSet\\\":1602283920},\\\"Moon\\\":{\\\"Rise\\\":\\\"2020-10-09T02:11:00-03:00\\\",\\\"EpochRise\\\":1602220260,\\\"Set\\\":\\\"2020-10-09T12:10:00-03:00\\\",\\\"EpochSet\\\":1602256200,\\\"Phase\\\":\\\"Last\\\",\\\"Age\\\":22},\\\"Temperature\\\":{\\\"Minimum\\\":{\\\"Value\\\":6.7,\\\"Unit\\\":\\\"C\\\",\\\"UnitType\\\":17},\\\"Maximum\\\":{\\\"Value\\\":27.8,\\\"Unit\\\":\\\"C\\\",\\\"UnitType\\\":17}},\\\"RealFeelTemperature\\\":{\\\"Minimum\\\":{\\\"Value\\\":10.6,\\\"Unit\\\":\\\"C\\\",\\\"UnitType\\\":17},\\\"Maximum\\\":{\\\"Value\\\":28.9,\\\"Unit\\\":\\\"C\\\",\\\"UnitType\\\":17}},\\\"RealFeelTemperatureShade\\\":{\\\"Minimum\\\":{\\\"Value\\\":10.6,\\\"Unit\\\":\\\"C\\\",\\\"UnitType\\\":17},\\\"Maximum\\\":{\\\"Value\\\":26.7,\\\"Unit\\\":\\\"C\\\",\\\"UnitType\\\":17}},\\\"HoursOfSun\\\":12.4,\\\"DegreeDaySummary\\\":{\\\"Heating\\\":{\\\"Value\\\":1.0,\\\"Unit\\\":\\\"C\\\",\\\"UnitType\\\":17},\\\"Cooling\\\":{\\\"Value\\\":0.0,\\\"Unit\\\":\\\"C\\\",\\\"UnitType\\\":17}},\\\"AirAndPollen\\\":[{\\\"Name\\\":\\\"AirQuality\\\",\\\"Value\\\":136,\\\"Category\\\":\\\"Poco saludable (sensible)\\\",\\\"CategoryValue\\\":3,\\\"Type\\\":\\\"Polución de partículas\\\"},{\\\"Name\\\":\\\"Grass\\\",\\\"Value\\\":0,\\\"Category\\\":\\\"Bajo\\\",\\\"CategoryValue\\\":1},{\\\"Name\\\":\\\"Mold\\\",\\\"Value\\\":0,\\\"Category\\\":\\\"Bajo\\\",\\\"CategoryValue\\\":1},{\\\"Name\\\":\\\"Tree\\\",\\\"Value\\\":0,\\\"Category\\\":\\\"Bajo\\\",\\\"CategoryValue\\\":1},{\\\"Name\\\":\\\"Ragweed\\\",\\\"Value\\\":0,\\\"Category\\\":\\\"Bajo\\\",\\\"CategoryValue\\\":1},{\\\"Name\\\":\\\"UVIndex\\\",\\\"Value\\\":9,\\\"Category\\\":\\\"Muy alto\\\",\\\"CategoryValue\\\":4}],\\\"Day\\\":{\\\"Icon\\\":3,\\\"IconPhrase\\\":\\\"Parcialmente soleado\\\",\\\"HasPrecipitation\\\":false,\\\"ShortPhrase\\\":\\\"Parcialmente soleado\\\",\\\"LongPhrase\\\":\\\"Parcialmente soleado\\\",\\\"PrecipitationProbability\\\":0,\\\"ThunderstormProbability\\\":0,\\\"RainProbability\\\":0,\\\"SnowProbability\\\":0,\\\"IceProbability\\\":0,\\\"Wind\\\":{\\\"Speed\\\":{\\\"Value\\\":4.8,\\\"Unit\\\":\\\"km/h\\\",\\\"UnitType\\\":7},\\\"Direction\\\":{\\\"Degrees\\\":234,\\\"Localized\\\":\\\"SO\\\",\\\"English\\\":\\\"SW\\\"}},\\\"WindGust\\\":{\\\"Speed\\\":{\\\"Value\\\":12.9,\\\"Unit\\\":\\\"km/h\\\",\\\"UnitType\\\":7},\\\"Direction\\\":{\\\"Degrees\\\":234,\\\"Localized\\\":\\\"SO\\\",\\\"English\\\":\\\"SW\\\"}},\\\"TotalLiquid\\\":{\\\"Value\\\":0.0,\\\"Unit\\\":\\\"mm\\\",\\\"UnitType\\\":3},\\\"Rain\\\":{\\\"Value\\\":0.0,\\\"Unit\\\":\\\"mm\\\",\\\"UnitType\\\":3},\\\"Snow\\\":{\\\"Value\\\":0.0,\\\"Unit\\\":\\\"cm\\\",\\\"UnitType\\\":4},\\\"Ice\\\":{\\\"Value\\\":0.0,\\\"Unit\\\":\\\"mm\\\",\\\"UnitType\\\":3},\\\"HoursOfPrecipitation\\\":0.0,\\\"HoursOfRain\\\":0.0,\\\"HoursOfSnow\\\":0.0,\\\"HoursOfIce\\\":0.0,\\\"CloudCover\\\":14},\\\"Night\\\":{\\\"Icon\\\":37,\\\"IconPhrase\\\":\\\"Luna con bruma\\\",\\\"HasPrecipitation\\\":false,\\\"ShortPhrase\\\":\\\"Brumoso\\\",\\\"LongPhrase\\\":\\\"Brumoso\\\",\\\"PrecipitationProbability\\\":0,\\\"ThunderstormProbability\\\":0,\\\"RainProbability\\\":0,\\\"SnowProbability\\\":0,\\\"IceProbability\\\":0,\\\"Wind\\\":{\\\"Speed\\\":{\\\"Value\\\":4.8,\\\"Unit\\\":\\\"km/h\\\",\\\"UnitType\\\":7},\\\"Direction\\\":{\\\"Degrees\\\":237,\\\"Localized\\\":\\\"OSO\\\",\\\"English\\\":\\\"WSW\\\"}},\\\"WindGust\\\":{\\\"Speed\\\":{\\\"Value\\\":12.9,\\\"Unit\\\":\\\"km/h\\\",\\\"UnitType\\\":7},\\\"Direction\\\":{\\\"Degrees\\\":237,\\\"Localized\\\":\\\"OSO\\\",\\\"English\\\":\\\"WSW\\\"}},\\\"TotalLiquid\\\":{\\\"Value\\\":0.0,\\\"Unit\\\":\\\"mm\\\",\\\"UnitType\\\":3},\\\"Rain\\\":{\\\"Value\\\":0.0,\\\"Unit\\\":\\\"mm\\\",\\\"UnitType\\\":3},\\\"Snow\\\":{\\\"Value\\\":0.0,\\\"Unit\\\":\\\"cm\\\",\\\"UnitType\\\":4},\\\"Ice\\\":{\\\"Value\\\":0.0,\\\"Unit\\\":\\\"mm\\\",\\\"UnitType\\\":3},\\\"HoursOfPrecipitation\\\":0.0,\\\"HoursOfRain\\\":0.0,\\\"HoursOfSnow\\\":0.0,\\\"HoursOfIce\\\":0.0,\\\"CloudCover\\\":1},\\\"Sources\\\":[\\\"AccuWeather\\\"],\\\"MobileLink\\\":\\\"http://m.accuweather.com/es/cl/macul/60412/daily-weather-forecast/60412?day=1&unit=c\\\",\\\"Link\\\":\\\"http://www.accuweather.com/es/cl/macul/60412/daily-weather-forecast/60412?day=1&unit=c\\\"}]}\""
            ],
            "text/latex": "'\\{\"Headline\":\\{\"EffectiveDate\":\"2020-10-09T08:00:00-03:00\",\"EffectiveEpochDate\":1602241200,\"Severity\":4,\"Text\":\"La calidad del aire no será saludable para los grupos sensibles desde esta mañana hasta el martes por la mañana\",\"Category\":\"air quality\",\"EndDate\":\"2020-10-13T14:00:00-03:00\",\"EndEpochDate\":1602608400,\"MobileLink\":\"http://m.accuweather.com/es/cl/macul/60412/extended-weather-forecast/60412?unit=c\",\"Link\":\"http://www.accuweather.com/es/cl/macul/60412/daily-weather-forecast/60412?unit=c\"\\},\"DailyForecasts\":{[}\\{\"Date\":\"2020-10-09T07:00:00-03:00\",\"EpochDate\":1602237600,\"Sun\":\\{\"Rise\":\"2020-10-09T07:08:00-03:00\",\"EpochRise\":1602238080,\"Set\":\"2020-10-09T19:52:00-03:00\",\"EpochSet\":1602283920\\},\"Moon\":\\{\"Rise\":\"2020-10-09T02:11:00-03:00\",\"EpochRise\":1602220260,\"Set\":\"2020-10-09T12:10:00-03:00\",\"EpochSet\":1602256200,\"Phase\":\"Last\",\"Age\":22\\},\"Temperature\":\\{\"Minimum\":\\{\"Value\":6.7,\"Unit\":\"C\",\"UnitType\":17\\},\"Maximum\":\\{\"Value\":27.8,\"Unit\":\"C\",\"UnitType\":17\\}\\},\"RealFeelTemperature\":\\{\"Minimum\":\\{\"Value\":10.6,\"Unit\":\"C\",\"UnitType\":17\\},\"Maximum\":\\{\"Value\":28.9,\"Unit\":\"C\",\"UnitType\":17\\}\\},\"RealFeelTemperatureShade\":\\{\"Minimum\":\\{\"Value\":10.6,\"Unit\":\"C\",\"UnitType\":17\\},\"Maximum\":\\{\"Value\":26.7,\"Unit\":\"C\",\"UnitType\":17\\}\\},\"HoursOfSun\":12.4,\"DegreeDaySummary\":\\{\"Heating\":\\{\"Value\":1.0,\"Unit\":\"C\",\"UnitType\":17\\},\"Cooling\":\\{\"Value\":0.0,\"Unit\":\"C\",\"UnitType\":17\\}\\},\"AirAndPollen\":{[}\\{\"Name\":\"AirQuality\",\"Value\":136,\"Category\":\"Poco saludable (sensible)\",\"CategoryValue\":3,\"Type\":\"Polución de partículas\"\\},\\{\"Name\":\"Grass\",\"Value\":0,\"Category\":\"Bajo\",\"CategoryValue\":1\\},\\{\"Name\":\"Mold\",\"Value\":0,\"Category\":\"Bajo\",\"CategoryValue\":1\\},\\{\"Name\":\"Tree\",\"Value\":0,\"Category\":\"Bajo\",\"CategoryValue\":1\\},\\{\"Name\":\"Ragweed\",\"Value\":0,\"Category\":\"Bajo\",\"CategoryValue\":1\\},\\{\"Name\":\"UVIndex\",\"Value\":9,\"Category\":\"Muy alto\",\"CategoryValue\":4\\}{]},\"Day\":\\{\"Icon\":3,\"IconPhrase\":\"Parcialmente soleado\",\"HasPrecipitation\":false,\"ShortPhrase\":\"Parcialmente soleado\",\"LongPhrase\":\"Parcialmente soleado\",\"PrecipitationProbability\":0,\"ThunderstormProbability\":0,\"RainProbability\":0,\"SnowProbability\":0,\"IceProbability\":0,\"Wind\":\\{\"Speed\":\\{\"Value\":4.8,\"Unit\":\"km/h\",\"UnitType\":7\\},\"Direction\":\\{\"Degrees\":234,\"Localized\":\"SO\",\"English\":\"SW\"\\}\\},\"WindGust\":\\{\"Speed\":\\{\"Value\":12.9,\"Unit\":\"km/h\",\"UnitType\":7\\},\"Direction\":\\{\"Degrees\":234,\"Localized\":\"SO\",\"English\":\"SW\"\\}\\},\"TotalLiquid\":\\{\"Value\":0.0,\"Unit\":\"mm\",\"UnitType\":3\\},\"Rain\":\\{\"Value\":0.0,\"Unit\":\"mm\",\"UnitType\":3\\},\"Snow\":\\{\"Value\":0.0,\"Unit\":\"cm\",\"UnitType\":4\\},\"Ice\":\\{\"Value\":0.0,\"Unit\":\"mm\",\"UnitType\":3\\},\"HoursOfPrecipitation\":0.0,\"HoursOfRain\":0.0,\"HoursOfSnow\":0.0,\"HoursOfIce\":0.0,\"CloudCover\":14\\},\"Night\":\\{\"Icon\":37,\"IconPhrase\":\"Luna con bruma\",\"HasPrecipitation\":false,\"ShortPhrase\":\"Brumoso\",\"LongPhrase\":\"Brumoso\",\"PrecipitationProbability\":0,\"ThunderstormProbability\":0,\"RainProbability\":0,\"SnowProbability\":0,\"IceProbability\":0,\"Wind\":\\{\"Speed\":\\{\"Value\":4.8,\"Unit\":\"km/h\",\"UnitType\":7\\},\"Direction\":\\{\"Degrees\":237,\"Localized\":\"OSO\",\"English\":\"WSW\"\\}\\},\"WindGust\":\\{\"Speed\":\\{\"Value\":12.9,\"Unit\":\"km/h\",\"UnitType\":7\\},\"Direction\":\\{\"Degrees\":237,\"Localized\":\"OSO\",\"English\":\"WSW\"\\}\\},\"TotalLiquid\":\\{\"Value\":0.0,\"Unit\":\"mm\",\"UnitType\":3\\},\"Rain\":\\{\"Value\":0.0,\"Unit\":\"mm\",\"UnitType\":3\\},\"Snow\":\\{\"Value\":0.0,\"Unit\":\"cm\",\"UnitType\":4\\},\"Ice\":\\{\"Value\":0.0,\"Unit\":\"mm\",\"UnitType\":3\\},\"HoursOfPrecipitation\":0.0,\"HoursOfRain\":0.0,\"HoursOfSnow\":0.0,\"HoursOfIce\":0.0,\"CloudCover\":1\\},\"Sources\":{[}\"AccuWeather\"{]},\"MobileLink\":\"http://m.accuweather.com/es/cl/macul/60412/daily-weather-forecast/60412?day=1\\&unit=c\",\"Link\":\"http://www.accuweather.com/es/cl/macul/60412/daily-weather-forecast/60412?day=1\\&unit=c\"\\}{]}\\}'",
            "text/markdown": "'{\"Headline\":{\"EffectiveDate\":\"2020-10-09T08:00:00-03:00\",\"EffectiveEpochDate\":1602241200,\"Severity\":4,\"Text\":\"La calidad del aire no será saludable para los grupos sensibles desde esta mañana hasta el martes por la mañana\",\"Category\":\"air quality\",\"EndDate\":\"2020-10-13T14:00:00-03:00\",\"EndEpochDate\":1602608400,\"MobileLink\":\"http://m.accuweather.com/es/cl/macul/60412/extended-weather-forecast/60412?unit=c\",\"Link\":\"http://www.accuweather.com/es/cl/macul/60412/daily-weather-forecast/60412?unit=c\"},\"DailyForecasts\":[{\"Date\":\"2020-10-09T07:00:00-03:00\",\"EpochDate\":1602237600,\"Sun\":{\"Rise\":\"2020-10-09T07:08:00-03:00\",\"EpochRise\":1602238080,\"Set\":\"2020-10-09T19:52:00-03:00\",\"EpochSet\":1602283920},\"Moon\":{\"Rise\":\"2020-10-09T02:11:00-03:00\",\"EpochRise\":1602220260,\"Set\":\"2020-10-09T12:10:00-03:00\",\"EpochSet\":1602256200,\"Phase\":\"Last\",\"Age\":22},\"Temperature\":{\"Minimum\":{\"Value\":6.7,\"Unit\":\"C\",\"UnitType\":17},\"Maximum\":{\"Value\":27.8,\"Unit\":\"C\",\"UnitType\":17}},\"RealFeelTemperature\":{\"Minimum\":{\"Value\":10.6,\"Unit\":\"C\",\"UnitType\":17},\"Maximum\":{\"Value\":28.9,\"Unit\":\"C\",\"UnitType\":17}},\"RealFeelTemperatureShade\":{\"Minimum\":{\"Value\":10.6,\"Unit\":\"C\",\"UnitType\":17},\"Maximum\":{\"Value\":26.7,\"Unit\":\"C\",\"UnitType\":17}},\"HoursOfSun\":12.4,\"DegreeDaySummary\":{\"Heating\":{\"Value\":1.0,\"Unit\":\"C\",\"UnitType\":17},\"Cooling\":{\"Value\":0.0,\"Unit\":\"C\",\"UnitType\":17}},\"AirAndPollen\":[{\"Name\":\"AirQuality\",\"Value\":136,\"Category\":\"Poco saludable (sensible)\",\"CategoryValue\":3,\"Type\":\"Polución de partículas\"},{\"Name\":\"Grass\",\"Value\":0,\"Category\":\"Bajo\",\"CategoryValue\":1},{\"Name\":\"Mold\",\"Value\":0,\"Category\":\"Bajo\",\"CategoryValue\":1},{\"Name\":\"Tree\",\"Value\":0,\"Category\":\"Bajo\",\"CategoryValue\":1},{\"Name\":\"Ragweed\",\"Value\":0,\"Category\":\"Bajo\",\"CategoryValue\":1},{\"Name\":\"UVIndex\",\"Value\":9,\"Category\":\"Muy alto\",\"CategoryValue\":4}],\"Day\":{\"Icon\":3,\"IconPhrase\":\"Parcialmente soleado\",\"HasPrecipitation\":false,\"ShortPhrase\":\"Parcialmente soleado\",\"LongPhrase\":\"Parcialmente soleado\",\"PrecipitationProbability\":0,\"ThunderstormProbability\":0,\"RainProbability\":0,\"SnowProbability\":0,\"IceProbability\":0,\"Wind\":{\"Speed\":{\"Value\":4.8,\"Unit\":\"km/h\",\"UnitType\":7},\"Direction\":{\"Degrees\":234,\"Localized\":\"SO\",\"English\":\"SW\"}},\"WindGust\":{\"Speed\":{\"Value\":12.9,\"Unit\":\"km/h\",\"UnitType\":7},\"Direction\":{\"Degrees\":234,\"Localized\":\"SO\",\"English\":\"SW\"}},\"TotalLiquid\":{\"Value\":0.0,\"Unit\":\"mm\",\"UnitType\":3},\"Rain\":{\"Value\":0.0,\"Unit\":\"mm\",\"UnitType\":3},\"Snow\":{\"Value\":0.0,\"Unit\":\"cm\",\"UnitType\":4},\"Ice\":{\"Value\":0.0,\"Unit\":\"mm\",\"UnitType\":3},\"HoursOfPrecipitation\":0.0,\"HoursOfRain\":0.0,\"HoursOfSnow\":0.0,\"HoursOfIce\":0.0,\"CloudCover\":14},\"Night\":{\"Icon\":37,\"IconPhrase\":\"Luna con bruma\",\"HasPrecipitation\":false,\"ShortPhrase\":\"Brumoso\",\"LongPhrase\":\"Brumoso\",\"PrecipitationProbability\":0,\"ThunderstormProbability\":0,\"RainProbability\":0,\"SnowProbability\":0,\"IceProbability\":0,\"Wind\":{\"Speed\":{\"Value\":4.8,\"Unit\":\"km/h\",\"UnitType\":7},\"Direction\":{\"Degrees\":237,\"Localized\":\"OSO\",\"English\":\"WSW\"}},\"WindGust\":{\"Speed\":{\"Value\":12.9,\"Unit\":\"km/h\",\"UnitType\":7},\"Direction\":{\"Degrees\":237,\"Localized\":\"OSO\",\"English\":\"WSW\"}},\"TotalLiquid\":{\"Value\":0.0,\"Unit\":\"mm\",\"UnitType\":3},\"Rain\":{\"Value\":0.0,\"Unit\":\"mm\",\"UnitType\":3},\"Snow\":{\"Value\":0.0,\"Unit\":\"cm\",\"UnitType\":4},\"Ice\":{\"Value\":0.0,\"Unit\":\"mm\",\"UnitType\":3},\"HoursOfPrecipitation\":0.0,\"HoursOfRain\":0.0,\"HoursOfSnow\":0.0,\"HoursOfIce\":0.0,\"CloudCover\":1},\"Sources\":[\"AccuWeather\"],\"MobileLink\":\"http://m.accuweather.com/es/cl/macul/60412/daily-weather-forecast/60412?day=1&amp;unit=c\",\"Link\":\"http://www.accuweather.com/es/cl/macul/60412/daily-weather-forecast/60412?day=1&amp;unit=c\"}]}'",
            "text/html": [
              "'{\"Headline\":{\"EffectiveDate\":\"2020-10-09T08:00:00-03:00\",\"EffectiveEpochDate\":1602241200,\"Severity\":4,\"Text\":\"La calidad del aire no será saludable para los grupos sensibles desde esta mañana hasta el martes por la mañana\",\"Category\":\"air quality\",\"EndDate\":\"2020-10-13T14:00:00-03:00\",\"EndEpochDate\":1602608400,\"MobileLink\":\"http://m.accuweather.com/es/cl/macul/60412/extended-weather-forecast/60412?unit=c\",\"Link\":\"http://www.accuweather.com/es/cl/macul/60412/daily-weather-forecast/60412?unit=c\"},\"DailyForecasts\":[{\"Date\":\"2020-10-09T07:00:00-03:00\",\"EpochDate\":1602237600,\"Sun\":{\"Rise\":\"2020-10-09T07:08:00-03:00\",\"EpochRise\":1602238080,\"Set\":\"2020-10-09T19:52:00-03:00\",\"EpochSet\":1602283920},\"Moon\":{\"Rise\":\"2020-10-09T02:11:00-03:00\",\"EpochRise\":1602220260,\"Set\":\"2020-10-09T12:10:00-03:00\",\"EpochSet\":1602256200,\"Phase\":\"Last\",\"Age\":22},\"Temperature\":{\"Minimum\":{\"Value\":6.7,\"Unit\":\"C\",\"UnitType\":17},\"Maximum\":{\"Value\":27.8,\"Unit\":\"C\",\"UnitType\":17}},\"RealFeelTemperature\":{\"Minimum\":{\"Value\":10.6,\"Unit\":\"C\",\"UnitType\":17},\"Maximum\":{\"Value\":28.9,\"Unit\":\"C\",\"UnitType\":17}},\"RealFeelTemperatureShade\":{\"Minimum\":{\"Value\":10.6,\"Unit\":\"C\",\"UnitType\":17},\"Maximum\":{\"Value\":26.7,\"Unit\":\"C\",\"UnitType\":17}},\"HoursOfSun\":12.4,\"DegreeDaySummary\":{\"Heating\":{\"Value\":1.0,\"Unit\":\"C\",\"UnitType\":17},\"Cooling\":{\"Value\":0.0,\"Unit\":\"C\",\"UnitType\":17}},\"AirAndPollen\":[{\"Name\":\"AirQuality\",\"Value\":136,\"Category\":\"Poco saludable (sensible)\",\"CategoryValue\":3,\"Type\":\"Polución de partículas\"},{\"Name\":\"Grass\",\"Value\":0,\"Category\":\"Bajo\",\"CategoryValue\":1},{\"Name\":\"Mold\",\"Value\":0,\"Category\":\"Bajo\",\"CategoryValue\":1},{\"Name\":\"Tree\",\"Value\":0,\"Category\":\"Bajo\",\"CategoryValue\":1},{\"Name\":\"Ragweed\",\"Value\":0,\"Category\":\"Bajo\",\"CategoryValue\":1},{\"Name\":\"UVIndex\",\"Value\":9,\"Category\":\"Muy alto\",\"CategoryValue\":4}],\"Day\":{\"Icon\":3,\"IconPhrase\":\"Parcialmente soleado\",\"HasPrecipitation\":false,\"ShortPhrase\":\"Parcialmente soleado\",\"LongPhrase\":\"Parcialmente soleado\",\"PrecipitationProbability\":0,\"ThunderstormProbability\":0,\"RainProbability\":0,\"SnowProbability\":0,\"IceProbability\":0,\"Wind\":{\"Speed\":{\"Value\":4.8,\"Unit\":\"km/h\",\"UnitType\":7},\"Direction\":{\"Degrees\":234,\"Localized\":\"SO\",\"English\":\"SW\"}},\"WindGust\":{\"Speed\":{\"Value\":12.9,\"Unit\":\"km/h\",\"UnitType\":7},\"Direction\":{\"Degrees\":234,\"Localized\":\"SO\",\"English\":\"SW\"}},\"TotalLiquid\":{\"Value\":0.0,\"Unit\":\"mm\",\"UnitType\":3},\"Rain\":{\"Value\":0.0,\"Unit\":\"mm\",\"UnitType\":3},\"Snow\":{\"Value\":0.0,\"Unit\":\"cm\",\"UnitType\":4},\"Ice\":{\"Value\":0.0,\"Unit\":\"mm\",\"UnitType\":3},\"HoursOfPrecipitation\":0.0,\"HoursOfRain\":0.0,\"HoursOfSnow\":0.0,\"HoursOfIce\":0.0,\"CloudCover\":14},\"Night\":{\"Icon\":37,\"IconPhrase\":\"Luna con bruma\",\"HasPrecipitation\":false,\"ShortPhrase\":\"Brumoso\",\"LongPhrase\":\"Brumoso\",\"PrecipitationProbability\":0,\"ThunderstormProbability\":0,\"RainProbability\":0,\"SnowProbability\":0,\"IceProbability\":0,\"Wind\":{\"Speed\":{\"Value\":4.8,\"Unit\":\"km/h\",\"UnitType\":7},\"Direction\":{\"Degrees\":237,\"Localized\":\"OSO\",\"English\":\"WSW\"}},\"WindGust\":{\"Speed\":{\"Value\":12.9,\"Unit\":\"km/h\",\"UnitType\":7},\"Direction\":{\"Degrees\":237,\"Localized\":\"OSO\",\"English\":\"WSW\"}},\"TotalLiquid\":{\"Value\":0.0,\"Unit\":\"mm\",\"UnitType\":3},\"Rain\":{\"Value\":0.0,\"Unit\":\"mm\",\"UnitType\":3},\"Snow\":{\"Value\":0.0,\"Unit\":\"cm\",\"UnitType\":4},\"Ice\":{\"Value\":0.0,\"Unit\":\"mm\",\"UnitType\":3},\"HoursOfPrecipitation\":0.0,\"HoursOfRain\":0.0,\"HoursOfSnow\":0.0,\"HoursOfIce\":0.0,\"CloudCover\":1},\"Sources\":[\"AccuWeather\"],\"MobileLink\":\"http://m.accuweather.com/es/cl/macul/60412/daily-weather-forecast/60412?day=1&amp;unit=c\",\"Link\":\"http://www.accuweather.com/es/cl/macul/60412/daily-weather-forecast/60412?day=1&amp;unit=c\"}]}'"
            ]
          },
          "metadata": {
            "tags": []
          }
        }
      ]
    },
    {
      "cell_type": "code",
      "metadata": {
        "id": "p8hY-d_4mXxl"
      },
      "source": [
        "content_from_json <- fromJSON(text_content)"
      ],
      "execution_count": 21,
      "outputs": []
    },
    {
      "cell_type": "code",
      "metadata": {
        "id": "TVLc6-P0pYGc",
        "outputId": "f260bfc0-e8b2-40a5-db1c-24706f556ac0",
        "colab": {
          "base_uri": "https://localhost:8080/",
          "height": 390
        }
      },
      "source": [
        "names(content_from_json)\n",
        "content_from_json$Headline\n",
        "class(content_from_json$Headline)"
      ],
      "execution_count": 25,
      "outputs": [
        {
          "output_type": "display_data",
          "data": {
            "text/plain": [
              "[1] \"Headline\"       \"DailyForecasts\""
            ],
            "text/latex": "\\begin{enumerate*}\n\\item 'Headline'\n\\item 'DailyForecasts'\n\\end{enumerate*}\n",
            "text/markdown": "1. 'Headline'\n2. 'DailyForecasts'\n\n\n",
            "text/html": [
              "<style>\n",
              ".list-inline {list-style: none; margin:0; padding: 0}\n",
              ".list-inline>li {display: inline-block}\n",
              ".list-inline>li:not(:last-child)::after {content: \"\\00b7\"; padding: 0 .5ex}\n",
              "</style>\n",
              "<ol class=list-inline><li>'Headline'</li><li>'DailyForecasts'</li></ol>\n"
            ]
          },
          "metadata": {
            "tags": []
          }
        },
        {
          "output_type": "display_data",
          "data": {
            "text/plain": [
              "$EffectiveDate\n",
              "[1] \"2020-10-09T08:00:00-03:00\"\n",
              "\n",
              "$EffectiveEpochDate\n",
              "[1] 1602241200\n",
              "\n",
              "$Severity\n",
              "[1] 4\n",
              "\n",
              "$Text\n",
              "[1] \"La calidad del aire no será saludable para los grupos sensibles desde esta mañana hasta el martes por la mañana\"\n",
              "\n",
              "$Category\n",
              "[1] \"air quality\"\n",
              "\n",
              "$EndDate\n",
              "[1] \"2020-10-13T14:00:00-03:00\"\n",
              "\n",
              "$EndEpochDate\n",
              "[1] 1602608400\n",
              "\n",
              "$MobileLink\n",
              "[1] \"http://m.accuweather.com/es/cl/macul/60412/extended-weather-forecast/60412?unit=c\"\n",
              "\n",
              "$Link\n",
              "[1] \"http://www.accuweather.com/es/cl/macul/60412/daily-weather-forecast/60412?unit=c\"\n"
            ],
            "text/latex": "\\begin{description}\n\\item[\\$EffectiveDate] '2020-10-09T08:00:00-03:00'\n\\item[\\$EffectiveEpochDate] 1602241200\n\\item[\\$Severity] 4\n\\item[\\$Text] 'La calidad del aire no será saludable para los grupos sensibles desde esta mañana hasta el martes por la mañana'\n\\item[\\$Category] 'air quality'\n\\item[\\$EndDate] '2020-10-13T14:00:00-03:00'\n\\item[\\$EndEpochDate] 1602608400\n\\item[\\$MobileLink] 'http://m.accuweather.com/es/cl/macul/60412/extended-weather-forecast/60412?unit=c'\n\\item[\\$Link] 'http://www.accuweather.com/es/cl/macul/60412/daily-weather-forecast/60412?unit=c'\n\\end{description}\n",
            "text/markdown": "$EffectiveDate\n:   '2020-10-09T08:00:00-03:00'\n$EffectiveEpochDate\n:   1602241200\n$Severity\n:   4\n$Text\n:   'La calidad del aire no será saludable para los grupos sensibles desde esta mañana hasta el martes por la mañana'\n$Category\n:   'air quality'\n$EndDate\n:   '2020-10-13T14:00:00-03:00'\n$EndEpochDate\n:   1602608400\n$MobileLink\n:   'http://m.accuweather.com/es/cl/macul/60412/extended-weather-forecast/60412?unit=c'\n$Link\n:   'http://www.accuweather.com/es/cl/macul/60412/daily-weather-forecast/60412?unit=c'\n\n\n",
            "text/html": [
              "<dl>\n",
              "\t<dt>$EffectiveDate</dt>\n",
              "\t\t<dd>'2020-10-09T08:00:00-03:00'</dd>\n",
              "\t<dt>$EffectiveEpochDate</dt>\n",
              "\t\t<dd>1602241200</dd>\n",
              "\t<dt>$Severity</dt>\n",
              "\t\t<dd>4</dd>\n",
              "\t<dt>$Text</dt>\n",
              "\t\t<dd>'La calidad del aire no será saludable para los grupos sensibles desde esta mañana hasta el martes por la mañana'</dd>\n",
              "\t<dt>$Category</dt>\n",
              "\t\t<dd>'air quality'</dd>\n",
              "\t<dt>$EndDate</dt>\n",
              "\t\t<dd>'2020-10-13T14:00:00-03:00'</dd>\n",
              "\t<dt>$EndEpochDate</dt>\n",
              "\t\t<dd>1602608400</dd>\n",
              "\t<dt>$MobileLink</dt>\n",
              "\t\t<dd>'http://m.accuweather.com/es/cl/macul/60412/extended-weather-forecast/60412?unit=c'</dd>\n",
              "\t<dt>$Link</dt>\n",
              "\t\t<dd>'http://www.accuweather.com/es/cl/macul/60412/daily-weather-forecast/60412?unit=c'</dd>\n",
              "</dl>\n"
            ]
          },
          "metadata": {
            "tags": []
          }
        },
        {
          "output_type": "display_data",
          "data": {
            "text/plain": [
              "[1] \"list\""
            ],
            "text/latex": "'list'",
            "text/markdown": "'list'",
            "text/html": [
              "'list'"
            ]
          },
          "metadata": {
            "tags": []
          }
        }
      ]
    },
    {
      "cell_type": "code",
      "metadata": {
        "id": "3nfFSgQipjBY",
        "outputId": "17900bba-11e5-4be9-daf4-b4b678778708",
        "colab": {
          "base_uri": "https://localhost:8080/",
          "height": 1000
        }
      },
      "source": [
        "str(content_from_json$DailyForecasts)"
      ],
      "execution_count": 30,
      "outputs": [
        {
          "output_type": "stream",
          "text": [
            "'data.frame':\t1 obs. of  15 variables:\n",
            " $ Date                    : chr \"2020-10-09T07:00:00-03:00\"\n",
            " $ EpochDate               : int 1602237600\n",
            " $ Sun                     :'data.frame':\t1 obs. of  4 variables:\n",
            "  ..$ Rise     : chr \"2020-10-09T07:08:00-03:00\"\n",
            "  ..$ EpochRise: int 1602238080\n",
            "  ..$ Set      : chr \"2020-10-09T19:52:00-03:00\"\n",
            "  ..$ EpochSet : int 1602283920\n",
            " $ Moon                    :'data.frame':\t1 obs. of  6 variables:\n",
            "  ..$ Rise     : chr \"2020-10-09T02:11:00-03:00\"\n",
            "  ..$ EpochRise: int 1602220260\n",
            "  ..$ Set      : chr \"2020-10-09T12:10:00-03:00\"\n",
            "  ..$ EpochSet : int 1602256200\n",
            "  ..$ Phase    : chr \"Last\"\n",
            "  ..$ Age      : int 22\n",
            " $ Temperature             :'data.frame':\t1 obs. of  2 variables:\n",
            "  ..$ Minimum:'data.frame':\t1 obs. of  3 variables:\n",
            "  .. ..$ Value   : num 6.7\n",
            "  .. ..$ Unit    : chr \"C\"\n",
            "  .. ..$ UnitType: int 17\n",
            "  ..$ Maximum:'data.frame':\t1 obs. of  3 variables:\n",
            "  .. ..$ Value   : num 27.8\n",
            "  .. ..$ Unit    : chr \"C\"\n",
            "  .. ..$ UnitType: int 17\n",
            " $ RealFeelTemperature     :'data.frame':\t1 obs. of  2 variables:\n",
            "  ..$ Minimum:'data.frame':\t1 obs. of  3 variables:\n",
            "  .. ..$ Value   : num 10.6\n",
            "  .. ..$ Unit    : chr \"C\"\n",
            "  .. ..$ UnitType: int 17\n",
            "  ..$ Maximum:'data.frame':\t1 obs. of  3 variables:\n",
            "  .. ..$ Value   : num 28.9\n",
            "  .. ..$ Unit    : chr \"C\"\n",
            "  .. ..$ UnitType: int 17\n",
            " $ RealFeelTemperatureShade:'data.frame':\t1 obs. of  2 variables:\n",
            "  ..$ Minimum:'data.frame':\t1 obs. of  3 variables:\n",
            "  .. ..$ Value   : num 10.6\n",
            "  .. ..$ Unit    : chr \"C\"\n",
            "  .. ..$ UnitType: int 17\n",
            "  ..$ Maximum:'data.frame':\t1 obs. of  3 variables:\n",
            "  .. ..$ Value   : num 26.7\n",
            "  .. ..$ Unit    : chr \"C\"\n",
            "  .. ..$ UnitType: int 17\n",
            " $ HoursOfSun              : num 12.4\n",
            " $ DegreeDaySummary        :'data.frame':\t1 obs. of  2 variables:\n",
            "  ..$ Heating:'data.frame':\t1 obs. of  3 variables:\n",
            "  .. ..$ Value   : num 1\n",
            "  .. ..$ Unit    : chr \"C\"\n",
            "  .. ..$ UnitType: int 17\n",
            "  ..$ Cooling:'data.frame':\t1 obs. of  3 variables:\n",
            "  .. ..$ Value   : num 0\n",
            "  .. ..$ Unit    : chr \"C\"\n",
            "  .. ..$ UnitType: int 17\n",
            " $ AirAndPollen            :List of 1\n",
            "  ..$ :'data.frame':\t6 obs. of  5 variables:\n",
            "  .. ..$ Name         : chr  \"AirQuality\" \"Grass\" \"Mold\" \"Tree\" ...\n",
            "  .. ..$ Value        : int  136 0 0 0 0 9\n",
            "  .. ..$ Category     : chr  \"Poco saludable (sensible)\" \"Bajo\" \"Bajo\" \"Bajo\" ...\n",
            "  .. ..$ CategoryValue: int  3 1 1 1 1 4\n",
            "  .. ..$ Type         : chr  \"Polución de partículas\" NA NA NA ...\n",
            " $ Day                     :'data.frame':\t1 obs. of  21 variables:\n",
            "  ..$ Icon                    : int 3\n",
            "  ..$ IconPhrase              : chr \"Parcialmente soleado\"\n",
            "  ..$ HasPrecipitation        : logi FALSE\n",
            "  ..$ ShortPhrase             : chr \"Parcialmente soleado\"\n",
            "  ..$ LongPhrase              : chr \"Parcialmente soleado\"\n",
            "  ..$ PrecipitationProbability: int 0\n",
            "  ..$ ThunderstormProbability : int 0\n",
            "  ..$ RainProbability         : int 0\n",
            "  ..$ SnowProbability         : int 0\n",
            "  ..$ IceProbability          : int 0\n",
            "  ..$ Wind                    :'data.frame':\t1 obs. of  2 variables:\n",
            "  .. ..$ Speed    :'data.frame':\t1 obs. of  3 variables:\n",
            "  .. .. ..$ Value   : num 4.8\n",
            "  .. .. ..$ Unit    : chr \"km/h\"\n",
            "  .. .. ..$ UnitType: int 7\n",
            "  .. ..$ Direction:'data.frame':\t1 obs. of  3 variables:\n",
            "  .. .. ..$ Degrees  : int 234\n",
            "  .. .. ..$ Localized: chr \"SO\"\n",
            "  .. .. ..$ English  : chr \"SW\"\n",
            "  ..$ WindGust                :'data.frame':\t1 obs. of  2 variables:\n",
            "  .. ..$ Speed    :'data.frame':\t1 obs. of  3 variables:\n",
            "  .. .. ..$ Value   : num 12.9\n",
            "  .. .. ..$ Unit    : chr \"km/h\"\n",
            "  .. .. ..$ UnitType: int 7\n",
            "  .. ..$ Direction:'data.frame':\t1 obs. of  3 variables:\n",
            "  .. .. ..$ Degrees  : int 234\n",
            "  .. .. ..$ Localized: chr \"SO\"\n",
            "  .. .. ..$ English  : chr \"SW\"\n",
            "  ..$ TotalLiquid             :'data.frame':\t1 obs. of  3 variables:\n",
            "  .. ..$ Value   : num 0\n",
            "  .. ..$ Unit    : chr \"mm\"\n",
            "  .. ..$ UnitType: int 3\n",
            "  ..$ Rain                    :'data.frame':\t1 obs. of  3 variables:\n",
            "  .. ..$ Value   : num 0\n",
            "  .. ..$ Unit    : chr \"mm\"\n",
            "  .. ..$ UnitType: int 3\n",
            "  ..$ Snow                    :'data.frame':\t1 obs. of  3 variables:\n",
            "  .. ..$ Value   : num 0\n",
            "  .. ..$ Unit    : chr \"cm\"\n",
            "  .. ..$ UnitType: int 4\n",
            "  ..$ Ice                     :'data.frame':\t1 obs. of  3 variables:\n",
            "  .. ..$ Value   : num 0\n",
            "  .. ..$ Unit    : chr \"mm\"\n",
            "  .. ..$ UnitType: int 3\n",
            "  ..$ HoursOfPrecipitation    : num 0\n",
            "  ..$ HoursOfRain             : num 0\n",
            "  ..$ HoursOfSnow             : num 0\n",
            "  ..$ HoursOfIce              : num 0\n",
            "  ..$ CloudCover              : int 14\n",
            " $ Night                   :'data.frame':\t1 obs. of  21 variables:\n",
            "  ..$ Icon                    : int 37\n",
            "  ..$ IconPhrase              : chr \"Luna con bruma\"\n",
            "  ..$ HasPrecipitation        : logi FALSE\n",
            "  ..$ ShortPhrase             : chr \"Brumoso\"\n",
            "  ..$ LongPhrase              : chr \"Brumoso\"\n",
            "  ..$ PrecipitationProbability: int 0\n",
            "  ..$ ThunderstormProbability : int 0\n",
            "  ..$ RainProbability         : int 0\n",
            "  ..$ SnowProbability         : int 0\n",
            "  ..$ IceProbability          : int 0\n",
            "  ..$ Wind                    :'data.frame':\t1 obs. of  2 variables:\n",
            "  .. ..$ Speed    :'data.frame':\t1 obs. of  3 variables:\n",
            "  .. .. ..$ Value   : num 4.8\n",
            "  .. .. ..$ Unit    : chr \"km/h\"\n",
            "  .. .. ..$ UnitType: int 7\n",
            "  .. ..$ Direction:'data.frame':\t1 obs. of  3 variables:\n",
            "  .. .. ..$ Degrees  : int 237\n",
            "  .. .. ..$ Localized: chr \"OSO\"\n",
            "  .. .. ..$ English  : chr \"WSW\"\n",
            "  ..$ WindGust                :'data.frame':\t1 obs. of  2 variables:\n",
            "  .. ..$ Speed    :'data.frame':\t1 obs. of  3 variables:\n",
            "  .. .. ..$ Value   : num 12.9\n",
            "  .. .. ..$ Unit    : chr \"km/h\"\n",
            "  .. .. ..$ UnitType: int 7\n",
            "  .. ..$ Direction:'data.frame':\t1 obs. of  3 variables:\n",
            "  .. .. ..$ Degrees  : int 237\n",
            "  .. .. ..$ Localized: chr \"OSO\"\n",
            "  .. .. ..$ English  : chr \"WSW\"\n",
            "  ..$ TotalLiquid             :'data.frame':\t1 obs. of  3 variables:\n",
            "  .. ..$ Value   : num 0\n",
            "  .. ..$ Unit    : chr \"mm\"\n",
            "  .. ..$ UnitType: int 3\n",
            "  ..$ Rain                    :'data.frame':\t1 obs. of  3 variables:\n",
            "  .. ..$ Value   : num 0\n",
            "  .. ..$ Unit    : chr \"mm\"\n",
            "  .. ..$ UnitType: int 3\n",
            "  ..$ Snow                    :'data.frame':\t1 obs. of  3 variables:\n",
            "  .. ..$ Value   : num 0\n",
            "  .. ..$ Unit    : chr \"cm\"\n",
            "  .. ..$ UnitType: int 4\n",
            "  ..$ Ice                     :'data.frame':\t1 obs. of  3 variables:\n",
            "  .. ..$ Value   : num 0\n",
            "  .. ..$ Unit    : chr \"mm\"\n",
            "  .. ..$ UnitType: int 3\n",
            "  ..$ HoursOfPrecipitation    : num 0\n",
            "  ..$ HoursOfRain             : num 0\n",
            "  ..$ HoursOfSnow             : num 0\n",
            "  ..$ HoursOfIce              : num 0\n",
            "  ..$ CloudCover              : int 1\n",
            " $ Sources                 :List of 1\n",
            "  ..$ : chr \"AccuWeather\"\n",
            " $ MobileLink              : chr \"http://m.accuweather.com/es/cl/macul/60412/daily-weather-forecast/60412?day=1&unit=c\"\n",
            " $ Link                    : chr \"http://www.accuweather.com/es/cl/macul/60412/daily-weather-forecast/60412?day=1&unit=c\"\n"
          ],
          "name": "stdout"
        }
      ]
    },
    {
      "cell_type": "code",
      "metadata": {
        "id": "cyupxm4qrIJ8",
        "outputId": "ea0aeeae-0757-42ab-e0b8-79113db6c8f2",
        "colab": {
          "base_uri": "https://localhost:8080/",
          "height": 35
        }
      },
      "source": [
        "content_from_json$DailyForecasts$Temperature$Minimum$Value"
      ],
      "execution_count": 31,
      "outputs": [
        {
          "output_type": "display_data",
          "data": {
            "text/plain": [
              "[1] 6.7"
            ],
            "text/latex": "6.7",
            "text/markdown": "6.7",
            "text/html": [
              "6.7"
            ]
          },
          "metadata": {
            "tags": []
          }
        }
      ]
    },
    {
      "cell_type": "code",
      "metadata": {
        "id": "rrZmatwiqNj9",
        "outputId": "9eb50f0a-7aca-4528-c280-f11b7de5ea66",
        "colab": {
          "base_uri": "https://localhost:8080/",
          "height": 99
        }
      },
      "source": [
        "content_from_json$DailyForecasts$Temperature$Minimum"
      ],
      "execution_count": 32,
      "outputs": [
        {
          "output_type": "display_data",
          "data": {
            "text/plain": [
              "  Value Unit UnitType\n",
              "1 6.7   C    17      "
            ],
            "text/latex": "A data.frame: 1 × 3\n\\begin{tabular}{r|lll}\n  & Value & Unit & UnitType\\\\\n  & <dbl> & <chr> & <int>\\\\\n\\hline\n\t1 & 6.7 & C & 17\\\\\n\\end{tabular}\n",
            "text/markdown": "\nA data.frame: 1 × 3\n\n| <!--/--> | Value &lt;dbl&gt; | Unit &lt;chr&gt; | UnitType &lt;int&gt; |\n|---|---|---|---|\n| 1 | 6.7 | C | 17 |\n\n",
            "text/html": [
              "<table>\n",
              "<caption>A data.frame: 1 × 3</caption>\n",
              "<thead>\n",
              "\t<tr><th></th><th scope=col>Value</th><th scope=col>Unit</th><th scope=col>UnitType</th></tr>\n",
              "\t<tr><th></th><th scope=col>&lt;dbl&gt;</th><th scope=col>&lt;chr&gt;</th><th scope=col>&lt;int&gt;</th></tr>\n",
              "</thead>\n",
              "<tbody>\n",
              "\t<tr><th scope=row>1</th><td>6.7</td><td>C</td><td>17</td></tr>\n",
              "</tbody>\n",
              "</table>\n"
            ]
          },
          "metadata": {
            "tags": []
          }
        }
      ]
    },
    {
      "cell_type": "markdown",
      "metadata": {
        "id": "V2omt2xissn7"
      },
      "source": [
        "Utilzamos la API para buscar las locations KEY de Accuweather"
      ]
    },
    {
      "cell_type": "code",
      "metadata": {
        "id": "NlqaDbylmX3w"
      },
      "source": [
        "url2 <-\"http://dataservice.accuweather.com/locations/v1/cities/search\""
      ],
      "execution_count": 35,
      "outputs": []
    },
    {
      "cell_type": "code",
      "metadata": {
        "id": "9WqRCIQFmX2E"
      },
      "source": [
        "result <- GET(url2,\n",
        "                  query = list(apikey = \"0lsaxvHGpLIdb2GDw5LhZwCtg3xZRKxu\",\n",
        "                               q = \"Santiago de Chile\",\n",
        "                               language = \"es-ES\",\n",
        "                               detais = \"true\" )\n",
        "                  )"
      ],
      "execution_count": 47,
      "outputs": []
    },
    {
      "cell_type": "code",
      "metadata": {
        "id": "-RU-J5OnmX0k",
        "outputId": "a8bffb67-20b8-45bc-8fd2-9e5470bf6a00",
        "colab": {
          "base_uri": "https://localhost:8080/",
          "height": 128
        }
      },
      "source": [
        "result"
      ],
      "execution_count": 48,
      "outputs": [
        {
          "output_type": "display_data",
          "data": {
            "text/plain": [
              "Response [http://dataservice.accuweather.com/locations/v1/cities/search?apikey=0lsaxvHGpLIdb2GDw5LhZwCtg3xZRKxu&q=Santiago%20de%20Chile&language=es-ES&detais=true]\n",
              "  Date: 2020-10-09 18:59\n",
              "  Status: 200\n",
              "  Content-Type: application/json; charset=utf-8\n",
              "  Size: 990 B\n"
            ]
          },
          "metadata": {
            "tags": []
          }
        }
      ]
    },
    {
      "cell_type": "code",
      "metadata": {
        "id": "tRpozLD_mXwD"
      },
      "source": [
        "# transformamos el contenido de la respuesta\n",
        "text_content2 <- content(result, as = \"text\")"
      ],
      "execution_count": 49,
      "outputs": []
    },
    {
      "cell_type": "code",
      "metadata": {
        "id": "MVif3WoxtoIS"
      },
      "source": [
        "# El json que está como texto lo transformamos a lista\n",
        "content_from_json2 <- fromJSON(text_content2)"
      ],
      "execution_count": 50,
      "outputs": []
    },
    {
      "cell_type": "code",
      "metadata": {
        "id": "_2_l6MrKt1Zv",
        "outputId": "c856f2ed-d0ab-49a8-be39-d9673e633d5a",
        "colab": {
          "base_uri": "https://localhost:8080/",
          "height": 961
        }
      },
      "source": [
        "names(content_from_json2)\n",
        "str(content_from_json2)"
      ],
      "execution_count": 51,
      "outputs": [
        {
          "output_type": "display_data",
          "data": {
            "text/plain": [
              " [1] \"Version\"                \"Key\"                    \"Type\"                  \n",
              " [4] \"Rank\"                   \"LocalizedName\"          \"EnglishName\"           \n",
              " [7] \"PrimaryPostalCode\"      \"Region\"                 \"Country\"               \n",
              "[10] \"AdministrativeArea\"     \"TimeZone\"               \"GeoPosition\"           \n",
              "[13] \"IsAlias\"                \"SupplementalAdminAreas\" \"DataSets\"              "
            ],
            "text/latex": "\\begin{enumerate*}\n\\item 'Version'\n\\item 'Key'\n\\item 'Type'\n\\item 'Rank'\n\\item 'LocalizedName'\n\\item 'EnglishName'\n\\item 'PrimaryPostalCode'\n\\item 'Region'\n\\item 'Country'\n\\item 'AdministrativeArea'\n\\item 'TimeZone'\n\\item 'GeoPosition'\n\\item 'IsAlias'\n\\item 'SupplementalAdminAreas'\n\\item 'DataSets'\n\\end{enumerate*}\n",
            "text/markdown": "1. 'Version'\n2. 'Key'\n3. 'Type'\n4. 'Rank'\n5. 'LocalizedName'\n6. 'EnglishName'\n7. 'PrimaryPostalCode'\n8. 'Region'\n9. 'Country'\n10. 'AdministrativeArea'\n11. 'TimeZone'\n12. 'GeoPosition'\n13. 'IsAlias'\n14. 'SupplementalAdminAreas'\n15. 'DataSets'\n\n\n",
            "text/html": [
              "<style>\n",
              ".list-inline {list-style: none; margin:0; padding: 0}\n",
              ".list-inline>li {display: inline-block}\n",
              ".list-inline>li:not(:last-child)::after {content: \"\\00b7\"; padding: 0 .5ex}\n",
              "</style>\n",
              "<ol class=list-inline><li>'Version'</li><li>'Key'</li><li>'Type'</li><li>'Rank'</li><li>'LocalizedName'</li><li>'EnglishName'</li><li>'PrimaryPostalCode'</li><li>'Region'</li><li>'Country'</li><li>'AdministrativeArea'</li><li>'TimeZone'</li><li>'GeoPosition'</li><li>'IsAlias'</li><li>'SupplementalAdminAreas'</li><li>'DataSets'</li></ol>\n"
            ]
          },
          "metadata": {
            "tags": []
          }
        },
        {
          "output_type": "stream",
          "text": [
            "'data.frame':\t1 obs. of  15 variables:\n",
            " $ Version               : int 1\n",
            " $ Key                   : chr \"60449\"\n",
            " $ Type                  : chr \"City\"\n",
            " $ Rank                  : int 10\n",
            " $ LocalizedName         : chr \"Santiago de Chile\"\n",
            " $ EnglishName           : chr \"Santiago\"\n",
            " $ PrimaryPostalCode     : chr \"\"\n",
            " $ Region                :'data.frame':\t1 obs. of  3 variables:\n",
            "  ..$ ID           : chr \"SAM\"\n",
            "  ..$ LocalizedName: chr \"América del Sur\"\n",
            "  ..$ EnglishName  : chr \"South America\"\n",
            " $ Country               :'data.frame':\t1 obs. of  3 variables:\n",
            "  ..$ ID           : chr \"CL\"\n",
            "  ..$ LocalizedName: chr \"Chile\"\n",
            "  ..$ EnglishName  : chr \"Chile\"\n",
            " $ AdministrativeArea    :'data.frame':\t1 obs. of  7 variables:\n",
            "  ..$ ID           : chr \"RM\"\n",
            "  ..$ LocalizedName: chr \"Región Metropolitana de Santiago\"\n",
            "  ..$ EnglishName  : chr \"Región Metropolitana de Santiago\"\n",
            "  ..$ Level        : int 1\n",
            "  ..$ LocalizedType: chr \"Región\"\n",
            "  ..$ EnglishType  : chr \"Region\"\n",
            "  ..$ CountryID    : chr \"CL\"\n",
            " $ TimeZone              :'data.frame':\t1 obs. of  5 variables:\n",
            "  ..$ Code            : chr \"CLST\"\n",
            "  ..$ Name            : chr \"America/Santiago\"\n",
            "  ..$ GmtOffset       : num -3\n",
            "  ..$ IsDaylightSaving: logi TRUE\n",
            "  ..$ NextOffsetChange: chr \"2021-04-04T03:00:00Z\"\n",
            " $ GeoPosition           :'data.frame':\t1 obs. of  3 variables:\n",
            "  ..$ Latitude : num -33.4\n",
            "  ..$ Longitude: num -70.7\n",
            "  ..$ Elevation:'data.frame':\t1 obs. of  2 variables:\n",
            "  .. ..$ Metric  :'data.frame':\t1 obs. of  3 variables:\n",
            "  .. .. ..$ Value   : num 522\n",
            "  .. .. ..$ Unit    : chr \"m\"\n",
            "  .. .. ..$ UnitType: int 5\n",
            "  .. ..$ Imperial:'data.frame':\t1 obs. of  3 variables:\n",
            "  .. .. ..$ Value   : num 1712\n",
            "  .. .. ..$ Unit    : chr \"ft\"\n",
            "  .. .. ..$ UnitType: int 0\n",
            " $ IsAlias               : logi FALSE\n",
            " $ SupplementalAdminAreas:List of 1\n",
            "  ..$ :'data.frame':\t1 obs. of  3 variables:\n",
            "  .. ..$ Level        : int 2\n",
            "  .. ..$ LocalizedName: chr \"Santiago\"\n",
            "  .. ..$ EnglishName  : chr \"Santiago\"\n",
            " $ DataSets              :List of 1\n",
            "  ..$ : chr  \"AirQualityCurrentConditions\" \"AirQualityForecasts\" \"Radar\"\n"
          ],
          "name": "stdout"
        }
      ]
    },
    {
      "cell_type": "code",
      "metadata": {
        "id": "cAx4A02FuURy",
        "outputId": "e0b6c5f2-d95b-483a-aec8-4600e9101bf7",
        "colab": {
          "base_uri": "https://localhost:8080/",
          "height": 134
        }
      },
      "source": [
        "content_from_json2$LocalizedName\n",
        "content_from_json2$Country\n",
        "content_from_json2$Key"
      ],
      "execution_count": 52,
      "outputs": [
        {
          "output_type": "display_data",
          "data": {
            "text/plain": [
              "[1] \"Santiago de Chile\""
            ],
            "text/latex": "'Santiago de Chile'",
            "text/markdown": "'Santiago de Chile'",
            "text/html": [
              "'Santiago de Chile'"
            ]
          },
          "metadata": {
            "tags": []
          }
        },
        {
          "output_type": "display_data",
          "data": {
            "text/plain": [
              "  ID LocalizedName EnglishName\n",
              "1 CL Chile         Chile      "
            ],
            "text/latex": "A data.frame: 1 × 3\n\\begin{tabular}{r|lll}\n  & ID & LocalizedName & EnglishName\\\\\n  & <chr> & <chr> & <chr>\\\\\n\\hline\n\t1 & CL & Chile & Chile\\\\\n\\end{tabular}\n",
            "text/markdown": "\nA data.frame: 1 × 3\n\n| <!--/--> | ID &lt;chr&gt; | LocalizedName &lt;chr&gt; | EnglishName &lt;chr&gt; |\n|---|---|---|---|\n| 1 | CL | Chile | Chile |\n\n",
            "text/html": [
              "<table>\n",
              "<caption>A data.frame: 1 × 3</caption>\n",
              "<thead>\n",
              "\t<tr><th></th><th scope=col>ID</th><th scope=col>LocalizedName</th><th scope=col>EnglishName</th></tr>\n",
              "\t<tr><th></th><th scope=col>&lt;chr&gt;</th><th scope=col>&lt;chr&gt;</th><th scope=col>&lt;chr&gt;</th></tr>\n",
              "</thead>\n",
              "<tbody>\n",
              "\t<tr><th scope=row>1</th><td>CL</td><td>Chile</td><td>Chile</td></tr>\n",
              "</tbody>\n",
              "</table>\n"
            ]
          },
          "metadata": {
            "tags": []
          }
        },
        {
          "output_type": "display_data",
          "data": {
            "text/plain": [
              "[1] \"60449\""
            ],
            "text/latex": "'60449'",
            "text/markdown": "'60449'",
            "text/html": [
              "'60449'"
            ]
          },
          "metadata": {
            "tags": []
          }
        }
      ]
    }
  ]
}