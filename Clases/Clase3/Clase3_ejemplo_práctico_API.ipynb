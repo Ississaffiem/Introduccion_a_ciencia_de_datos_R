{
  "nbformat": 4,
  "nbformat_minor": 0,
  "metadata": {
    "colab": {
      "name": "Clase3_ejemplo_práctico_API.ipynb",
      "provenance": [],
      "authorship_tag": "ABX9TyMPXp+QGFH/huIDPBxF9Dae",
      "include_colab_link": true
    },
    "kernelspec": {
      "name": "ir",
      "display_name": "R"
    }
  },
  "cells": [
    {
      "cell_type": "markdown",
      "metadata": {
        "id": "view-in-github",
        "colab_type": "text"
      },
      "source": [
        "<a href=\"https://colab.research.google.com/github/majorquev/Introduccion_a_ciencia_de_datos_R/blob/master/Clases/Clase3/Clase3_ejemplo_pr%C3%A1ctico_API.ipynb\" target=\"_parent\"><img src=\"https://colab.research.google.com/assets/colab-badge.svg\" alt=\"Open In Colab\"/></a>"
      ]
    },
    {
      "cell_type": "markdown",
      "metadata": {
        "id": "ShFak6gSQldy"
      },
      "source": [
        "# **Parte 3: Consumo de APIs con R**\n",
        "\n",
        "\n",
        "**Autor:** Miguel Jorquera Viguera<br>\n",
        "**E-mail:** majorquev@gmail.com<br>\n",
        "**Ayudante:** Bastián Aballay Leiva<br>\n",
        "**E-mail ayudante:** bastian.aballayleiva@gmail.com\n",
        "\n",
        "## **Ejemplo**\n",
        "Para este ejemplo utilizaremos la API de Accuweather para obtener información del clima.  \n",
        "Para ello necesitamos contar con los packages `httr` y `jsonlite`"
      ]
    },
    {
      "cell_type": "code",
      "metadata": {
        "id": "Jxgs6WwhRYZu"
      },
      "source": [
        ""
      ],
      "execution_count": null,
      "outputs": []
    }
  ]
}